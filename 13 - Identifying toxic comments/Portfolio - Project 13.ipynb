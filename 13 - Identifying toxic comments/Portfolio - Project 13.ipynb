{
 "cells": [
  {
   "cell_type": "markdown",
   "metadata": {},
   "source": [
    "# Описание проекта «Определение ''токсичных'' комментариев»"
   ]
  },
  {
   "cell_type": "markdown",
   "metadata": {},
   "source": [
    "**Дано:**\n",
    "Набор данных (комментарии пользователей к товарам в интеренет-магазине) с разметкой о токсичности: столбец `text` содержит текст комментария, а `toxic` — целевой признак.\n",
    "\n",
    "**Требуется:**\n",
    "Модель для классифицирования комментариев на позитивные и негативные со значением метрики качества `F1` не меньше `0.75`"
   ]
  },
  {
   "cell_type": "markdown",
   "metadata": {
    "toc": true
   },
   "source": [
    "<h1>Содержание<span class=\"tocSkip\"></span></h1>\n",
    "<div class=\"toc\"><ul class=\"toc-item\"><li><span><a href=\"#Подготовка\" data-toc-modified-id=\"Подготовка-1\"><span class=\"toc-item-num\">1&nbsp;&nbsp;</span>Подготовка</a></span><ul class=\"toc-item\"><li><span><a href=\"#Импорт-инструментария\" data-toc-modified-id=\"Импорт-инструментария-1.1\"><span class=\"toc-item-num\">1.1&nbsp;&nbsp;</span>Импорт инструментария</a></span></li><li><span><a href=\"#Глобальные-константы\" data-toc-modified-id=\"Глобальные-константы-1.2\"><span class=\"toc-item-num\">1.2&nbsp;&nbsp;</span>Глобальные константы</a></span></li><li><span><a href=\"#Функции\" data-toc-modified-id=\"Функции-1.3\"><span class=\"toc-item-num\">1.3&nbsp;&nbsp;</span>Функции</a></span></li><li><span><a href=\"#Обзор-исходных-данных\" data-toc-modified-id=\"Обзор-исходных-данных-1.4\"><span class=\"toc-item-num\">1.4&nbsp;&nbsp;</span>Обзор исходных данных</a></span></li></ul></li><li><span><a href=\"#Моделирование\" data-toc-modified-id=\"Моделирование-2\"><span class=\"toc-item-num\">2&nbsp;&nbsp;</span>Моделирование</a></span><ul class=\"toc-item\"><li><span><a href=\"#Логистическая-регрессия\" data-toc-modified-id=\"Логистическая-регрессия-2.1\"><span class=\"toc-item-num\">2.1&nbsp;&nbsp;</span>Логистическая регрессия</a></span></li><li><span><a href=\"#Дерево-решений\" data-toc-modified-id=\"Дерево-решений-2.2\"><span class=\"toc-item-num\">2.2&nbsp;&nbsp;</span>Дерево решений</a></span></li><li><span><a href=\"#Случайный-лес\" data-toc-modified-id=\"Случайный-лес-2.3\"><span class=\"toc-item-num\">2.3&nbsp;&nbsp;</span>Случайный лес</a></span></li><li><span><a href=\"#Градиентный-бустинг\" data-toc-modified-id=\"Градиентный-бустинг-2.4\"><span class=\"toc-item-num\">2.4&nbsp;&nbsp;</span>Градиентный бустинг</a></span></li></ul></li><li><span><a href=\"#Тестирование\" data-toc-modified-id=\"Тестирование-3\"><span class=\"toc-item-num\">3&nbsp;&nbsp;</span>Тестирование</a></span></li></ul></div>"
   ]
  },
  {
   "cell_type": "markdown",
   "metadata": {},
   "source": [
    "## Подготовка"
   ]
  },
  {
   "cell_type": "markdown",
   "metadata": {},
   "source": [
    "### Импорт инструментария"
   ]
  },
  {
   "cell_type": "code",
   "execution_count": 1,
   "metadata": {},
   "outputs": [],
   "source": [
    "import pandas as pd\n",
    "import nltk\n",
    "import re\n",
    "import warnings\n",
    "warnings.filterwarnings('ignore')\n",
    "\n",
    "from tqdm                            import tqdm\n",
    "\n",
    "from pymystem3                       import Mystem\n",
    "\n",
    "from nltk.corpus                     import stopwords as nltk_stopwords\n",
    "\n",
    "from sklearn.feature_extraction.text import TfidfVectorizer\n",
    "from sklearn.model_selection         import train_test_split\n",
    "from sklearn.linear_model            import LogisticRegression\n",
    "from sklearn.tree                    import DecisionTreeClassifier\n",
    "from sklearn.ensemble                import RandomForestClassifier\n",
    "from sklearn.ensemble                import GradientBoostingClassifier\n",
    "from sklearn.model_selection         import cross_val_score\n",
    "from sklearn.metrics                 import f1_score"
   ]
  },
  {
   "cell_type": "markdown",
   "metadata": {},
   "source": [
    "### Глобальные константы"
   ]
  },
  {
   "cell_type": "code",
   "execution_count": 2,
   "metadata": {},
   "outputs": [],
   "source": [
    "RND_ST   = 12345      # значение параметра варианта рандомизации\n",
    "CV       = 3          # кратность разбиения данных при кросс-валидации"
   ]
  },
  {
   "cell_type": "markdown",
   "metadata": {},
   "source": [
    "### Функции"
   ]
  },
  {
   "cell_type": "markdown",
   "metadata": {},
   "source": [
    "Функция для очистки текста от ненужных символов"
   ]
  },
  {
   "cell_type": "code",
   "execution_count": 3,
   "metadata": {},
   "outputs": [],
   "source": [
    "def clear_text(text):\n",
    "    return \" \".join(re.sub(r'[^a-zA-Z ]', ' ', text).split())"
   ]
  },
  {
   "cell_type": "markdown",
   "metadata": {},
   "source": [
    "Функция для лемматизации текста"
   ]
  },
  {
   "cell_type": "code",
   "execution_count": 4,
   "metadata": {},
   "outputs": [],
   "source": [
    "def lemmatize(text):\n",
    "    words = text.lower().split()\n",
    "    lemm_list = []\n",
    "    for word in words:\n",
    "        wnl = nltk.WordNetLemmatizer()\n",
    "        lemm_word = wnl.lemmatize(word)\n",
    "        lemm_list.append(lemm_word)\n",
    "    lemm_text = ' '.join(lemm_list)\n",
    "      \n",
    "    return lemm_text"
   ]
  },
  {
   "cell_type": "markdown",
   "metadata": {},
   "source": [
    "### Обзор исходных данных"
   ]
  },
  {
   "cell_type": "code",
   "execution_count": 5,
   "metadata": {},
   "outputs": [],
   "source": [
    "df = pd.read_csv('/datasets/toxic_comments.csv')"
   ]
  },
  {
   "cell_type": "code",
   "execution_count": 6,
   "metadata": {},
   "outputs": [
    {
     "data": {
      "text/html": [
       "<div>\n",
       "<style scoped>\n",
       "    .dataframe tbody tr th:only-of-type {\n",
       "        vertical-align: middle;\n",
       "    }\n",
       "\n",
       "    .dataframe tbody tr th {\n",
       "        vertical-align: top;\n",
       "    }\n",
       "\n",
       "    .dataframe thead th {\n",
       "        text-align: right;\n",
       "    }\n",
       "</style>\n",
       "<table border=\"1\" class=\"dataframe\">\n",
       "  <thead>\n",
       "    <tr style=\"text-align: right;\">\n",
       "      <th></th>\n",
       "      <th>Unnamed: 0</th>\n",
       "      <th>text</th>\n",
       "      <th>toxic</th>\n",
       "    </tr>\n",
       "  </thead>\n",
       "  <tbody>\n",
       "    <tr>\n",
       "      <th>0</th>\n",
       "      <td>0</td>\n",
       "      <td>Explanation\\nWhy the edits made under my usern...</td>\n",
       "      <td>0</td>\n",
       "    </tr>\n",
       "    <tr>\n",
       "      <th>1</th>\n",
       "      <td>1</td>\n",
       "      <td>D'aww! He matches this background colour I'm s...</td>\n",
       "      <td>0</td>\n",
       "    </tr>\n",
       "    <tr>\n",
       "      <th>2</th>\n",
       "      <td>2</td>\n",
       "      <td>Hey man, I'm really not trying to edit war. It...</td>\n",
       "      <td>0</td>\n",
       "    </tr>\n",
       "    <tr>\n",
       "      <th>3</th>\n",
       "      <td>3</td>\n",
       "      <td>\"\\nMore\\nI can't make any real suggestions on ...</td>\n",
       "      <td>0</td>\n",
       "    </tr>\n",
       "    <tr>\n",
       "      <th>4</th>\n",
       "      <td>4</td>\n",
       "      <td>You, sir, are my hero. Any chance you remember...</td>\n",
       "      <td>0</td>\n",
       "    </tr>\n",
       "  </tbody>\n",
       "</table>\n",
       "</div>"
      ],
      "text/plain": [
       "   Unnamed: 0                                               text  toxic\n",
       "0           0  Explanation\\nWhy the edits made under my usern...      0\n",
       "1           1  D'aww! He matches this background colour I'm s...      0\n",
       "2           2  Hey man, I'm really not trying to edit war. It...      0\n",
       "3           3  \"\\nMore\\nI can't make any real suggestions on ...      0\n",
       "4           4  You, sir, are my hero. Any chance you remember...      0"
      ]
     },
     "execution_count": 6,
     "metadata": {},
     "output_type": "execute_result"
    }
   ],
   "source": [
    "df.head()"
   ]
  },
  {
   "cell_type": "code",
   "execution_count": 7,
   "metadata": {},
   "outputs": [
    {
     "name": "stdout",
     "output_type": "stream",
     "text": [
      "<class 'pandas.core.frame.DataFrame'>\n",
      "RangeIndex: 159292 entries, 0 to 159291\n",
      "Data columns (total 3 columns):\n",
      " #   Column      Non-Null Count   Dtype \n",
      "---  ------      --------------   ----- \n",
      " 0   Unnamed: 0  159292 non-null  int64 \n",
      " 1   text        159292 non-null  object\n",
      " 2   toxic       159292 non-null  int64 \n",
      "dtypes: int64(2), object(1)\n",
      "memory usage: 3.6+ MB\n"
     ]
    }
   ],
   "source": [
    "df.info()"
   ]
  },
  {
   "cell_type": "code",
   "execution_count": 8,
   "metadata": {
    "scrolled": true
   },
   "outputs": [
    {
     "data": {
      "text/plain": [
       "Unnamed: 0    0\n",
       "text          0\n",
       "toxic         0\n",
       "dtype: int64"
      ]
     },
     "execution_count": 8,
     "metadata": {},
     "output_type": "execute_result"
    }
   ],
   "source": [
    "df.isna().sum()"
   ]
  },
  {
   "cell_type": "code",
   "execution_count": 9,
   "metadata": {},
   "outputs": [
    {
     "data": {
      "text/plain": [
       "0"
      ]
     },
     "execution_count": 9,
     "metadata": {},
     "output_type": "execute_result"
    }
   ],
   "source": [
    "df.duplicated().sum()"
   ]
  },
  {
   "cell_type": "code",
   "execution_count": 10,
   "metadata": {
    "scrolled": true
   },
   "outputs": [
    {
     "data": {
      "text/plain": [
       "0    143106\n",
       "1     16186\n",
       "Name: toxic, dtype: int64"
      ]
     },
     "execution_count": 10,
     "metadata": {},
     "output_type": "execute_result"
    }
   ],
   "source": [
    "df['toxic'].value_counts()"
   ]
  },
  {
   "cell_type": "code",
   "execution_count": 11,
   "metadata": {},
   "outputs": [
    {
     "data": {
      "text/plain": [
       "0.10161213369158527"
      ]
     },
     "execution_count": 11,
     "metadata": {},
     "output_type": "execute_result"
    }
   ],
   "source": [
    "df['toxic'].mean()"
   ]
  },
  {
   "cell_type": "markdown",
   "metadata": {},
   "source": [
    "**Замечания:**\n",
    "* в исходных данных отсутствуют явные пропуски;\n",
    "* в исходных данных отсутствуют полные дубликаты;\n",
    "* по сути задача является задачей бинарной классификации;\n",
    "* распределение классов в данных неравномерно (примерно `1` к `9`)"
   ]
  },
  {
   "cell_type": "markdown",
   "metadata": {},
   "source": [
    "# Выводы\n",
    "* исходные данные качественные;\n",
    "* общая предъобработка не требуется"
   ]
  },
  {
   "cell_type": "markdown",
   "metadata": {},
   "source": [
    "## Моделирование"
   ]
  },
  {
   "cell_type": "markdown",
   "metadata": {},
   "source": [
    "Тренировочная и тестовая выборки"
   ]
  },
  {
   "cell_type": "code",
   "execution_count": 12,
   "metadata": {
    "scrolled": true
   },
   "outputs": [
    {
     "name": "stdout",
     "output_type": "stream",
     "text": [
      "Доля `токсичных` ответов в общей выборке:         10.16%\n",
      "Доля `токсичных` ответов в тренировочной выборке: 10.15%\n",
      "Доля `токсичных` ответов в тестовой выборке:      10.24%\n"
     ]
    }
   ],
   "source": [
    "train, test = train_test_split(df,\n",
    "                               test_size   =0.15,\n",
    "                               random_state=RND_ST)\n",
    "\n",
    "print('Доля `токсичных` ответов в общей выборке:         {:.2%}'.format(df   ['toxic'].mean()))\n",
    "print('Доля `токсичных` ответов в тренировочной выборке: {:.2%}'.format(train['toxic'].mean()))\n",
    "print('Доля `токсичных` ответов в тестовой выборке:      {:.2%}'.format(test ['toxic'].mean()))"
   ]
  },
  {
   "cell_type": "code",
   "execution_count": 13,
   "metadata": {},
   "outputs": [
    {
     "name": "stderr",
     "output_type": "stream",
     "text": [
      "100%|██████████| 135398/135398 [00:30<00:00, 4416.94it/s]\n",
      "100%|██████████| 23894/23894 [00:05<00:00, 4476.23it/s]\n"
     ]
    }
   ],
   "source": [
    "corpus_train = train['text'].tolist()\n",
    "corpus_test  = test ['text'].tolist()\n",
    "\n",
    "for i in tqdm(range(len(corpus_train))):\n",
    "    corpus_train[i] = lemmatize(clear_text(corpus_train[i]))\n",
    "for i in tqdm(range(len(corpus_test ))):\n",
    "    corpus_test[i]  = lemmatize(clear_text(corpus_test[i] ))\n",
    "\n",
    "train['lemm_text'] = pd.Series(data =corpus_train,\n",
    "                               index=train.index)\n",
    "test ['lemm_text'] = pd.Series(data =corpus_test,\n",
    "                               index=test .index)"
   ]
  },
  {
   "cell_type": "markdown",
   "metadata": {},
   "source": [
    "Векторизация текста и выделение признаков"
   ]
  },
  {
   "cell_type": "code",
   "execution_count": 14,
   "metadata": {},
   "outputs": [
    {
     "name": "stderr",
     "output_type": "stream",
     "text": [
      "[nltk_data] Downloading package stopwords to /home/jovyan/nltk_data...\n",
      "[nltk_data]   Package stopwords is already up-to-date!\n"
     ]
    }
   ],
   "source": [
    "nltk.download('stopwords')\n",
    "stopwords    = set(nltk_stopwords.words('english'))\n",
    "\n",
    "count_tf_idf = TfidfVectorizer(stop_words=stopwords)"
   ]
  },
  {
   "cell_type": "code",
   "execution_count": 15,
   "metadata": {},
   "outputs": [],
   "source": [
    "features_train = count_tf_idf.fit_transform(train['lemm_text'])\n",
    "features_test  = count_tf_idf.transform    (test ['lemm_text'])\n",
    "\n",
    "target_train   = train['toxic']\n",
    "target_test    = test ['toxic']"
   ]
  },
  {
   "cell_type": "code",
   "execution_count": 16,
   "metadata": {
    "scrolled": true
   },
   "outputs": [
    {
     "data": {
      "text/plain": [
       "(135398, 143577)"
      ]
     },
     "execution_count": 16,
     "metadata": {},
     "output_type": "execute_result"
    }
   ],
   "source": [
    "features_train.shape"
   ]
  },
  {
   "cell_type": "markdown",
   "metadata": {},
   "source": [
    "### Логистическая регрессия"
   ]
  },
  {
   "cell_type": "code",
   "execution_count": 17,
   "metadata": {},
   "outputs": [],
   "source": [
    "f1_lr_train = cross_val_score(estimator  =LogisticRegression(random_state=RND_ST),\n",
    "                              X          =features_train,\n",
    "                              y          =target_train,\n",
    "                              cv         =CV,\n",
    "                              scoring    ='f1',\n",
    "                              error_score='raise')"
   ]
  },
  {
   "cell_type": "code",
   "execution_count": 18,
   "metadata": {},
   "outputs": [
    {
     "name": "stdout",
     "output_type": "stream",
     "text": [
      "Среднее качество модели `Логистической регрессии` на обучающей выборке при кросс-валидации: 70.43%\n"
     ]
    }
   ],
   "source": [
    "print('Среднее качество модели `Логистической регрессии` на обучающей выборке при кросс-валидации: {:.2%}'\n",
    "      .format(f1_lr_train.mean())\n",
    "     )"
   ]
  },
  {
   "cell_type": "code",
   "execution_count": 19,
   "metadata": {},
   "outputs": [],
   "source": [
    "f1_lr_train = cross_val_score(estimator  =LogisticRegression(random_state=RND_ST,\n",
    "                                                             class_weight='balanced'),\n",
    "                              X          =features_train,\n",
    "                              y          =target_train,\n",
    "                              cv         =CV,\n",
    "                              scoring    ='f1',\n",
    "                              error_score='raise')"
   ]
  },
  {
   "cell_type": "code",
   "execution_count": 20,
   "metadata": {},
   "outputs": [
    {
     "name": "stdout",
     "output_type": "stream",
     "text": [
      "Среднее качество модели `Логистической регрессии` на обучающей выборке с балансировкой классов при кросс-валидации: 74.71%\n"
     ]
    }
   ],
   "source": [
    "print('Среднее качество модели `Логистической регрессии` на обучающей выборке с балансировкой классов при кросс-валидации: {:.2%}'\n",
    "      .format(f1_lr_train.mean())\n",
    "     )"
   ]
  },
  {
   "cell_type": "markdown",
   "metadata": {},
   "source": [
    "### Дерево решений"
   ]
  },
  {
   "cell_type": "code",
   "execution_count": 21,
   "metadata": {},
   "outputs": [],
   "source": [
    "best_mean_f1_dtc = 0\n",
    "best_depth_dtc   = 0"
   ]
  },
  {
   "cell_type": "code",
   "execution_count": 22,
   "metadata": {},
   "outputs": [
    {
     "name": "stderr",
     "output_type": "stream",
     "text": [
      "100%|██████████| 8/8 [02:50<00:00, 21.35s/it]\n"
     ]
    }
   ],
   "source": [
    "for depth in tqdm(range(3, 11)):\n",
    "    mean_f1 = cross_val_score(estimator  =DecisionTreeClassifier(random_state=RND_ST,\n",
    "                                                                 max_depth   =depth),\n",
    "                              X          =features_train,\n",
    "                              y          =target_train,\n",
    "                              cv         =CV,\n",
    "                              scoring    ='f1',\n",
    "                              error_score='raise'\n",
    "                             ).mean()\n",
    "        \n",
    "    if mean_f1 > best_mean_f1_dtc:\n",
    "        best_mean_f1_dtc = mean_f1\n",
    "        best_depth_dtc   = depth"
   ]
  },
  {
   "cell_type": "code",
   "execution_count": 23,
   "metadata": {},
   "outputs": [
    {
     "name": "stdout",
     "output_type": "stream",
     "text": [
      "----- Лучший результат -----\n",
      "Среднее значение F1:   0.59\n",
      "Глубина дерева:        10\n"
     ]
    }
   ],
   "source": [
    "print('----- Лучший результат -----')\n",
    "print('Среднее значение F1:   {:.2f}'.format(best_mean_f1_dtc))\n",
    "print('Глубина дерева:        {}'    .format(best_depth_dtc))"
   ]
  },
  {
   "cell_type": "markdown",
   "metadata": {},
   "source": [
    "### Случайный лес"
   ]
  },
  {
   "cell_type": "code",
   "execution_count": 24,
   "metadata": {},
   "outputs": [],
   "source": [
    "total_mean_f1_rfc      = 0\n",
    "total_depth_rfc        = 0\n",
    "total_n_estimators_rfc = 0"
   ]
  },
  {
   "cell_type": "code",
   "execution_count": 25,
   "metadata": {},
   "outputs": [
    {
     "name": "stderr",
     "output_type": "stream",
     "text": [
      "100%|██████████| 8/8 [00:29<00:00,  3.71s/it]\n"
     ]
    }
   ],
   "source": [
    "for depth in tqdm(range(3, 11)):\n",
    "    best_mean_f1      = 0\n",
    "    best_depth        = 0\n",
    "    best_n_estimators = 0\n",
    "        \n",
    "    for n_estimator in range(2, 5):\n",
    "        mean_f1 = cross_val_score(estimator  =RandomForestClassifier(random_state=RND_ST, \n",
    "                                                                     n_estimators=n_estimator, \n",
    "                                                                     max_depth   =depth),\n",
    "                                  X          =features_train,\n",
    "                                  y          =target_train,\n",
    "                                  cv         =CV,\n",
    "                                  scoring    ='f1',\n",
    "                                  error_score='raise'\n",
    "                                 ).mean()\n",
    "        \n",
    "        if mean_f1 > best_mean_f1:\n",
    "            best_mean_f1      = mean_f1\n",
    "            best_depth        = depth\n",
    "            best_n_estimators = n_estimator\n",
    "        \n",
    "    if best_mean_f1 > total_mean_f1_rfc:\n",
    "        total_mean_f1_rfc      = best_mean_f1\n",
    "        total_depth_rfc        = best_depth\n",
    "        total_n_estimators_rfc = best_n_estimators"
   ]
  },
  {
   "cell_type": "code",
   "execution_count": 26,
   "metadata": {},
   "outputs": [
    {
     "name": "stdout",
     "output_type": "stream",
     "text": [
      "----- Лучший результат -----\n",
      "Среднее значение F1:    0.04\n",
      "Глубина деревьев:       10\n",
      "Кол-во оценщиков:       2\n"
     ]
    }
   ],
   "source": [
    "print('----- Лучший результат -----')\n",
    "print('Среднее значение F1:    {:.2f}'.format(total_mean_f1_rfc))\n",
    "print('Глубина деревьев:       {}'    .format(total_depth_rfc))\n",
    "print('Кол-во оценщиков:       {}'    .format(total_n_estimators_rfc))"
   ]
  },
  {
   "cell_type": "markdown",
   "metadata": {},
   "source": [
    "### Градиентный бустинг"
   ]
  },
  {
   "cell_type": "code",
   "execution_count": 27,
   "metadata": {},
   "outputs": [],
   "source": [
    "total_mean_f1_gbc      = 0\n",
    "total_depth_gbc        = 0\n",
    "total_n_estimators_gbc = 0"
   ]
  },
  {
   "cell_type": "code",
   "execution_count": 28,
   "metadata": {},
   "outputs": [
    {
     "name": "stderr",
     "output_type": "stream",
     "text": [
      "100%|██████████| 8/8 [46:44<00:00, 350.55s/it]\n"
     ]
    }
   ],
   "source": [
    "for depth in tqdm(range(3, 11)):\n",
    "    best_mean_f1      = 0\n",
    "    best_depth        = 0\n",
    "    best_n_estimators = 0\n",
    "        \n",
    "    for n_estimator in range(2, 5):\n",
    "        mean_f1 = cross_val_score(estimator = GradientBoostingClassifier(learning_rate   =0.1,\n",
    "                                                                         n_estimators    =n_estimator,\n",
    "                                                                         subsample       =1.0,\n",
    "                                                                         max_depth       =depth,\n",
    "                                                                         random_state    =RND_ST,\n",
    "                                                                         verbose         =0,\n",
    "                                                                         max_leaf_nodes  =3,\n",
    "                                                                         n_iter_no_change=5,\n",
    "                                                                         tol             =0.0001),\n",
    "                                  X          =features_train,\n",
    "                                  y          =target_train,\n",
    "                                  cv         =CV,\n",
    "                                  scoring    ='f1',\n",
    "                                  error_score='raise'\n",
    "                                 ).mean()\n",
    "        \n",
    "        if mean_f1 > best_mean_f1:\n",
    "            best_mean_f1      = mean_f1\n",
    "            best_depth        = depth\n",
    "            best_n_estimators = n_estimator\n",
    "        \n",
    "    if best_mean_f1 > total_mean_f1_gbc:\n",
    "        total_mean_f1_gbc      = best_mean_f1\n",
    "        total_depth_gbc        = best_depth\n",
    "        total_n_estimators_gbc = best_n_estimators"
   ]
  },
  {
   "cell_type": "code",
   "execution_count": 29,
   "metadata": {},
   "outputs": [
    {
     "name": "stdout",
     "output_type": "stream",
     "text": [
      "----- Лучший результат -----\n",
      "Среднее значение F1:    0.02\n",
      "Глубина деревьев:       3\n",
      "Кол-во оценщиков:       4\n"
     ]
    }
   ],
   "source": [
    "print('----- Лучший результат -----')\n",
    "print('Среднее значение F1:    {:.2f}'.format(total_mean_f1_gbc))\n",
    "print('Глубина деревьев:       {}'    .format(total_depth_gbc))\n",
    "print('Кол-во оценщиков:       {}'    .format(total_n_estimators_gbc))"
   ]
  },
  {
   "cell_type": "markdown",
   "metadata": {},
   "source": [
    "## Тестирование"
   ]
  },
  {
   "cell_type": "markdown",
   "metadata": {},
   "source": [
    "Лучшее по качеству предсказание из рассмотренных моделей показала модель `Логистической регрессии` с балансировкой классов."
   ]
  },
  {
   "cell_type": "code",
   "execution_count": 30,
   "metadata": {},
   "outputs": [],
   "source": [
    "predict_lr_test = (LogisticRegression(random_state=RND_ST,\n",
    "                                      class_weight='balanced')\n",
    "                   .fit(features_train, target_train)\n",
    "                   .predict(features_test)\n",
    "                  )"
   ]
  },
  {
   "cell_type": "code",
   "execution_count": 31,
   "metadata": {
    "scrolled": false
   },
   "outputs": [
    {
     "data": {
      "text/plain": [
       "0.7543859649122807"
      ]
     },
     "execution_count": 31,
     "metadata": {},
     "output_type": "execute_result"
    }
   ],
   "source": [
    "f1_score(target_test, predict_lr_test)"
   ]
  },
  {
   "cell_type": "markdown",
   "metadata": {},
   "source": [
    "**Замечания:**\n",
    "* на тестовой выборке модель `Логистической регрессии` показа результат лучше, чем на тренировочной"
   ]
  },
  {
   "cell_type": "markdown",
   "metadata": {},
   "source": [
    "# Выводы\n",
    "* Из рассмотренных моделей наилучшие результаты показывает самая простая модель - модель `Логистической регрессии`\n",
    "* модель `Логистической регрессии` дает предсказания приемлемого качества"
   ]
  }
 ],
 "metadata": {
  "ExecuteTimeLog": [
   {
    "duration": 354,
    "start_time": "2022-06-14T08:38:13.219Z"
   },
   {
    "duration": 82,
    "start_time": "2022-06-14T08:38:54.269Z"
   },
   {
    "duration": 29,
    "start_time": "2022-06-14T08:38:59.040Z"
   },
   {
    "duration": 2903,
    "start_time": "2022-06-14T08:39:44.168Z"
   },
   {
    "duration": 30,
    "start_time": "2022-06-14T08:40:52.612Z"
   },
   {
    "duration": 20,
    "start_time": "2022-06-14T08:41:08.991Z"
   },
   {
    "duration": 18,
    "start_time": "2022-06-14T08:41:15.427Z"
   },
   {
    "duration": 49,
    "start_time": "2022-06-14T08:44:09.962Z"
   },
   {
    "duration": 338,
    "start_time": "2022-06-14T08:44:23.553Z"
   },
   {
    "duration": 695,
    "start_time": "2022-06-14T08:44:23.894Z"
   },
   {
    "duration": 30,
    "start_time": "2022-06-14T08:44:24.593Z"
   },
   {
    "duration": 8,
    "start_time": "2022-06-14T08:44:24.625Z"
   },
   {
    "duration": 23,
    "start_time": "2022-06-14T08:44:56.050Z"
   },
   {
    "duration": 838,
    "start_time": "2022-06-14T08:52:00.049Z"
   },
   {
    "duration": 12,
    "start_time": "2022-06-14T08:52:15.099Z"
   },
   {
    "duration": 191,
    "start_time": "2022-06-14T09:18:52.309Z"
   },
   {
    "duration": 47,
    "start_time": "2022-06-21T13:38:47.581Z"
   },
   {
    "duration": 1368,
    "start_time": "2022-06-21T13:38:56.391Z"
   },
   {
    "duration": 3,
    "start_time": "2022-06-21T13:38:57.761Z"
   },
   {
    "duration": 2422,
    "start_time": "2022-06-21T13:38:57.765Z"
   },
   {
    "duration": 13,
    "start_time": "2022-06-21T13:39:00.189Z"
   },
   {
    "duration": 39,
    "start_time": "2022-06-21T13:39:00.205Z"
   },
   {
    "duration": 4,
    "start_time": "2022-06-21T13:39:00.246Z"
   },
   {
    "duration": 246,
    "start_time": "2022-06-21T13:39:00.251Z"
   },
   {
    "duration": 34,
    "start_time": "2022-06-21T13:39:00.499Z"
   },
   {
    "duration": 643,
    "start_time": "2022-06-21T13:41:44.381Z"
   },
   {
    "duration": 110,
    "start_time": "2022-06-21T13:41:59.509Z"
   },
   {
    "duration": 32,
    "start_time": "2022-06-21T13:42:12.505Z"
   },
   {
    "duration": 6,
    "start_time": "2022-06-21T13:42:29.100Z"
   },
   {
    "duration": 11,
    "start_time": "2022-06-21T14:03:39.419Z"
   },
   {
    "duration": 3,
    "start_time": "2022-06-21T14:09:59.522Z"
   },
   {
    "duration": 205,
    "start_time": "2022-06-21T14:10:27.682Z"
   },
   {
    "duration": 2,
    "start_time": "2022-06-21T14:16:48.401Z"
   },
   {
    "duration": 9,
    "start_time": "2022-06-21T14:22:40.604Z"
   },
   {
    "duration": 11,
    "start_time": "2022-06-21T14:23:55.213Z"
   },
   {
    "duration": 3,
    "start_time": "2022-06-21T14:24:01.263Z"
   },
   {
    "duration": 18,
    "start_time": "2022-06-21T14:24:08.622Z"
   },
   {
    "duration": 11,
    "start_time": "2022-06-21T14:25:03.600Z"
   },
   {
    "duration": 11,
    "start_time": "2022-06-21T14:25:22.265Z"
   },
   {
    "duration": 329,
    "start_time": "2022-06-21T14:25:28.519Z"
   },
   {
    "duration": 88949,
    "start_time": "2022-06-21T14:26:17.957Z"
   },
   {
    "duration": 13,
    "start_time": "2022-06-21T14:28:14.613Z"
   },
   {
    "duration": 1987,
    "start_time": "2022-06-21T14:30:27.591Z"
   },
   {
    "duration": 1292,
    "start_time": "2022-06-21T14:31:49.218Z"
   },
   {
    "duration": 3,
    "start_time": "2022-06-21T14:31:50.512Z"
   },
   {
    "duration": 9,
    "start_time": "2022-06-21T14:31:50.516Z"
   },
   {
    "duration": 2334,
    "start_time": "2022-06-21T14:31:50.526Z"
   },
   {
    "duration": 12,
    "start_time": "2022-06-21T14:31:52.862Z"
   },
   {
    "duration": 32,
    "start_time": "2022-06-21T14:31:52.876Z"
   },
   {
    "duration": 27,
    "start_time": "2022-06-21T14:31:52.910Z"
   },
   {
    "duration": 234,
    "start_time": "2022-06-21T14:31:52.940Z"
   },
   {
    "duration": 6,
    "start_time": "2022-06-21T14:31:53.176Z"
   },
   {
    "duration": 10,
    "start_time": "2022-06-21T14:31:53.184Z"
   },
   {
    "duration": 6,
    "start_time": "2022-06-21T14:31:53.196Z"
   },
   {
    "duration": 8,
    "start_time": "2022-06-21T14:36:24.158Z"
   },
   {
    "duration": 1317,
    "start_time": "2022-06-21T14:50:28.207Z"
   },
   {
    "duration": 3,
    "start_time": "2022-06-21T14:50:29.526Z"
   },
   {
    "duration": 15,
    "start_time": "2022-06-21T14:50:29.530Z"
   },
   {
    "duration": 6,
    "start_time": "2022-06-21T14:50:29.547Z"
   },
   {
    "duration": 2402,
    "start_time": "2022-06-21T14:50:29.555Z"
   },
   {
    "duration": 14,
    "start_time": "2022-06-21T14:50:31.959Z"
   },
   {
    "duration": 35,
    "start_time": "2022-06-21T14:50:31.974Z"
   },
   {
    "duration": 55,
    "start_time": "2022-06-21T14:50:32.010Z"
   },
   {
    "duration": 247,
    "start_time": "2022-06-21T14:50:32.067Z"
   },
   {
    "duration": 14,
    "start_time": "2022-06-21T14:50:32.316Z"
   },
   {
    "duration": 6,
    "start_time": "2022-06-21T14:50:32.332Z"
   },
   {
    "duration": 1887,
    "start_time": "2022-06-21T14:50:32.340Z"
   },
   {
    "duration": 7,
    "start_time": "2022-06-21T14:50:34.229Z"
   },
   {
    "duration": 132,
    "start_time": "2022-06-21T14:50:34.238Z"
   },
   {
    "duration": 0,
    "start_time": "2022-06-21T14:50:34.371Z"
   },
   {
    "duration": 0,
    "start_time": "2022-06-21T14:50:34.372Z"
   },
   {
    "duration": 0,
    "start_time": "2022-06-21T14:50:34.373Z"
   },
   {
    "duration": 0,
    "start_time": "2022-06-21T14:50:34.374Z"
   },
   {
    "duration": 0,
    "start_time": "2022-06-21T14:50:34.376Z"
   },
   {
    "duration": 0,
    "start_time": "2022-06-21T14:50:34.378Z"
   },
   {
    "duration": 0,
    "start_time": "2022-06-21T14:50:34.381Z"
   },
   {
    "duration": 0,
    "start_time": "2022-06-21T14:50:34.382Z"
   },
   {
    "duration": 0,
    "start_time": "2022-06-21T14:50:34.383Z"
   },
   {
    "duration": 0,
    "start_time": "2022-06-21T14:50:34.384Z"
   },
   {
    "duration": 1382,
    "start_time": "2022-06-21T14:51:12.418Z"
   },
   {
    "duration": 2,
    "start_time": "2022-06-21T14:51:13.802Z"
   },
   {
    "duration": 8,
    "start_time": "2022-06-21T14:51:13.805Z"
   },
   {
    "duration": 9,
    "start_time": "2022-06-21T14:51:13.814Z"
   },
   {
    "duration": 2414,
    "start_time": "2022-06-21T14:51:13.827Z"
   },
   {
    "duration": 14,
    "start_time": "2022-06-21T14:51:16.242Z"
   },
   {
    "duration": 49,
    "start_time": "2022-06-21T14:51:16.258Z"
   },
   {
    "duration": 28,
    "start_time": "2022-06-21T14:51:16.309Z"
   },
   {
    "duration": 227,
    "start_time": "2022-06-21T14:51:16.339Z"
   },
   {
    "duration": 7,
    "start_time": "2022-06-21T14:51:16.567Z"
   },
   {
    "duration": 6,
    "start_time": "2022-06-21T14:51:16.576Z"
   },
   {
    "duration": 77,
    "start_time": "2022-06-21T14:51:36.760Z"
   },
   {
    "duration": 5,
    "start_time": "2022-06-21T14:53:14.639Z"
   },
   {
    "duration": 1453,
    "start_time": "2022-06-21T14:53:58.005Z"
   },
   {
    "duration": 6,
    "start_time": "2022-06-21T14:53:59.460Z"
   },
   {
    "duration": 13,
    "start_time": "2022-06-21T14:53:59.469Z"
   },
   {
    "duration": 2599,
    "start_time": "2022-06-21T14:53:59.484Z"
   },
   {
    "duration": 15,
    "start_time": "2022-06-21T14:54:02.086Z"
   },
   {
    "duration": 49,
    "start_time": "2022-06-21T14:54:02.103Z"
   },
   {
    "duration": 42,
    "start_time": "2022-06-21T14:54:02.154Z"
   },
   {
    "duration": 250,
    "start_time": "2022-06-21T14:54:02.197Z"
   },
   {
    "duration": 8,
    "start_time": "2022-06-21T14:54:02.449Z"
   },
   {
    "duration": 12,
    "start_time": "2022-06-21T14:54:02.460Z"
   },
   {
    "duration": 2088,
    "start_time": "2022-06-21T14:54:02.474Z"
   },
   {
    "duration": 174,
    "start_time": "2022-06-21T14:54:04.564Z"
   },
   {
    "duration": 0,
    "start_time": "2022-06-21T14:54:04.740Z"
   },
   {
    "duration": 0,
    "start_time": "2022-06-21T14:54:04.741Z"
   },
   {
    "duration": 0,
    "start_time": "2022-06-21T14:54:04.742Z"
   },
   {
    "duration": 0,
    "start_time": "2022-06-21T14:54:04.745Z"
   },
   {
    "duration": 0,
    "start_time": "2022-06-21T14:54:04.746Z"
   },
   {
    "duration": 0,
    "start_time": "2022-06-21T14:54:04.748Z"
   },
   {
    "duration": 0,
    "start_time": "2022-06-21T14:54:04.749Z"
   },
   {
    "duration": 0,
    "start_time": "2022-06-21T14:54:04.751Z"
   },
   {
    "duration": 0,
    "start_time": "2022-06-21T14:54:04.753Z"
   },
   {
    "duration": 0,
    "start_time": "2022-06-21T14:54:04.754Z"
   },
   {
    "duration": 8,
    "start_time": "2022-06-21T14:54:44.241Z"
   },
   {
    "duration": 18,
    "start_time": "2022-06-21T14:54:52.438Z"
   },
   {
    "duration": 1442,
    "start_time": "2022-06-21T14:56:13.803Z"
   },
   {
    "duration": 3,
    "start_time": "2022-06-21T14:56:15.247Z"
   },
   {
    "duration": 7,
    "start_time": "2022-06-21T14:56:15.252Z"
   },
   {
    "duration": 863,
    "start_time": "2022-06-21T14:56:15.261Z"
   },
   {
    "duration": 14,
    "start_time": "2022-06-21T14:56:16.126Z"
   },
   {
    "duration": 34,
    "start_time": "2022-06-21T14:56:16.142Z"
   },
   {
    "duration": 50,
    "start_time": "2022-06-21T14:56:16.178Z"
   },
   {
    "duration": 247,
    "start_time": "2022-06-21T14:56:16.230Z"
   },
   {
    "duration": 6,
    "start_time": "2022-06-21T14:56:16.479Z"
   },
   {
    "duration": 8,
    "start_time": "2022-06-21T14:56:16.487Z"
   },
   {
    "duration": 1967,
    "start_time": "2022-06-21T14:56:16.497Z"
   },
   {
    "duration": 842,
    "start_time": "2022-06-21T14:56:18.467Z"
   },
   {
    "duration": 0,
    "start_time": "2022-06-21T14:56:19.311Z"
   },
   {
    "duration": 0,
    "start_time": "2022-06-21T14:56:19.312Z"
   },
   {
    "duration": 0,
    "start_time": "2022-06-21T14:56:19.313Z"
   },
   {
    "duration": 0,
    "start_time": "2022-06-21T14:56:19.313Z"
   },
   {
    "duration": 0,
    "start_time": "2022-06-21T14:56:19.314Z"
   },
   {
    "duration": 1,
    "start_time": "2022-06-21T14:56:19.315Z"
   },
   {
    "duration": 0,
    "start_time": "2022-06-21T14:56:19.326Z"
   },
   {
    "duration": 0,
    "start_time": "2022-06-21T14:56:19.327Z"
   },
   {
    "duration": 0,
    "start_time": "2022-06-21T14:56:19.329Z"
   },
   {
    "duration": 0,
    "start_time": "2022-06-21T14:56:19.330Z"
   },
   {
    "duration": 1282,
    "start_time": "2022-06-21T14:58:42.402Z"
   },
   {
    "duration": 3,
    "start_time": "2022-06-21T14:58:43.687Z"
   },
   {
    "duration": 27,
    "start_time": "2022-06-21T14:58:43.691Z"
   },
   {
    "duration": 894,
    "start_time": "2022-06-21T14:58:43.720Z"
   },
   {
    "duration": 19,
    "start_time": "2022-06-21T14:58:44.618Z"
   },
   {
    "duration": 37,
    "start_time": "2022-06-21T14:58:44.640Z"
   },
   {
    "duration": 51,
    "start_time": "2022-06-21T14:58:44.679Z"
   },
   {
    "duration": 242,
    "start_time": "2022-06-21T14:58:44.732Z"
   },
   {
    "duration": 7,
    "start_time": "2022-06-21T14:58:44.975Z"
   },
   {
    "duration": 20,
    "start_time": "2022-06-21T14:58:44.983Z"
   },
   {
    "duration": 50,
    "start_time": "2022-06-21T14:58:45.004Z"
   },
   {
    "duration": 125,
    "start_time": "2022-06-21T14:58:45.055Z"
   },
   {
    "duration": 0,
    "start_time": "2022-06-21T14:58:45.181Z"
   },
   {
    "duration": 0,
    "start_time": "2022-06-21T14:58:45.183Z"
   },
   {
    "duration": 0,
    "start_time": "2022-06-21T14:58:45.184Z"
   },
   {
    "duration": 0,
    "start_time": "2022-06-21T14:58:45.186Z"
   },
   {
    "duration": 0,
    "start_time": "2022-06-21T14:58:45.187Z"
   },
   {
    "duration": 0,
    "start_time": "2022-06-21T14:58:45.188Z"
   },
   {
    "duration": 0,
    "start_time": "2022-06-21T14:58:45.190Z"
   },
   {
    "duration": 0,
    "start_time": "2022-06-21T14:58:45.191Z"
   },
   {
    "duration": 0,
    "start_time": "2022-06-21T14:58:45.192Z"
   },
   {
    "duration": 0,
    "start_time": "2022-06-21T14:58:45.193Z"
   },
   {
    "duration": 3,
    "start_time": "2022-06-21T14:59:10.889Z"
   },
   {
    "duration": 667,
    "start_time": "2022-06-21T14:59:12.488Z"
   },
   {
    "duration": 1974,
    "start_time": "2022-06-21T14:59:23.989Z"
   },
   {
    "duration": 1828,
    "start_time": "2022-06-22T09:07:08.396Z"
   },
   {
    "duration": 4,
    "start_time": "2022-06-22T09:07:10.227Z"
   },
   {
    "duration": 19,
    "start_time": "2022-06-22T09:07:10.233Z"
   },
   {
    "duration": 2714,
    "start_time": "2022-06-22T09:07:10.255Z"
   },
   {
    "duration": 21,
    "start_time": "2022-06-22T09:07:12.971Z"
   },
   {
    "duration": 38,
    "start_time": "2022-06-22T09:07:12.995Z"
   },
   {
    "duration": 33,
    "start_time": "2022-06-22T09:07:13.035Z"
   },
   {
    "duration": 236,
    "start_time": "2022-06-22T09:07:13.071Z"
   },
   {
    "duration": 10,
    "start_time": "2022-06-22T09:07:13.310Z"
   },
   {
    "duration": 17,
    "start_time": "2022-06-22T09:07:13.322Z"
   },
   {
    "duration": 2254,
    "start_time": "2022-06-22T09:07:13.341Z"
   },
   {
    "duration": 948,
    "start_time": "2022-06-22T09:07:15.598Z"
   },
   {
    "duration": 0,
    "start_time": "2022-06-22T09:07:16.552Z"
   },
   {
    "duration": 0,
    "start_time": "2022-06-22T09:07:16.554Z"
   },
   {
    "duration": 0,
    "start_time": "2022-06-22T09:07:16.556Z"
   },
   {
    "duration": 0,
    "start_time": "2022-06-22T09:07:16.557Z"
   },
   {
    "duration": 0,
    "start_time": "2022-06-22T09:07:16.559Z"
   },
   {
    "duration": 0,
    "start_time": "2022-06-22T09:07:16.561Z"
   },
   {
    "duration": 0,
    "start_time": "2022-06-22T09:07:16.563Z"
   },
   {
    "duration": 0,
    "start_time": "2022-06-22T09:07:16.564Z"
   },
   {
    "duration": 0,
    "start_time": "2022-06-22T09:07:16.565Z"
   },
   {
    "duration": 0,
    "start_time": "2022-06-22T09:07:16.567Z"
   },
   {
    "duration": 28,
    "start_time": "2022-06-22T09:12:02.318Z"
   },
   {
    "duration": 6,
    "start_time": "2022-06-22T09:12:21.345Z"
   },
   {
    "duration": 74,
    "start_time": "2022-06-22T09:14:37.125Z"
   },
   {
    "duration": 8,
    "start_time": "2022-06-22T09:27:42.274Z"
   },
   {
    "duration": 10,
    "start_time": "2022-06-22T09:27:58.145Z"
   },
   {
    "duration": 1490,
    "start_time": "2022-06-22T09:28:04.067Z"
   },
   {
    "duration": 3,
    "start_time": "2022-06-22T09:28:05.560Z"
   },
   {
    "duration": 10,
    "start_time": "2022-06-22T09:28:05.566Z"
   },
   {
    "duration": 2614,
    "start_time": "2022-06-22T09:28:05.578Z"
   },
   {
    "duration": 19,
    "start_time": "2022-06-22T09:28:08.195Z"
   },
   {
    "duration": 51,
    "start_time": "2022-06-22T09:28:08.216Z"
   },
   {
    "duration": 36,
    "start_time": "2022-06-22T09:28:08.269Z"
   },
   {
    "duration": 261,
    "start_time": "2022-06-22T09:28:08.307Z"
   },
   {
    "duration": 9,
    "start_time": "2022-06-22T09:28:08.571Z"
   },
   {
    "duration": 19,
    "start_time": "2022-06-22T09:28:08.582Z"
   },
   {
    "duration": 2743,
    "start_time": "2022-06-22T09:28:08.604Z"
   },
   {
    "duration": 6,
    "start_time": "2022-06-22T09:28:11.349Z"
   },
   {
    "duration": 861,
    "start_time": "2022-06-22T09:28:11.357Z"
   },
   {
    "duration": 0,
    "start_time": "2022-06-22T09:28:12.221Z"
   },
   {
    "duration": 0,
    "start_time": "2022-06-22T09:28:12.222Z"
   },
   {
    "duration": 0,
    "start_time": "2022-06-22T09:28:12.224Z"
   },
   {
    "duration": 0,
    "start_time": "2022-06-22T09:28:12.225Z"
   },
   {
    "duration": 0,
    "start_time": "2022-06-22T09:28:12.227Z"
   },
   {
    "duration": 0,
    "start_time": "2022-06-22T09:28:12.228Z"
   },
   {
    "duration": 0,
    "start_time": "2022-06-22T09:28:12.229Z"
   },
   {
    "duration": 0,
    "start_time": "2022-06-22T09:28:12.231Z"
   },
   {
    "duration": 0,
    "start_time": "2022-06-22T09:28:12.233Z"
   },
   {
    "duration": 0,
    "start_time": "2022-06-22T09:28:12.234Z"
   },
   {
    "duration": 26,
    "start_time": "2022-06-22T09:28:59.325Z"
   },
   {
    "duration": 2085,
    "start_time": "2022-06-22T09:29:51.099Z"
   },
   {
    "duration": 5,
    "start_time": "2022-06-22T09:29:55.050Z"
   },
   {
    "duration": 23,
    "start_time": "2022-06-22T09:29:56.904Z"
   },
   {
    "duration": 4,
    "start_time": "2022-06-22T09:34:19.477Z"
   },
   {
    "duration": 4,
    "start_time": "2022-06-22T09:36:39.638Z"
   },
   {
    "duration": 5,
    "start_time": "2022-06-22T09:37:11.663Z"
   },
   {
    "duration": 7,
    "start_time": "2022-06-22T09:37:37.648Z"
   },
   {
    "duration": 7,
    "start_time": "2022-06-22T09:37:45.351Z"
   },
   {
    "duration": 1087,
    "start_time": "2022-06-22T09:38:03.927Z"
   },
   {
    "duration": 3,
    "start_time": "2022-06-22T09:39:14.443Z"
   },
   {
    "duration": 7,
    "start_time": "2022-06-22T09:39:19.944Z"
   },
   {
    "duration": 1073,
    "start_time": "2022-06-22T09:39:24.548Z"
   },
   {
    "duration": 7207,
    "start_time": "2022-06-22T09:41:04.373Z"
   },
   {
    "duration": 294564,
    "start_time": "2022-06-22T09:41:22.195Z"
   },
   {
    "duration": 6790,
    "start_time": "2022-06-22T09:48:45.145Z"
   },
   {
    "duration": 41835,
    "start_time": "2022-06-22T09:49:01.965Z"
   },
   {
    "duration": 158,
    "start_time": "2022-06-22T09:55:27.495Z"
   },
   {
    "duration": 21,
    "start_time": "2022-06-22T09:56:30.724Z"
   },
   {
    "duration": 17,
    "start_time": "2022-06-22T09:56:48.669Z"
   },
   {
    "duration": 57,
    "start_time": "2022-06-22T09:59:10.580Z"
   },
   {
    "duration": 10,
    "start_time": "2022-06-22T09:59:35.094Z"
   },
   {
    "duration": 2,
    "start_time": "2022-06-22T10:10:32.975Z"
   },
   {
    "duration": 339,
    "start_time": "2022-06-22T10:12:49.176Z"
   },
   {
    "duration": 320,
    "start_time": "2022-06-22T10:13:06.394Z"
   },
   {
    "duration": 229,
    "start_time": "2022-06-22T10:14:57.606Z"
   },
   {
    "duration": 255,
    "start_time": "2022-06-22T10:16:03.567Z"
   },
   {
    "duration": 240,
    "start_time": "2022-06-22T10:16:16.767Z"
   },
   {
    "duration": 307,
    "start_time": "2022-06-22T10:16:54.294Z"
   },
   {
    "duration": 22,
    "start_time": "2022-06-22T10:17:11.592Z"
   },
   {
    "duration": 354,
    "start_time": "2022-06-22T10:17:32.244Z"
   },
   {
    "duration": 464,
    "start_time": "2022-06-22T10:18:35.145Z"
   },
   {
    "duration": 3,
    "start_time": "2022-06-22T10:18:46.185Z"
   },
   {
    "duration": 5,
    "start_time": "2022-06-22T10:18:53.115Z"
   },
   {
    "duration": 2,
    "start_time": "2022-06-22T10:19:01.685Z"
   },
   {
    "duration": 4,
    "start_time": "2022-06-22T10:19:06.064Z"
   },
   {
    "duration": 86,
    "start_time": "2022-06-22T10:19:30.704Z"
   },
   {
    "duration": 89,
    "start_time": "2022-06-22T10:20:02.904Z"
   },
   {
    "duration": 63,
    "start_time": "2022-06-22T10:20:47.854Z"
   },
   {
    "duration": 8,
    "start_time": "2022-06-22T10:21:02.614Z"
   },
   {
    "duration": 11033,
    "start_time": "2022-06-22T10:21:18.494Z"
   },
   {
    "duration": 2,
    "start_time": "2022-06-22T10:21:46.628Z"
   },
   {
    "duration": 1206,
    "start_time": "2022-06-22T10:21:52.593Z"
   },
   {
    "duration": 2,
    "start_time": "2022-06-22T10:21:53.801Z"
   },
   {
    "duration": 6,
    "start_time": "2022-06-22T10:21:53.804Z"
   },
   {
    "duration": 6,
    "start_time": "2022-06-22T10:21:53.812Z"
   },
   {
    "duration": 5,
    "start_time": "2022-06-22T10:21:53.820Z"
   },
   {
    "duration": 784,
    "start_time": "2022-06-22T10:21:53.827Z"
   },
   {
    "duration": 13,
    "start_time": "2022-06-22T10:21:54.613Z"
   },
   {
    "duration": 60,
    "start_time": "2022-06-22T10:21:54.628Z"
   },
   {
    "duration": 26,
    "start_time": "2022-06-22T10:21:54.689Z"
   },
   {
    "duration": 223,
    "start_time": "2022-06-22T10:21:54.717Z"
   },
   {
    "duration": 12,
    "start_time": "2022-06-22T10:21:54.942Z"
   },
   {
    "duration": 5,
    "start_time": "2022-06-22T10:21:54.956Z"
   },
   {
    "duration": 27,
    "start_time": "2022-06-22T10:21:54.963Z"
   },
   {
    "duration": 66893,
    "start_time": "2022-06-22T10:21:54.993Z"
   },
   {
    "duration": 120,
    "start_time": "2022-06-22T10:23:01.888Z"
   },
   {
    "duration": 0,
    "start_time": "2022-06-22T10:23:02.010Z"
   },
   {
    "duration": 0,
    "start_time": "2022-06-22T10:23:02.012Z"
   },
   {
    "duration": 0,
    "start_time": "2022-06-22T10:23:02.014Z"
   },
   {
    "duration": 0,
    "start_time": "2022-06-22T10:23:02.015Z"
   },
   {
    "duration": 0,
    "start_time": "2022-06-22T10:23:02.016Z"
   },
   {
    "duration": 0,
    "start_time": "2022-06-22T10:23:02.018Z"
   },
   {
    "duration": 0,
    "start_time": "2022-06-22T10:23:02.019Z"
   },
   {
    "duration": 0,
    "start_time": "2022-06-22T10:23:02.021Z"
   },
   {
    "duration": 247,
    "start_time": "2022-06-22T10:27:22.194Z"
   },
   {
    "duration": 11,
    "start_time": "2022-06-22T10:27:27.710Z"
   },
   {
    "duration": 4,
    "start_time": "2022-06-22T10:27:43.925Z"
   },
   {
    "duration": 22,
    "start_time": "2022-06-22T11:20:29.489Z"
   },
   {
    "duration": 8,
    "start_time": "2022-06-22T11:20:41.274Z"
   },
   {
    "duration": 9,
    "start_time": "2022-06-22T11:20:54.569Z"
   },
   {
    "duration": 10,
    "start_time": "2022-06-22T11:23:23.227Z"
   },
   {
    "duration": 10,
    "start_time": "2022-06-22T11:24:00.421Z"
   },
   {
    "duration": 1269,
    "start_time": "2022-06-22T11:24:06.936Z"
   },
   {
    "duration": 3,
    "start_time": "2022-06-22T11:24:08.206Z"
   },
   {
    "duration": 30,
    "start_time": "2022-06-22T11:24:08.210Z"
   },
   {
    "duration": 17,
    "start_time": "2022-06-22T11:24:08.242Z"
   },
   {
    "duration": 18,
    "start_time": "2022-06-22T11:24:08.261Z"
   },
   {
    "duration": 808,
    "start_time": "2022-06-22T11:24:08.281Z"
   },
   {
    "duration": 15,
    "start_time": "2022-06-22T11:24:09.091Z"
   },
   {
    "duration": 45,
    "start_time": "2022-06-22T11:24:09.107Z"
   },
   {
    "duration": 33,
    "start_time": "2022-06-22T11:24:09.154Z"
   },
   {
    "duration": 228,
    "start_time": "2022-06-22T11:24:09.189Z"
   },
   {
    "duration": 6,
    "start_time": "2022-06-22T11:24:09.418Z"
   },
   {
    "duration": 26,
    "start_time": "2022-06-22T11:24:09.426Z"
   },
   {
    "duration": 48,
    "start_time": "2022-06-22T11:24:09.454Z"
   },
   {
    "duration": 0,
    "start_time": "2022-06-22T11:24:09.504Z"
   },
   {
    "duration": 0,
    "start_time": "2022-06-22T11:24:09.505Z"
   },
   {
    "duration": 0,
    "start_time": "2022-06-22T11:24:09.506Z"
   },
   {
    "duration": 0,
    "start_time": "2022-06-22T11:24:09.507Z"
   },
   {
    "duration": 0,
    "start_time": "2022-06-22T11:24:09.508Z"
   },
   {
    "duration": 0,
    "start_time": "2022-06-22T11:24:09.509Z"
   },
   {
    "duration": 0,
    "start_time": "2022-06-22T11:24:09.510Z"
   },
   {
    "duration": 0,
    "start_time": "2022-06-22T11:24:09.511Z"
   },
   {
    "duration": 0,
    "start_time": "2022-06-22T11:24:09.512Z"
   },
   {
    "duration": 0,
    "start_time": "2022-06-22T11:24:09.513Z"
   },
   {
    "duration": 0,
    "start_time": "2022-06-22T11:24:09.514Z"
   },
   {
    "duration": 1257,
    "start_time": "2022-06-22T11:24:25.532Z"
   },
   {
    "duration": 2,
    "start_time": "2022-06-22T11:24:26.792Z"
   },
   {
    "duration": 10,
    "start_time": "2022-06-22T11:24:26.796Z"
   },
   {
    "duration": 6,
    "start_time": "2022-06-22T11:24:26.808Z"
   },
   {
    "duration": 10,
    "start_time": "2022-06-22T11:24:26.815Z"
   },
   {
    "duration": 785,
    "start_time": "2022-06-22T11:24:26.827Z"
   },
   {
    "duration": 15,
    "start_time": "2022-06-22T11:24:27.613Z"
   },
   {
    "duration": 44,
    "start_time": "2022-06-22T11:24:27.629Z"
   },
   {
    "duration": 30,
    "start_time": "2022-06-22T11:24:27.675Z"
   },
   {
    "duration": 229,
    "start_time": "2022-06-22T11:24:27.708Z"
   },
   {
    "duration": 5,
    "start_time": "2022-06-22T11:24:27.939Z"
   },
   {
    "duration": 5,
    "start_time": "2022-06-22T11:24:27.952Z"
   },
   {
    "duration": 47,
    "start_time": "2022-06-22T11:24:27.959Z"
   },
   {
    "duration": 0,
    "start_time": "2022-06-22T11:24:28.008Z"
   },
   {
    "duration": 0,
    "start_time": "2022-06-22T11:24:28.009Z"
   },
   {
    "duration": 0,
    "start_time": "2022-06-22T11:24:28.010Z"
   },
   {
    "duration": 0,
    "start_time": "2022-06-22T11:24:28.011Z"
   },
   {
    "duration": 0,
    "start_time": "2022-06-22T11:24:28.013Z"
   },
   {
    "duration": 0,
    "start_time": "2022-06-22T11:24:28.013Z"
   },
   {
    "duration": 0,
    "start_time": "2022-06-22T11:24:28.014Z"
   },
   {
    "duration": 0,
    "start_time": "2022-06-22T11:24:28.016Z"
   },
   {
    "duration": 0,
    "start_time": "2022-06-22T11:24:28.017Z"
   },
   {
    "duration": 0,
    "start_time": "2022-06-22T11:24:28.018Z"
   },
   {
    "duration": 0,
    "start_time": "2022-06-22T11:24:28.020Z"
   },
   {
    "duration": 5,
    "start_time": "2022-06-22T11:24:50.231Z"
   },
   {
    "duration": 3,
    "start_time": "2022-06-22T11:24:51.309Z"
   },
   {
    "duration": 2,
    "start_time": "2022-06-22T11:24:52.579Z"
   },
   {
    "duration": 3,
    "start_time": "2022-06-22T11:24:53.757Z"
   },
   {
    "duration": 4,
    "start_time": "2022-06-22T11:24:55.339Z"
   },
   {
    "duration": 744,
    "start_time": "2022-06-22T11:24:56.758Z"
   },
   {
    "duration": 7,
    "start_time": "2022-06-22T11:24:57.549Z"
   },
   {
    "duration": 42,
    "start_time": "2022-06-22T11:24:58.467Z"
   },
   {
    "duration": 1285,
    "start_time": "2022-06-22T11:25:13.531Z"
   },
   {
    "duration": 2,
    "start_time": "2022-06-22T11:25:14.818Z"
   },
   {
    "duration": 14,
    "start_time": "2022-06-22T11:25:14.822Z"
   },
   {
    "duration": 22,
    "start_time": "2022-06-22T11:25:14.838Z"
   },
   {
    "duration": 840,
    "start_time": "2022-06-22T11:25:14.861Z"
   },
   {
    "duration": 15,
    "start_time": "2022-06-22T11:25:15.703Z"
   },
   {
    "duration": 44,
    "start_time": "2022-06-22T11:25:15.720Z"
   },
   {
    "duration": 42,
    "start_time": "2022-06-22T11:25:15.766Z"
   },
   {
    "duration": 234,
    "start_time": "2022-06-22T11:25:15.809Z"
   },
   {
    "duration": 6,
    "start_time": "2022-06-22T11:25:16.046Z"
   },
   {
    "duration": 20,
    "start_time": "2022-06-22T11:25:16.054Z"
   },
   {
    "duration": 85,
    "start_time": "2022-06-22T11:25:16.075Z"
   },
   {
    "duration": 0,
    "start_time": "2022-06-22T11:25:16.162Z"
   },
   {
    "duration": 0,
    "start_time": "2022-06-22T11:25:16.163Z"
   },
   {
    "duration": 0,
    "start_time": "2022-06-22T11:25:16.165Z"
   },
   {
    "duration": 0,
    "start_time": "2022-06-22T11:25:16.166Z"
   },
   {
    "duration": 0,
    "start_time": "2022-06-22T11:25:16.168Z"
   },
   {
    "duration": 0,
    "start_time": "2022-06-22T11:25:16.169Z"
   },
   {
    "duration": 0,
    "start_time": "2022-06-22T11:25:16.171Z"
   },
   {
    "duration": 0,
    "start_time": "2022-06-22T11:25:16.172Z"
   },
   {
    "duration": 1,
    "start_time": "2022-06-22T11:25:16.172Z"
   },
   {
    "duration": 0,
    "start_time": "2022-06-22T11:25:16.173Z"
   },
   {
    "duration": 0,
    "start_time": "2022-06-22T11:25:16.175Z"
   },
   {
    "duration": 46,
    "start_time": "2022-06-22T11:26:13.368Z"
   },
   {
    "duration": 1479,
    "start_time": "2022-06-22T11:26:43.993Z"
   },
   {
    "duration": 3,
    "start_time": "2022-06-22T11:26:45.474Z"
   },
   {
    "duration": 9,
    "start_time": "2022-06-22T11:26:45.478Z"
   },
   {
    "duration": 5,
    "start_time": "2022-06-22T11:26:45.490Z"
   },
   {
    "duration": 1443,
    "start_time": "2022-06-22T11:26:45.497Z"
   },
   {
    "duration": 18,
    "start_time": "2022-06-22T11:26:46.941Z"
   },
   {
    "duration": 45,
    "start_time": "2022-06-22T11:26:46.960Z"
   },
   {
    "duration": 27,
    "start_time": "2022-06-22T11:26:47.007Z"
   },
   {
    "duration": 240,
    "start_time": "2022-06-22T11:26:47.036Z"
   },
   {
    "duration": 8,
    "start_time": "2022-06-22T11:26:47.277Z"
   },
   {
    "duration": 20,
    "start_time": "2022-06-22T11:26:47.287Z"
   },
   {
    "duration": 45,
    "start_time": "2022-06-22T11:26:47.309Z"
   },
   {
    "duration": 0,
    "start_time": "2022-06-22T11:26:47.357Z"
   },
   {
    "duration": 0,
    "start_time": "2022-06-22T11:26:47.358Z"
   },
   {
    "duration": 0,
    "start_time": "2022-06-22T11:26:47.360Z"
   },
   {
    "duration": 0,
    "start_time": "2022-06-22T11:26:47.362Z"
   },
   {
    "duration": 0,
    "start_time": "2022-06-22T11:26:47.363Z"
   },
   {
    "duration": 0,
    "start_time": "2022-06-22T11:26:47.365Z"
   },
   {
    "duration": 0,
    "start_time": "2022-06-22T11:26:47.367Z"
   },
   {
    "duration": 0,
    "start_time": "2022-06-22T11:26:47.368Z"
   },
   {
    "duration": 0,
    "start_time": "2022-06-22T11:26:47.371Z"
   },
   {
    "duration": 0,
    "start_time": "2022-06-22T11:26:47.372Z"
   },
   {
    "duration": 0,
    "start_time": "2022-06-22T11:26:47.373Z"
   },
   {
    "duration": 27,
    "start_time": "2022-06-22T11:27:14.018Z"
   },
   {
    "duration": 68623,
    "start_time": "2022-06-22T11:27:16.218Z"
   },
   {
    "duration": 6,
    "start_time": "2022-06-22T11:28:31.499Z"
   },
   {
    "duration": 9,
    "start_time": "2022-06-22T11:28:32.069Z"
   },
   {
    "duration": 4,
    "start_time": "2022-06-22T11:28:58.032Z"
   },
   {
    "duration": 4,
    "start_time": "2022-06-22T11:29:38.335Z"
   },
   {
    "duration": 8,
    "start_time": "2022-06-22T11:29:38.974Z"
   },
   {
    "duration": 5,
    "start_time": "2022-06-22T11:40:02.937Z"
   },
   {
    "duration": 8,
    "start_time": "2022-06-22T11:40:04.047Z"
   },
   {
    "duration": 4,
    "start_time": "2022-06-22T11:40:13.806Z"
   },
   {
    "duration": 1309,
    "start_time": "2022-06-22T11:40:19.277Z"
   },
   {
    "duration": 3,
    "start_time": "2022-06-22T11:40:20.588Z"
   },
   {
    "duration": 5,
    "start_time": "2022-06-22T11:40:20.593Z"
   },
   {
    "duration": 6,
    "start_time": "2022-06-22T11:40:20.600Z"
   },
   {
    "duration": 825,
    "start_time": "2022-06-22T11:40:20.608Z"
   },
   {
    "duration": 17,
    "start_time": "2022-06-22T11:40:21.435Z"
   },
   {
    "duration": 34,
    "start_time": "2022-06-22T11:40:21.454Z"
   },
   {
    "duration": 29,
    "start_time": "2022-06-22T11:40:21.490Z"
   },
   {
    "duration": 262,
    "start_time": "2022-06-22T11:40:21.521Z"
   },
   {
    "duration": 6,
    "start_time": "2022-06-22T11:40:21.785Z"
   },
   {
    "duration": 9,
    "start_time": "2022-06-22T11:40:21.793Z"
   },
   {
    "duration": 8,
    "start_time": "2022-06-22T11:40:21.803Z"
   },
   {
    "duration": 63,
    "start_time": "2022-06-22T11:40:21.813Z"
   },
   {
    "duration": 75189,
    "start_time": "2022-06-22T11:40:21.878Z"
   },
   {
    "duration": 6,
    "start_time": "2022-06-22T11:41:37.070Z"
   },
   {
    "duration": 18,
    "start_time": "2022-06-22T11:41:37.077Z"
   },
   {
    "duration": 8,
    "start_time": "2022-06-22T11:41:37.096Z"
   },
   {
    "duration": 51,
    "start_time": "2022-06-22T11:41:37.106Z"
   },
   {
    "duration": 1,
    "start_time": "2022-06-22T11:41:37.159Z"
   },
   {
    "duration": 0,
    "start_time": "2022-06-22T11:41:37.161Z"
   },
   {
    "duration": 0,
    "start_time": "2022-06-22T11:41:37.163Z"
   },
   {
    "duration": 0,
    "start_time": "2022-06-22T11:41:37.164Z"
   },
   {
    "duration": 0,
    "start_time": "2022-06-22T11:41:37.166Z"
   },
   {
    "duration": 0,
    "start_time": "2022-06-22T11:41:37.167Z"
   },
   {
    "duration": 0,
    "start_time": "2022-06-22T11:41:37.169Z"
   },
   {
    "duration": 6,
    "start_time": "2022-06-22T11:41:54.874Z"
   },
   {
    "duration": 48,
    "start_time": "2022-06-22T11:42:18.088Z"
   },
   {
    "duration": 116,
    "start_time": "2022-06-22T11:42:33.803Z"
   },
   {
    "duration": 4,
    "start_time": "2022-06-22T11:42:41.812Z"
   },
   {
    "duration": 8,
    "start_time": "2022-06-22T11:42:43.171Z"
   },
   {
    "duration": 4,
    "start_time": "2022-06-22T11:43:00.195Z"
   },
   {
    "duration": 8,
    "start_time": "2022-06-22T11:43:01.665Z"
   },
   {
    "duration": 3,
    "start_time": "2022-06-22T11:43:49.092Z"
   },
   {
    "duration": 3,
    "start_time": "2022-06-22T11:43:56.424Z"
   },
   {
    "duration": 5,
    "start_time": "2022-06-22T11:47:01.785Z"
   },
   {
    "duration": 244,
    "start_time": "2022-06-22T11:52:00.847Z"
   },
   {
    "duration": 27,
    "start_time": "2022-06-22T11:52:02.655Z"
   },
   {
    "duration": 31,
    "start_time": "2022-06-22T11:53:04.813Z"
   },
   {
    "duration": 2,
    "start_time": "2022-06-22T11:57:34.419Z"
   },
   {
    "duration": 10,
    "start_time": "2022-06-22T11:57:51.088Z"
   },
   {
    "duration": 1175,
    "start_time": "2022-06-22T11:59:09.998Z"
   },
   {
    "duration": 3,
    "start_time": "2022-06-22T11:59:11.175Z"
   },
   {
    "duration": 7,
    "start_time": "2022-06-22T11:59:11.179Z"
   },
   {
    "duration": 5,
    "start_time": "2022-06-22T11:59:11.188Z"
   },
   {
    "duration": 741,
    "start_time": "2022-06-22T11:59:11.195Z"
   },
   {
    "duration": 14,
    "start_time": "2022-06-22T11:59:11.938Z"
   },
   {
    "duration": 31,
    "start_time": "2022-06-22T11:59:11.954Z"
   },
   {
    "duration": 24,
    "start_time": "2022-06-22T11:59:11.987Z"
   },
   {
    "duration": 229,
    "start_time": "2022-06-22T11:59:12.013Z"
   },
   {
    "duration": 11,
    "start_time": "2022-06-22T11:59:12.243Z"
   },
   {
    "duration": 4,
    "start_time": "2022-06-22T11:59:12.255Z"
   },
   {
    "duration": 4,
    "start_time": "2022-06-22T11:59:12.261Z"
   },
   {
    "duration": 27,
    "start_time": "2022-06-22T11:59:12.266Z"
   },
   {
    "duration": 66855,
    "start_time": "2022-06-22T11:59:12.296Z"
   },
   {
    "duration": 3,
    "start_time": "2022-06-22T12:00:19.152Z"
   },
   {
    "duration": 9,
    "start_time": "2022-06-22T12:00:19.157Z"
   },
   {
    "duration": 7,
    "start_time": "2022-06-22T12:00:19.167Z"
   },
   {
    "duration": 208,
    "start_time": "2022-06-22T12:00:19.175Z"
   },
   {
    "duration": 13,
    "start_time": "2022-06-22T12:00:19.385Z"
   },
   {
    "duration": 5,
    "start_time": "2022-06-22T12:00:19.400Z"
   },
   {
    "duration": 114,
    "start_time": "2022-06-22T12:00:19.413Z"
   },
   {
    "duration": 0,
    "start_time": "2022-06-22T12:00:19.530Z"
   },
   {
    "duration": 0,
    "start_time": "2022-06-22T12:00:19.531Z"
   },
   {
    "duration": 4,
    "start_time": "2022-06-22T12:01:11.863Z"
   },
   {
    "duration": 40,
    "start_time": "2022-06-22T12:01:18.883Z"
   },
   {
    "duration": 4,
    "start_time": "2022-06-22T12:01:24.163Z"
   },
   {
    "duration": 45,
    "start_time": "2022-06-22T12:11:34.891Z"
   },
   {
    "duration": 4,
    "start_time": "2022-06-22T12:11:36.364Z"
   },
   {
    "duration": 4,
    "start_time": "2022-06-22T12:12:02.213Z"
   },
   {
    "duration": 4,
    "start_time": "2022-06-22T12:12:14.103Z"
   },
   {
    "duration": 4,
    "start_time": "2022-06-22T12:12:41.432Z"
   },
   {
    "duration": 4,
    "start_time": "2022-06-22T12:13:19.132Z"
   },
   {
    "duration": 4,
    "start_time": "2022-06-22T12:13:54.916Z"
   },
   {
    "duration": 4,
    "start_time": "2022-06-22T12:21:11.564Z"
   },
   {
    "duration": 2,
    "start_time": "2022-06-22T12:28:04.119Z"
   },
   {
    "duration": 5,
    "start_time": "2022-06-22T12:33:20.918Z"
   },
   {
    "duration": 17,
    "start_time": "2022-06-22T12:33:54.809Z"
   },
   {
    "duration": 23,
    "start_time": "2022-06-22T12:34:02.789Z"
   },
   {
    "duration": 135,
    "start_time": "2022-06-22T12:34:07.188Z"
   },
   {
    "duration": 2,
    "start_time": "2022-06-22T12:36:16.809Z"
   },
   {
    "duration": 18,
    "start_time": "2022-06-22T12:36:29.635Z"
   },
   {
    "duration": 4,
    "start_time": "2022-06-22T12:36:39.897Z"
   },
   {
    "duration": 174,
    "start_time": "2022-06-22T12:36:58.569Z"
   },
   {
    "duration": 4,
    "start_time": "2022-06-22T12:36:59.998Z"
   },
   {
    "duration": 10,
    "start_time": "2022-06-22T13:00:32.391Z"
   },
   {
    "duration": 12,
    "start_time": "2022-06-22T13:00:39.268Z"
   },
   {
    "duration": 3,
    "start_time": "2022-06-22T13:00:42.820Z"
   },
   {
    "duration": 27,
    "start_time": "2022-06-22T13:02:00.230Z"
   },
   {
    "duration": 3,
    "start_time": "2022-06-22T13:02:14.530Z"
   },
   {
    "duration": 23,
    "start_time": "2022-06-22T13:02:15.349Z"
   },
   {
    "duration": 3,
    "start_time": "2022-06-22T13:03:59.821Z"
   },
   {
    "duration": 7,
    "start_time": "2022-06-22T13:05:14.560Z"
   },
   {
    "duration": 2,
    "start_time": "2022-06-22T13:07:05.201Z"
   },
   {
    "duration": 20,
    "start_time": "2022-06-22T13:07:05.820Z"
   },
   {
    "duration": 4,
    "start_time": "2022-06-22T13:11:28.690Z"
   },
   {
    "duration": 3,
    "start_time": "2022-06-22T13:12:14.659Z"
   },
   {
    "duration": 7,
    "start_time": "2022-06-22T13:14:25.750Z"
   },
   {
    "duration": 1229,
    "start_time": "2022-06-22T13:39:43.687Z"
   },
   {
    "duration": 3,
    "start_time": "2022-06-22T13:39:44.918Z"
   },
   {
    "duration": 11,
    "start_time": "2022-06-22T13:39:44.922Z"
   },
   {
    "duration": 11,
    "start_time": "2022-06-22T13:39:44.934Z"
   },
   {
    "duration": 805,
    "start_time": "2022-06-22T13:39:44.947Z"
   },
   {
    "duration": 14,
    "start_time": "2022-06-22T13:39:45.753Z"
   },
   {
    "duration": 34,
    "start_time": "2022-06-22T13:39:45.768Z"
   },
   {
    "duration": 27,
    "start_time": "2022-06-22T13:39:45.804Z"
   },
   {
    "duration": 224,
    "start_time": "2022-06-22T13:39:45.853Z"
   },
   {
    "duration": 6,
    "start_time": "2022-06-22T13:39:46.079Z"
   },
   {
    "duration": 6,
    "start_time": "2022-06-22T13:39:46.086Z"
   },
   {
    "duration": 5,
    "start_time": "2022-06-22T13:39:46.093Z"
   },
   {
    "duration": 53,
    "start_time": "2022-06-22T13:39:46.099Z"
   },
   {
    "duration": 27777,
    "start_time": "2022-06-22T13:39:46.156Z"
   },
   {
    "duration": 3,
    "start_time": "2022-06-22T13:40:13.935Z"
   },
   {
    "duration": 6,
    "start_time": "2022-06-22T13:40:13.952Z"
   },
   {
    "duration": 11,
    "start_time": "2022-06-22T13:40:13.960Z"
   },
   {
    "duration": 241,
    "start_time": "2022-06-22T13:40:13.973Z"
   },
   {
    "duration": 12,
    "start_time": "2022-06-22T13:40:14.216Z"
   },
   {
    "duration": 5,
    "start_time": "2022-06-22T13:40:14.230Z"
   },
   {
    "duration": 10,
    "start_time": "2022-06-22T13:40:14.236Z"
   },
   {
    "duration": 54,
    "start_time": "2022-06-22T13:40:14.247Z"
   },
   {
    "duration": 5,
    "start_time": "2022-06-22T13:40:14.303Z"
   },
   {
    "duration": 8,
    "start_time": "2022-06-22T13:40:14.310Z"
   },
   {
    "duration": 9,
    "start_time": "2022-06-22T13:40:14.319Z"
   },
   {
    "duration": 114,
    "start_time": "2022-06-22T13:40:14.329Z"
   },
   {
    "duration": 137,
    "start_time": "2022-06-22T13:40:14.445Z"
   },
   {
    "duration": 0,
    "start_time": "2022-06-22T13:40:14.584Z"
   },
   {
    "duration": 0,
    "start_time": "2022-06-22T13:40:14.586Z"
   },
   {
    "duration": 0,
    "start_time": "2022-06-22T13:40:14.587Z"
   },
   {
    "duration": 0,
    "start_time": "2022-06-22T13:40:14.588Z"
   },
   {
    "duration": 0,
    "start_time": "2022-06-22T13:40:14.589Z"
   },
   {
    "duration": 0,
    "start_time": "2022-06-22T13:40:14.591Z"
   },
   {
    "duration": 1,
    "start_time": "2022-06-22T13:40:14.592Z"
   },
   {
    "duration": 0,
    "start_time": "2022-06-22T13:40:14.594Z"
   },
   {
    "duration": 12,
    "start_time": "2022-06-22T13:41:00.191Z"
   },
   {
    "duration": 3,
    "start_time": "2022-06-22T13:41:14.384Z"
   },
   {
    "duration": 2,
    "start_time": "2022-06-22T13:41:45.264Z"
   },
   {
    "duration": 13,
    "start_time": "2022-06-22T13:41:53.338Z"
   },
   {
    "duration": 1906,
    "start_time": "2022-06-22T13:42:25.724Z"
   },
   {
    "duration": 5,
    "start_time": "2022-06-22T13:42:37.534Z"
   },
   {
    "duration": 3,
    "start_time": "2022-06-22T13:43:59.644Z"
   },
   {
    "duration": 828,
    "start_time": "2022-06-22T13:52:01.109Z"
   },
   {
    "duration": 5,
    "start_time": "2022-06-22T13:52:12.368Z"
   },
   {
    "duration": 1344,
    "start_time": "2022-06-22T13:52:37.062Z"
   },
   {
    "duration": 2,
    "start_time": "2022-06-22T13:52:38.408Z"
   },
   {
    "duration": 7,
    "start_time": "2022-06-22T13:52:38.412Z"
   },
   {
    "duration": 6,
    "start_time": "2022-06-22T13:52:38.420Z"
   },
   {
    "duration": 774,
    "start_time": "2022-06-22T13:52:38.428Z"
   },
   {
    "duration": 14,
    "start_time": "2022-06-22T13:52:39.203Z"
   },
   {
    "duration": 46,
    "start_time": "2022-06-22T13:52:39.218Z"
   },
   {
    "duration": 30,
    "start_time": "2022-06-22T13:52:39.266Z"
   },
   {
    "duration": 226,
    "start_time": "2022-06-22T13:52:39.297Z"
   },
   {
    "duration": 6,
    "start_time": "2022-06-22T13:52:39.525Z"
   },
   {
    "duration": 20,
    "start_time": "2022-06-22T13:52:39.533Z"
   },
   {
    "duration": 5,
    "start_time": "2022-06-22T13:52:39.554Z"
   },
   {
    "duration": 48,
    "start_time": "2022-06-22T13:52:39.561Z"
   },
   {
    "duration": 693987,
    "start_time": "2022-06-22T13:52:39.613Z"
   },
   {
    "duration": 3,
    "start_time": "2022-06-22T14:04:13.602Z"
   },
   {
    "duration": 15,
    "start_time": "2022-06-22T14:04:13.606Z"
   },
   {
    "duration": 34,
    "start_time": "2022-06-22T14:04:13.622Z"
   },
   {
    "duration": 174,
    "start_time": "2022-06-22T14:04:13.662Z"
   },
   {
    "duration": 58,
    "start_time": "2022-06-22T14:04:13.838Z"
   },
   {
    "duration": 4,
    "start_time": "2022-06-22T14:04:13.898Z"
   },
   {
    "duration": 12,
    "start_time": "2022-06-22T14:04:13.903Z"
   },
   {
    "duration": 214,
    "start_time": "2022-06-22T14:04:13.917Z"
   },
   {
    "duration": 5,
    "start_time": "2022-06-22T14:04:14.133Z"
   },
   {
    "duration": 25,
    "start_time": "2022-06-22T14:04:14.139Z"
   },
   {
    "duration": 15,
    "start_time": "2022-06-22T14:04:14.166Z"
   },
   {
    "duration": 703,
    "start_time": "2022-06-22T14:04:14.182Z"
   },
   {
    "duration": 4,
    "start_time": "2022-06-22T14:04:14.887Z"
   },
   {
    "duration": 13,
    "start_time": "2022-06-22T14:04:14.893Z"
   },
   {
    "duration": 2704,
    "start_time": "2022-06-22T14:04:14.908Z"
   },
   {
    "duration": 3,
    "start_time": "2022-06-22T14:04:17.614Z"
   },
   {
    "duration": 6,
    "start_time": "2022-06-22T14:04:17.619Z"
   },
   {
    "duration": 7165,
    "start_time": "2022-06-22T14:04:17.626Z"
   },
   {
    "duration": 4,
    "start_time": "2022-06-22T14:04:24.793Z"
   },
   {
    "duration": 4694,
    "start_time": "2022-06-22T14:07:16.483Z"
   },
   {
    "duration": 6,
    "start_time": "2022-06-22T14:07:30.607Z"
   },
   {
    "duration": 21363,
    "start_time": "2022-06-22T14:08:01.848Z"
   },
   {
    "duration": 11,
    "start_time": "2022-06-22T14:08:25.459Z"
   },
   {
    "duration": 22517,
    "start_time": "2022-06-22T14:08:42.431Z"
   },
   {
    "duration": 5,
    "start_time": "2022-06-22T14:09:39.773Z"
   },
   {
    "duration": 71409,
    "start_time": "2022-06-22T14:10:15.278Z"
   },
   {
    "duration": 5,
    "start_time": "2022-06-22T14:11:33.083Z"
   },
   {
    "duration": 182996,
    "start_time": "2022-06-22T14:12:09.473Z"
   },
   {
    "duration": 4,
    "start_time": "2022-06-22T14:15:12.471Z"
   },
   {
    "duration": 680022,
    "start_time": "2022-06-22T14:16:33.396Z"
   },
   {
    "duration": 5,
    "start_time": "2022-06-22T14:27:53.420Z"
   },
   {
    "duration": 107925,
    "start_time": "2022-06-22T14:29:58.339Z"
   },
   {
    "duration": 4,
    "start_time": "2022-06-22T14:31:46.266Z"
   },
   {
    "duration": 3,
    "start_time": "2022-06-22T14:34:34.124Z"
   },
   {
    "duration": 180,
    "start_time": "2022-06-22T14:35:39.750Z"
   },
   {
    "duration": 40,
    "start_time": "2022-06-22T14:36:59.379Z"
   },
   {
    "duration": 67,
    "start_time": "2022-06-22T14:37:00.107Z"
   },
   {
    "duration": 5,
    "start_time": "2022-06-22T14:38:02.642Z"
   },
   {
    "duration": 5,
    "start_time": "2022-06-22T14:39:17.858Z"
   },
   {
    "duration": 3,
    "start_time": "2022-06-22T14:40:31.448Z"
   },
   {
    "duration": 5,
    "start_time": "2022-06-22T14:40:48.239Z"
   },
   {
    "duration": 51,
    "start_time": "2022-06-22T14:42:16.568Z"
   },
   {
    "duration": 4,
    "start_time": "2022-06-22T14:42:17.587Z"
   },
   {
    "duration": 6,
    "start_time": "2022-06-22T14:42:18.595Z"
   },
   {
    "duration": 14,
    "start_time": "2022-06-22T14:47:20.668Z"
   },
   {
    "duration": 102,
    "start_time": "2022-06-22T14:48:37.768Z"
   },
   {
    "duration": 6,
    "start_time": "2022-06-22T14:48:47.494Z"
   },
   {
    "duration": 1767,
    "start_time": "2022-06-24T09:24:59.275Z"
   },
   {
    "duration": 9,
    "start_time": "2022-06-24T09:25:01.678Z"
   },
   {
    "duration": 7,
    "start_time": "2022-06-24T09:25:05.277Z"
   },
   {
    "duration": 3,
    "start_time": "2022-06-24T09:25:06.944Z"
   },
   {
    "duration": 6,
    "start_time": "2022-06-24T09:28:16.074Z"
   },
   {
    "duration": 8,
    "start_time": "2022-06-24T09:29:14.549Z"
   },
   {
    "duration": 122,
    "start_time": "2022-06-24T09:32:30.476Z"
   },
   {
    "duration": 4,
    "start_time": "2022-06-24T09:35:14.933Z"
   },
   {
    "duration": 1497,
    "start_time": "2022-06-24T09:35:22.596Z"
   },
   {
    "duration": 3,
    "start_time": "2022-06-24T09:35:24.096Z"
   },
   {
    "duration": 12,
    "start_time": "2022-06-24T09:35:24.101Z"
   },
   {
    "duration": 8,
    "start_time": "2022-06-24T09:35:24.115Z"
   },
   {
    "duration": 6,
    "start_time": "2022-06-24T09:35:24.124Z"
   },
   {
    "duration": 3565,
    "start_time": "2022-06-24T09:35:24.131Z"
   },
   {
    "duration": 68,
    "start_time": "2022-06-24T09:35:27.699Z"
   },
   {
    "duration": 94,
    "start_time": "2022-06-24T09:35:27.776Z"
   },
   {
    "duration": 95,
    "start_time": "2022-06-24T09:35:27.877Z"
   },
   {
    "duration": 556,
    "start_time": "2022-06-24T09:35:27.976Z"
   },
   {
    "duration": 7,
    "start_time": "2022-06-24T09:35:28.533Z"
   },
   {
    "duration": 31,
    "start_time": "2022-06-24T09:35:28.551Z"
   },
   {
    "duration": 5,
    "start_time": "2022-06-24T09:35:28.584Z"
   },
   {
    "duration": 50,
    "start_time": "2022-06-24T09:35:28.590Z"
   },
   {
    "duration": 155,
    "start_time": "2022-06-24T09:35:28.642Z"
   },
   {
    "duration": 0,
    "start_time": "2022-06-24T09:35:28.799Z"
   },
   {
    "duration": 0,
    "start_time": "2022-06-24T09:35:28.801Z"
   },
   {
    "duration": 0,
    "start_time": "2022-06-24T09:35:28.802Z"
   },
   {
    "duration": 0,
    "start_time": "2022-06-24T09:35:28.804Z"
   },
   {
    "duration": 0,
    "start_time": "2022-06-24T09:35:28.805Z"
   },
   {
    "duration": 0,
    "start_time": "2022-06-24T09:35:28.806Z"
   },
   {
    "duration": 0,
    "start_time": "2022-06-24T09:35:28.807Z"
   },
   {
    "duration": 0,
    "start_time": "2022-06-24T09:35:28.808Z"
   },
   {
    "duration": 0,
    "start_time": "2022-06-24T09:35:28.809Z"
   },
   {
    "duration": 0,
    "start_time": "2022-06-24T09:35:28.810Z"
   },
   {
    "duration": 0,
    "start_time": "2022-06-24T09:35:28.812Z"
   },
   {
    "duration": 0,
    "start_time": "2022-06-24T09:35:28.814Z"
   },
   {
    "duration": 0,
    "start_time": "2022-06-24T09:35:28.815Z"
   },
   {
    "duration": 0,
    "start_time": "2022-06-24T09:35:28.816Z"
   },
   {
    "duration": 0,
    "start_time": "2022-06-24T09:35:28.855Z"
   },
   {
    "duration": 0,
    "start_time": "2022-06-24T09:35:28.859Z"
   },
   {
    "duration": 0,
    "start_time": "2022-06-24T09:35:28.860Z"
   },
   {
    "duration": 0,
    "start_time": "2022-06-24T09:35:28.861Z"
   },
   {
    "duration": 0,
    "start_time": "2022-06-24T09:35:28.864Z"
   },
   {
    "duration": 0,
    "start_time": "2022-06-24T09:35:28.866Z"
   },
   {
    "duration": 0,
    "start_time": "2022-06-24T09:35:28.867Z"
   },
   {
    "duration": 0,
    "start_time": "2022-06-24T09:35:28.871Z"
   },
   {
    "duration": 0,
    "start_time": "2022-06-24T09:35:28.872Z"
   },
   {
    "duration": 0,
    "start_time": "2022-06-24T09:35:28.874Z"
   },
   {
    "duration": 0,
    "start_time": "2022-06-24T09:35:28.875Z"
   },
   {
    "duration": 5,
    "start_time": "2022-06-24T09:38:55.275Z"
   },
   {
    "duration": 11,
    "start_time": "2022-06-24T09:42:26.643Z"
   },
   {
    "duration": 1098,
    "start_time": "2022-06-24T09:42:46.103Z"
   },
   {
    "duration": 1343,
    "start_time": "2022-06-24T09:43:07.605Z"
   },
   {
    "duration": 4,
    "start_time": "2022-06-24T09:43:08.950Z"
   },
   {
    "duration": 36,
    "start_time": "2022-06-24T09:43:08.956Z"
   },
   {
    "duration": 7,
    "start_time": "2022-06-24T09:43:08.995Z"
   },
   {
    "duration": 6,
    "start_time": "2022-06-24T09:43:09.003Z"
   },
   {
    "duration": 853,
    "start_time": "2022-06-24T09:43:09.010Z"
   },
   {
    "duration": 18,
    "start_time": "2022-06-24T09:43:09.864Z"
   },
   {
    "duration": 61,
    "start_time": "2022-06-24T09:43:09.884Z"
   },
   {
    "duration": 33,
    "start_time": "2022-06-24T09:43:09.947Z"
   },
   {
    "duration": 278,
    "start_time": "2022-06-24T09:43:09.983Z"
   },
   {
    "duration": 12,
    "start_time": "2022-06-24T09:43:10.264Z"
   },
   {
    "duration": 21,
    "start_time": "2022-06-24T09:43:10.278Z"
   },
   {
    "duration": 11,
    "start_time": "2022-06-24T09:43:10.302Z"
   },
   {
    "duration": 12,
    "start_time": "2022-06-24T09:43:10.315Z"
   },
   {
    "duration": 1601,
    "start_time": "2022-06-24T09:43:10.328Z"
   },
   {
    "duration": 0,
    "start_time": "2022-06-24T09:43:11.931Z"
   },
   {
    "duration": 0,
    "start_time": "2022-06-24T09:43:11.932Z"
   },
   {
    "duration": 0,
    "start_time": "2022-06-24T09:43:11.934Z"
   },
   {
    "duration": 0,
    "start_time": "2022-06-24T09:43:11.935Z"
   },
   {
    "duration": 0,
    "start_time": "2022-06-24T09:43:11.936Z"
   },
   {
    "duration": 0,
    "start_time": "2022-06-24T09:43:11.938Z"
   },
   {
    "duration": 0,
    "start_time": "2022-06-24T09:43:11.939Z"
   },
   {
    "duration": 0,
    "start_time": "2022-06-24T09:43:11.941Z"
   },
   {
    "duration": 0,
    "start_time": "2022-06-24T09:43:11.942Z"
   },
   {
    "duration": 0,
    "start_time": "2022-06-24T09:43:11.943Z"
   },
   {
    "duration": 0,
    "start_time": "2022-06-24T09:43:11.945Z"
   },
   {
    "duration": 0,
    "start_time": "2022-06-24T09:43:11.946Z"
   },
   {
    "duration": 0,
    "start_time": "2022-06-24T09:43:11.948Z"
   },
   {
    "duration": 0,
    "start_time": "2022-06-24T09:43:11.950Z"
   },
   {
    "duration": 0,
    "start_time": "2022-06-24T09:43:11.951Z"
   },
   {
    "duration": 0,
    "start_time": "2022-06-24T09:43:11.952Z"
   },
   {
    "duration": 0,
    "start_time": "2022-06-24T09:43:11.953Z"
   },
   {
    "duration": 0,
    "start_time": "2022-06-24T09:43:11.954Z"
   },
   {
    "duration": 0,
    "start_time": "2022-06-24T09:43:11.955Z"
   },
   {
    "duration": 0,
    "start_time": "2022-06-24T09:43:11.956Z"
   },
   {
    "duration": 0,
    "start_time": "2022-06-24T09:43:11.957Z"
   },
   {
    "duration": 0,
    "start_time": "2022-06-24T09:43:11.958Z"
   },
   {
    "duration": 0,
    "start_time": "2022-06-24T09:43:11.959Z"
   },
   {
    "duration": 0,
    "start_time": "2022-06-24T09:43:11.961Z"
   },
   {
    "duration": 4,
    "start_time": "2022-06-24T09:44:38.327Z"
   },
   {
    "duration": 1018,
    "start_time": "2022-06-24T09:45:27.083Z"
   },
   {
    "duration": 13,
    "start_time": "2022-06-24T09:45:53.547Z"
   },
   {
    "duration": 5,
    "start_time": "2022-06-24T09:46:13.589Z"
   },
   {
    "duration": 14,
    "start_time": "2022-06-24T09:46:27.252Z"
   },
   {
    "duration": 4,
    "start_time": "2022-06-24T09:46:28.481Z"
   },
   {
    "duration": 31,
    "start_time": "2022-06-24T09:46:35.452Z"
   },
   {
    "duration": 1222,
    "start_time": "2022-06-24T09:47:01.073Z"
   },
   {
    "duration": 5,
    "start_time": "2022-06-24T09:47:05.698Z"
   },
   {
    "duration": 16,
    "start_time": "2022-06-24T09:48:29.644Z"
   },
   {
    "duration": 11,
    "start_time": "2022-06-24T09:48:43.625Z"
   },
   {
    "duration": 10,
    "start_time": "2022-06-24T09:49:10.783Z"
   },
   {
    "duration": 4,
    "start_time": "2022-06-24T09:49:29.046Z"
   },
   {
    "duration": 2,
    "start_time": "2022-06-24T09:56:37.690Z"
   },
   {
    "duration": 6,
    "start_time": "2022-06-27T07:08:00.785Z"
   },
   {
    "duration": 7,
    "start_time": "2022-06-27T07:08:10.396Z"
   },
   {
    "duration": 3,
    "start_time": "2022-06-27T07:08:22.992Z"
   },
   {
    "duration": 4,
    "start_time": "2022-06-27T07:08:23.534Z"
   },
   {
    "duration": 2,
    "start_time": "2022-06-27T07:08:56.065Z"
   },
   {
    "duration": 2,
    "start_time": "2022-06-27T07:09:42.525Z"
   },
   {
    "duration": 38,
    "start_time": "2022-06-27T07:15:34.765Z"
   },
   {
    "duration": 5,
    "start_time": "2022-06-27T07:18:46.801Z"
   },
   {
    "duration": 1188,
    "start_time": "2022-06-27T07:19:02.002Z"
   },
   {
    "duration": 2,
    "start_time": "2022-06-27T07:19:03.192Z"
   },
   {
    "duration": 12,
    "start_time": "2022-06-27T07:19:03.195Z"
   },
   {
    "duration": 5,
    "start_time": "2022-06-27T07:19:03.209Z"
   },
   {
    "duration": 8,
    "start_time": "2022-06-27T07:19:03.216Z"
   },
   {
    "duration": 2436,
    "start_time": "2022-06-27T07:19:03.226Z"
   },
   {
    "duration": 13,
    "start_time": "2022-06-27T07:19:05.663Z"
   },
   {
    "duration": 24,
    "start_time": "2022-06-27T07:19:05.677Z"
   },
   {
    "duration": 20,
    "start_time": "2022-06-27T07:19:05.702Z"
   },
   {
    "duration": 215,
    "start_time": "2022-06-27T07:19:05.723Z"
   },
   {
    "duration": 5,
    "start_time": "2022-06-27T07:19:05.939Z"
   },
   {
    "duration": 16,
    "start_time": "2022-06-27T07:19:05.945Z"
   },
   {
    "duration": 6,
    "start_time": "2022-06-27T07:19:05.962Z"
   },
   {
    "duration": 11,
    "start_time": "2022-06-27T07:19:05.970Z"
   },
   {
    "duration": 8,
    "start_time": "2022-06-27T07:19:05.982Z"
   },
   {
    "duration": 6,
    "start_time": "2022-06-27T07:19:05.991Z"
   },
   {
    "duration": 7,
    "start_time": "2022-06-27T07:19:05.999Z"
   },
   {
    "duration": 8,
    "start_time": "2022-06-27T07:19:06.007Z"
   },
   {
    "duration": 10,
    "start_time": "2022-06-27T07:19:06.017Z"
   },
   {
    "duration": 5,
    "start_time": "2022-06-27T07:19:06.028Z"
   },
   {
    "duration": 113,
    "start_time": "2022-06-27T07:19:06.034Z"
   },
   {
    "duration": 0,
    "start_time": "2022-06-27T07:19:06.149Z"
   },
   {
    "duration": 0,
    "start_time": "2022-06-27T07:19:06.150Z"
   },
   {
    "duration": 0,
    "start_time": "2022-06-27T07:19:06.150Z"
   },
   {
    "duration": 0,
    "start_time": "2022-06-27T07:19:06.151Z"
   },
   {
    "duration": 0,
    "start_time": "2022-06-27T07:19:06.152Z"
   },
   {
    "duration": 0,
    "start_time": "2022-06-27T07:19:06.152Z"
   },
   {
    "duration": 0,
    "start_time": "2022-06-27T07:19:06.153Z"
   },
   {
    "duration": 0,
    "start_time": "2022-06-27T07:19:06.154Z"
   },
   {
    "duration": 0,
    "start_time": "2022-06-27T07:19:06.154Z"
   },
   {
    "duration": 0,
    "start_time": "2022-06-27T07:19:06.155Z"
   },
   {
    "duration": 1,
    "start_time": "2022-06-27T07:19:06.155Z"
   },
   {
    "duration": 0,
    "start_time": "2022-06-27T07:19:06.161Z"
   },
   {
    "duration": 0,
    "start_time": "2022-06-27T07:19:06.162Z"
   },
   {
    "duration": 0,
    "start_time": "2022-06-27T07:19:06.163Z"
   },
   {
    "duration": 0,
    "start_time": "2022-06-27T07:19:06.164Z"
   },
   {
    "duration": 0,
    "start_time": "2022-06-27T07:19:06.165Z"
   },
   {
    "duration": 0,
    "start_time": "2022-06-27T07:19:06.165Z"
   },
   {
    "duration": 0,
    "start_time": "2022-06-27T07:19:06.167Z"
   },
   {
    "duration": 0,
    "start_time": "2022-06-27T07:19:06.167Z"
   },
   {
    "duration": 0,
    "start_time": "2022-06-27T07:19:06.168Z"
   },
   {
    "duration": 0,
    "start_time": "2022-06-27T07:19:06.169Z"
   },
   {
    "duration": 0,
    "start_time": "2022-06-27T07:19:06.170Z"
   },
   {
    "duration": 0,
    "start_time": "2022-06-27T07:19:06.171Z"
   },
   {
    "duration": 0,
    "start_time": "2022-06-27T07:19:06.172Z"
   },
   {
    "duration": 1159,
    "start_time": "2022-06-27T07:20:40.416Z"
   },
   {
    "duration": 4,
    "start_time": "2022-06-27T07:20:41.577Z"
   },
   {
    "duration": 11,
    "start_time": "2022-06-27T07:20:41.582Z"
   },
   {
    "duration": 11,
    "start_time": "2022-06-27T07:20:41.594Z"
   },
   {
    "duration": 12,
    "start_time": "2022-06-27T07:20:41.607Z"
   },
   {
    "duration": 669,
    "start_time": "2022-06-27T07:20:41.621Z"
   },
   {
    "duration": 12,
    "start_time": "2022-06-27T07:20:42.291Z"
   },
   {
    "duration": 28,
    "start_time": "2022-06-27T07:20:42.304Z"
   },
   {
    "duration": 33,
    "start_time": "2022-06-27T07:20:42.334Z"
   },
   {
    "duration": 197,
    "start_time": "2022-06-27T07:20:42.368Z"
   },
   {
    "duration": 4,
    "start_time": "2022-06-27T07:20:42.567Z"
   },
   {
    "duration": 9,
    "start_time": "2022-06-27T07:20:42.572Z"
   },
   {
    "duration": 6,
    "start_time": "2022-06-27T07:20:42.582Z"
   },
   {
    "duration": 10,
    "start_time": "2022-06-27T07:20:42.590Z"
   },
   {
    "duration": 3,
    "start_time": "2022-06-27T07:20:42.601Z"
   },
   {
    "duration": 6,
    "start_time": "2022-06-27T07:20:42.605Z"
   },
   {
    "duration": 9,
    "start_time": "2022-06-27T07:20:42.612Z"
   },
   {
    "duration": 6,
    "start_time": "2022-06-27T07:20:42.622Z"
   },
   {
    "duration": 11,
    "start_time": "2022-06-27T07:20:42.629Z"
   },
   {
    "duration": 10,
    "start_time": "2022-06-27T07:20:42.641Z"
   },
   {
    "duration": 101,
    "start_time": "2022-06-27T07:20:42.652Z"
   },
   {
    "duration": 0,
    "start_time": "2022-06-27T07:20:42.754Z"
   },
   {
    "duration": 0,
    "start_time": "2022-06-27T07:20:42.756Z"
   },
   {
    "duration": 0,
    "start_time": "2022-06-27T07:20:42.756Z"
   },
   {
    "duration": 0,
    "start_time": "2022-06-27T07:20:42.757Z"
   },
   {
    "duration": 0,
    "start_time": "2022-06-27T07:20:42.758Z"
   },
   {
    "duration": 0,
    "start_time": "2022-06-27T07:20:42.759Z"
   },
   {
    "duration": 0,
    "start_time": "2022-06-27T07:20:42.759Z"
   },
   {
    "duration": 0,
    "start_time": "2022-06-27T07:20:42.760Z"
   },
   {
    "duration": 0,
    "start_time": "2022-06-27T07:20:42.761Z"
   },
   {
    "duration": 0,
    "start_time": "2022-06-27T07:20:42.762Z"
   },
   {
    "duration": 0,
    "start_time": "2022-06-27T07:20:42.763Z"
   },
   {
    "duration": 0,
    "start_time": "2022-06-27T07:20:42.764Z"
   },
   {
    "duration": 0,
    "start_time": "2022-06-27T07:20:42.765Z"
   },
   {
    "duration": 0,
    "start_time": "2022-06-27T07:20:42.766Z"
   },
   {
    "duration": 0,
    "start_time": "2022-06-27T07:20:42.766Z"
   },
   {
    "duration": 0,
    "start_time": "2022-06-27T07:20:42.767Z"
   },
   {
    "duration": 0,
    "start_time": "2022-06-27T07:20:42.768Z"
   },
   {
    "duration": 0,
    "start_time": "2022-06-27T07:20:42.769Z"
   },
   {
    "duration": 0,
    "start_time": "2022-06-27T07:20:42.770Z"
   },
   {
    "duration": 0,
    "start_time": "2022-06-27T07:20:42.771Z"
   },
   {
    "duration": 0,
    "start_time": "2022-06-27T07:20:42.772Z"
   },
   {
    "duration": 0,
    "start_time": "2022-06-27T07:20:42.773Z"
   },
   {
    "duration": 0,
    "start_time": "2022-06-27T07:20:42.773Z"
   },
   {
    "duration": 0,
    "start_time": "2022-06-27T07:20:42.774Z"
   },
   {
    "duration": 6,
    "start_time": "2022-06-27T07:21:11.453Z"
   },
   {
    "duration": 6,
    "start_time": "2022-06-27T07:22:57.380Z"
   },
   {
    "duration": 52,
    "start_time": "2022-06-27T07:23:42.782Z"
   },
   {
    "duration": 57,
    "start_time": "2022-06-27T07:27:28.484Z"
   },
   {
    "duration": 45,
    "start_time": "2022-06-27T07:27:55.103Z"
   },
   {
    "duration": 50,
    "start_time": "2022-06-27T07:31:37.139Z"
   },
   {
    "duration": 61,
    "start_time": "2022-06-27T07:31:47.243Z"
   },
   {
    "duration": 54,
    "start_time": "2022-06-27T07:31:52.650Z"
   },
   {
    "duration": 3,
    "start_time": "2022-06-27T07:32:03.283Z"
   },
   {
    "duration": 3,
    "start_time": "2022-06-27T07:36:12.500Z"
   },
   {
    "duration": 9,
    "start_time": "2022-06-27T07:40:29.525Z"
   },
   {
    "duration": 3,
    "start_time": "2022-06-27T07:40:37.611Z"
   },
   {
    "duration": 11,
    "start_time": "2022-06-27T07:42:00.010Z"
   },
   {
    "duration": 9,
    "start_time": "2022-06-27T07:42:07.182Z"
   },
   {
    "duration": 3,
    "start_time": "2022-06-27T07:43:43.641Z"
   },
   {
    "duration": 1255,
    "start_time": "2022-06-27T07:49:57.532Z"
   },
   {
    "duration": 192,
    "start_time": "2022-06-27T07:50:04.231Z"
   },
   {
    "duration": 18,
    "start_time": "2022-06-27T07:50:06.631Z"
   },
   {
    "duration": 4,
    "start_time": "2022-06-27T07:50:09.821Z"
   },
   {
    "duration": 3,
    "start_time": "2022-06-27T07:51:01.292Z"
   },
   {
    "duration": 3,
    "start_time": "2022-06-27T07:51:01.622Z"
   },
   {
    "duration": 52,
    "start_time": "2022-06-27T07:51:02.382Z"
   },
   {
    "duration": 4,
    "start_time": "2022-06-27T07:51:03.051Z"
   },
   {
    "duration": 3,
    "start_time": "2022-06-27T07:51:04.672Z"
   },
   {
    "duration": 3,
    "start_time": "2022-06-27T07:51:19.813Z"
   },
   {
    "duration": 3849,
    "start_time": "2022-06-27T07:51:20.560Z"
   },
   {
    "duration": 4,
    "start_time": "2022-06-27T07:51:28.592Z"
   },
   {
    "duration": 3,
    "start_time": "2022-06-27T07:51:43.184Z"
   },
   {
    "duration": 94658,
    "start_time": "2022-06-27T07:51:43.751Z"
   },
   {
    "duration": 3,
    "start_time": "2022-06-27T07:53:18.411Z"
   },
   {
    "duration": 2,
    "start_time": "2022-06-27T07:54:11.521Z"
   },
   {
    "duration": 17542,
    "start_time": "2022-06-27T07:54:12.153Z"
   },
   {
    "duration": 4,
    "start_time": "2022-06-27T07:54:29.696Z"
   },
   {
    "duration": 19,
    "start_time": "2022-06-27T07:54:37.613Z"
   },
   {
    "duration": 3,
    "start_time": "2022-06-27T07:54:42.061Z"
   },
   {
    "duration": 6,
    "start_time": "2022-06-27T07:54:42.694Z"
   },
   {
    "duration": 60,
    "start_time": "2022-06-27T07:54:44.881Z"
   },
   {
    "duration": 6,
    "start_time": "2022-06-27T07:54:47.121Z"
   },
   {
    "duration": 1245,
    "start_time": "2022-06-27T07:56:50.755Z"
   },
   {
    "duration": 2,
    "start_time": "2022-06-27T07:56:52.002Z"
   },
   {
    "duration": 7,
    "start_time": "2022-06-27T07:56:52.005Z"
   },
   {
    "duration": 11,
    "start_time": "2022-06-27T07:56:52.013Z"
   },
   {
    "duration": 11,
    "start_time": "2022-06-27T07:56:52.026Z"
   },
   {
    "duration": 726,
    "start_time": "2022-06-27T07:56:52.039Z"
   },
   {
    "duration": 13,
    "start_time": "2022-06-27T07:56:52.766Z"
   },
   {
    "duration": 33,
    "start_time": "2022-06-27T07:56:52.780Z"
   },
   {
    "duration": 38,
    "start_time": "2022-06-27T07:56:52.814Z"
   },
   {
    "duration": 212,
    "start_time": "2022-06-27T07:56:52.854Z"
   },
   {
    "duration": 5,
    "start_time": "2022-06-27T07:56:53.068Z"
   },
   {
    "duration": 4,
    "start_time": "2022-06-27T07:56:53.075Z"
   },
   {
    "duration": 4,
    "start_time": "2022-06-27T07:56:53.080Z"
   },
   {
    "duration": 11,
    "start_time": "2022-06-27T07:56:53.087Z"
   },
   {
    "duration": 2,
    "start_time": "2022-06-27T07:56:53.099Z"
   },
   {
    "duration": 5,
    "start_time": "2022-06-27T07:56:53.103Z"
   },
   {
    "duration": 5,
    "start_time": "2022-06-27T07:56:53.110Z"
   },
   {
    "duration": 38,
    "start_time": "2022-06-27T07:56:53.117Z"
   },
   {
    "duration": 14,
    "start_time": "2022-06-27T07:56:53.156Z"
   },
   {
    "duration": 1326,
    "start_time": "2022-06-27T07:56:53.172Z"
   },
   {
    "duration": 191,
    "start_time": "2022-06-27T07:56:54.500Z"
   },
   {
    "duration": 257,
    "start_time": "2022-06-27T07:56:54.693Z"
   },
   {
    "duration": 4,
    "start_time": "2022-06-27T07:56:54.952Z"
   },
   {
    "duration": 5,
    "start_time": "2022-06-27T07:56:54.958Z"
   },
   {
    "duration": 5,
    "start_time": "2022-06-27T07:56:54.964Z"
   },
   {
    "duration": 13683,
    "start_time": "2022-06-27T07:56:54.970Z"
   },
   {
    "duration": 4,
    "start_time": "2022-06-27T07:57:08.655Z"
   },
   {
    "duration": 4,
    "start_time": "2022-06-27T07:57:08.751Z"
   },
   {
    "duration": 4,
    "start_time": "2022-06-27T07:57:08.757Z"
   },
   {
    "duration": 164743,
    "start_time": "2022-06-27T07:57:08.762Z"
   },
   {
    "duration": 4,
    "start_time": "2022-06-27T07:59:53.507Z"
   },
   {
    "duration": 9,
    "start_time": "2022-06-27T07:59:53.512Z"
   },
   {
    "duration": 700710,
    "start_time": "2022-06-27T07:59:53.522Z"
   },
   {
    "duration": 4,
    "start_time": "2022-06-27T08:11:34.234Z"
   },
   {
    "duration": 3,
    "start_time": "2022-06-27T08:11:34.251Z"
   },
   {
    "duration": 1003096,
    "start_time": "2022-06-27T08:11:34.256Z"
   },
   {
    "duration": 4,
    "start_time": "2022-06-27T08:28:17.354Z"
   },
   {
    "duration": 127,
    "start_time": "2022-06-27T08:28:17.359Z"
   },
   {
    "duration": 0,
    "start_time": "2022-06-27T08:28:17.488Z"
   },
   {
    "duration": 0,
    "start_time": "2022-06-27T08:28:17.489Z"
   },
   {
    "duration": 0,
    "start_time": "2022-06-27T08:28:17.491Z"
   },
   {
    "duration": 0,
    "start_time": "2022-06-27T08:28:17.492Z"
   },
   {
    "duration": 0,
    "start_time": "2022-06-27T08:28:17.493Z"
   },
   {
    "duration": 1572,
    "start_time": "2022-06-27T08:48:24.683Z"
   },
   {
    "duration": 3,
    "start_time": "2022-06-27T08:48:28.093Z"
   },
   {
    "duration": 7,
    "start_time": "2022-06-27T08:48:28.887Z"
   },
   {
    "duration": 3,
    "start_time": "2022-06-27T08:48:32.454Z"
   },
   {
    "duration": 524,
    "start_time": "2022-06-27T08:48:33.443Z"
   },
   {
    "duration": 7,
    "start_time": "2022-06-27T08:48:35.963Z"
   },
   {
    "duration": 578,
    "start_time": "2022-06-27T08:48:40.474Z"
   },
   {
    "duration": 7,
    "start_time": "2022-06-27T08:48:42.579Z"
   },
   {
    "duration": 1223,
    "start_time": "2022-06-27T08:51:50.678Z"
   },
   {
    "duration": 3,
    "start_time": "2022-06-27T08:51:52.016Z"
   },
   {
    "duration": 3,
    "start_time": "2022-06-27T08:51:53.442Z"
   },
   {
    "duration": 3,
    "start_time": "2022-06-27T08:51:53.845Z"
   },
   {
    "duration": 3,
    "start_time": "2022-06-27T08:51:54.857Z"
   },
   {
    "duration": 761,
    "start_time": "2022-06-27T08:51:56.844Z"
   },
   {
    "duration": 14,
    "start_time": "2022-06-27T08:51:57.919Z"
   },
   {
    "duration": 32,
    "start_time": "2022-06-27T08:51:58.726Z"
   },
   {
    "duration": 26,
    "start_time": "2022-06-27T08:51:59.237Z"
   },
   {
    "duration": 212,
    "start_time": "2022-06-27T08:51:59.909Z"
   },
   {
    "duration": 7,
    "start_time": "2022-06-27T08:52:01.007Z"
   },
   {
    "duration": 5,
    "start_time": "2022-06-27T08:52:01.636Z"
   },
   {
    "duration": 3,
    "start_time": "2022-06-27T08:52:05.934Z"
   },
   {
    "duration": 21,
    "start_time": "2022-06-27T08:52:06.547Z"
   },
   {
    "duration": 3,
    "start_time": "2022-06-27T08:52:12.208Z"
   },
   {
    "duration": 2,
    "start_time": "2022-06-27T08:52:12.927Z"
   },
   {
    "duration": 2,
    "start_time": "2022-06-27T08:52:15.107Z"
   },
   {
    "duration": 18,
    "start_time": "2022-06-27T08:52:16.201Z"
   },
   {
    "duration": 25,
    "start_time": "2022-06-27T08:52:19.146Z"
   },
   {
    "duration": 1796,
    "start_time": "2022-06-27T08:52:27.627Z"
   },
   {
    "duration": 129,
    "start_time": "2022-06-27T08:52:30.058Z"
   },
   {
    "duration": 1035,
    "start_time": "2022-06-27T08:52:31.886Z"
   },
   {
    "duration": 4,
    "start_time": "2022-06-27T08:52:37.810Z"
   },
   {
    "duration": 3,
    "start_time": "2022-06-27T08:52:41.786Z"
   },
   {
    "duration": 3,
    "start_time": "2022-06-27T08:52:42.547Z"
   },
   {
    "duration": 25153,
    "start_time": "2022-06-27T08:52:43.397Z"
   },
   {
    "duration": 4,
    "start_time": "2022-06-27T08:53:08.553Z"
   },
   {
    "duration": 94,
    "start_time": "2022-06-27T08:53:08.559Z"
   },
   {
    "duration": 6,
    "start_time": "2022-06-27T08:53:08.655Z"
   },
   {
    "duration": 1077288,
    "start_time": "2022-06-27T08:53:08.662Z"
   },
   {
    "duration": 4,
    "start_time": "2022-06-27T09:11:05.951Z"
   },
   {
    "duration": 5,
    "start_time": "2022-06-27T09:11:05.957Z"
   },
   {
    "duration": 3890445,
    "start_time": "2022-06-27T09:11:05.963Z"
   },
   {
    "duration": 5,
    "start_time": "2022-06-27T10:15:56.410Z"
   },
   {
    "duration": 6,
    "start_time": "2022-06-27T10:15:56.418Z"
   },
   {
    "duration": 46915,
    "start_time": "2022-06-27T10:15:56.426Z"
   },
   {
    "duration": 0,
    "start_time": "2022-06-27T10:16:43.344Z"
   },
   {
    "duration": 7,
    "start_time": "2022-06-27T10:16:46.953Z"
   },
   {
    "duration": 13420,
    "start_time": "2022-06-27T10:17:03.346Z"
   },
   {
    "duration": 6,
    "start_time": "2022-06-27T10:17:19.595Z"
   },
   {
    "duration": 13,
    "start_time": "2022-06-27T10:17:20.425Z"
   },
   {
    "duration": 3808,
    "start_time": "2022-06-27T10:18:10.906Z"
   },
   {
    "duration": 17,
    "start_time": "2022-06-27T10:18:14.718Z"
   },
   {
    "duration": 8610,
    "start_time": "2022-06-27T10:18:17.155Z"
   },
   {
    "duration": 14,
    "start_time": "2022-06-27T10:18:25.773Z"
   },
   {
    "duration": 5,
    "start_time": "2022-06-27T10:20:25.960Z"
   },
   {
    "duration": 3,
    "start_time": "2022-06-27T10:20:27.215Z"
   },
   {
    "duration": 4,
    "start_time": "2022-06-27T10:20:27.498Z"
   },
   {
    "duration": 4,
    "start_time": "2022-06-27T10:20:28.685Z"
   },
   {
    "duration": 1035,
    "start_time": "2022-06-27T10:20:30.570Z"
   },
   {
    "duration": 9,
    "start_time": "2022-06-27T10:20:31.607Z"
   },
   {
    "duration": 53,
    "start_time": "2022-06-27T10:20:31.619Z"
   },
   {
    "duration": 30,
    "start_time": "2022-06-27T10:20:32.014Z"
   },
   {
    "duration": 268,
    "start_time": "2022-06-27T10:20:32.704Z"
   },
   {
    "duration": 9,
    "start_time": "2022-06-27T10:20:33.425Z"
   },
   {
    "duration": 7,
    "start_time": "2022-06-27T10:20:34.114Z"
   },
   {
    "duration": 4,
    "start_time": "2022-06-27T10:20:37.077Z"
   },
   {
    "duration": 39,
    "start_time": "2022-06-27T10:20:37.444Z"
   },
   {
    "duration": 3,
    "start_time": "2022-06-27T10:20:42.885Z"
   },
   {
    "duration": 4,
    "start_time": "2022-06-27T10:20:43.495Z"
   },
   {
    "duration": 3,
    "start_time": "2022-06-27T10:20:48.996Z"
   },
   {
    "duration": 23,
    "start_time": "2022-06-27T10:20:53.205Z"
   },
   {
    "duration": 30,
    "start_time": "2022-06-27T10:20:57.373Z"
   },
   {
    "duration": 846,
    "start_time": "2022-06-27T10:21:02.494Z"
   },
   {
    "duration": 241,
    "start_time": "2022-06-27T10:21:04.527Z"
   },
   {
    "duration": 1463,
    "start_time": "2022-06-27T10:21:05.605Z"
   },
   {
    "duration": 4,
    "start_time": "2022-06-27T10:21:07.108Z"
   },
   {
    "duration": 3,
    "start_time": "2022-06-27T10:21:10.146Z"
   },
   {
    "duration": 3,
    "start_time": "2022-06-27T10:21:10.666Z"
   },
   {
    "duration": 38380,
    "start_time": "2022-06-27T10:21:12.290Z"
   },
   {
    "duration": 5,
    "start_time": "2022-06-27T10:21:50.673Z"
   },
   {
    "duration": 27,
    "start_time": "2022-06-27T10:21:50.755Z"
   },
   {
    "duration": 10111,
    "start_time": "2022-06-27T10:22:51.275Z"
   },
   {
    "duration": 69,
    "start_time": "2022-06-27T10:23:01.391Z"
   },
   {
    "duration": 73,
    "start_time": "2022-06-27T10:23:01.484Z"
   },
   {
    "duration": 10,
    "start_time": "2022-06-27T10:24:38.715Z"
   },
   {
    "duration": 19,
    "start_time": "2022-06-27T10:24:43.042Z"
   },
   {
    "duration": 2217,
    "start_time": "2022-06-27T10:27:15.051Z"
   },
   {
    "duration": 3,
    "start_time": "2022-06-27T10:27:17.271Z"
   },
   {
    "duration": 11,
    "start_time": "2022-06-27T10:27:17.276Z"
   },
   {
    "duration": 6,
    "start_time": "2022-06-27T10:27:17.289Z"
   },
   {
    "duration": 4,
    "start_time": "2022-06-27T10:27:17.299Z"
   },
   {
    "duration": 1687,
    "start_time": "2022-06-27T10:27:17.354Z"
   },
   {
    "duration": 25,
    "start_time": "2022-06-27T10:27:19.043Z"
   },
   {
    "duration": 41,
    "start_time": "2022-06-27T10:27:19.071Z"
   },
   {
    "duration": 49,
    "start_time": "2022-06-27T10:27:19.114Z"
   },
   {
    "duration": 293,
    "start_time": "2022-06-27T10:27:19.167Z"
   },
   {
    "duration": 9,
    "start_time": "2022-06-27T10:27:19.466Z"
   },
   {
    "duration": 6,
    "start_time": "2022-06-27T10:27:19.477Z"
   },
   {
    "duration": 11,
    "start_time": "2022-06-27T10:27:19.485Z"
   },
   {
    "duration": 17,
    "start_time": "2022-06-27T10:27:19.500Z"
   },
   {
    "duration": 3,
    "start_time": "2022-06-27T10:27:19.520Z"
   },
   {
    "duration": 27,
    "start_time": "2022-06-27T10:27:19.526Z"
   },
   {
    "duration": 20,
    "start_time": "2022-06-27T10:27:19.555Z"
   },
   {
    "duration": 19,
    "start_time": "2022-06-27T10:27:19.577Z"
   },
   {
    "duration": 20,
    "start_time": "2022-06-27T10:27:19.598Z"
   },
   {
    "duration": 2172,
    "start_time": "2022-06-27T10:27:19.620Z"
   },
   {
    "duration": 183,
    "start_time": "2022-06-27T10:27:21.794Z"
   },
   {
    "duration": 1068,
    "start_time": "2022-06-27T10:27:21.979Z"
   },
   {
    "duration": 17,
    "start_time": "2022-06-27T10:27:23.050Z"
   },
   {
    "duration": 4,
    "start_time": "2022-06-27T10:27:23.070Z"
   },
   {
    "duration": 5,
    "start_time": "2022-06-27T10:27:23.077Z"
   },
   {
    "duration": 47783,
    "start_time": "2022-06-27T10:27:23.085Z"
   },
   {
    "duration": 79,
    "start_time": "2022-06-27T10:28:10.876Z"
   },
   {
    "duration": 107,
    "start_time": "2022-06-27T10:28:10.957Z"
   },
   {
    "duration": 14,
    "start_time": "2022-06-27T10:28:11.075Z"
   },
   {
    "duration": 12590,
    "start_time": "2022-06-27T10:28:11.091Z"
   },
   {
    "duration": 0,
    "start_time": "2022-06-27T10:28:23.684Z"
   },
   {
    "duration": 0,
    "start_time": "2022-06-27T10:28:23.686Z"
   },
   {
    "duration": 0,
    "start_time": "2022-06-27T10:28:23.688Z"
   },
   {
    "duration": 0,
    "start_time": "2022-06-27T10:28:23.690Z"
   },
   {
    "duration": 0,
    "start_time": "2022-06-27T10:28:23.692Z"
   },
   {
    "duration": 0,
    "start_time": "2022-06-27T10:28:23.694Z"
   },
   {
    "duration": 0,
    "start_time": "2022-06-27T10:28:23.695Z"
   },
   {
    "duration": 0,
    "start_time": "2022-06-27T10:28:23.697Z"
   },
   {
    "duration": 0,
    "start_time": "2022-06-27T10:28:23.699Z"
   },
   {
    "duration": 0,
    "start_time": "2022-06-27T10:28:23.701Z"
   },
   {
    "duration": 0,
    "start_time": "2022-06-27T10:28:23.702Z"
   },
   {
    "duration": 0,
    "start_time": "2022-06-27T10:28:23.704Z"
   },
   {
    "duration": 1,
    "start_time": "2022-06-27T10:28:23.705Z"
   },
   {
    "duration": 0,
    "start_time": "2022-06-27T10:28:23.707Z"
   },
   {
    "duration": 0,
    "start_time": "2022-06-27T10:28:23.709Z"
   },
   {
    "duration": 4,
    "start_time": "2022-06-27T10:28:28.520Z"
   },
   {
    "duration": 4490,
    "start_time": "2022-06-27T10:28:49.182Z"
   },
   {
    "duration": 6,
    "start_time": "2022-06-27T10:28:53.754Z"
   },
   {
    "duration": 22,
    "start_time": "2022-06-27T10:28:53.762Z"
   },
   {
    "duration": 1241,
    "start_time": "2022-06-27T10:29:00.606Z"
   },
   {
    "duration": 23,
    "start_time": "2022-06-27T10:29:01.849Z"
   },
   {
    "duration": 1709,
    "start_time": "2022-06-27T10:29:06.284Z"
   },
   {
    "duration": 10,
    "start_time": "2022-06-27T10:29:07.996Z"
   },
   {
    "duration": 4,
    "start_time": "2022-06-27T10:29:43.085Z"
   },
   {
    "duration": 1586,
    "start_time": "2022-06-27T10:30:10.771Z"
   },
   {
    "duration": 4,
    "start_time": "2022-06-27T10:30:12.366Z"
   },
   {
    "duration": 9,
    "start_time": "2022-06-27T10:30:12.373Z"
   },
   {
    "duration": 6,
    "start_time": "2022-06-27T10:30:12.385Z"
   },
   {
    "duration": 7,
    "start_time": "2022-06-27T10:30:12.393Z"
   },
   {
    "duration": 1878,
    "start_time": "2022-06-27T10:30:12.402Z"
   },
   {
    "duration": 86,
    "start_time": "2022-06-27T10:30:14.283Z"
   },
   {
    "duration": 97,
    "start_time": "2022-06-27T10:30:14.371Z"
   },
   {
    "duration": 94,
    "start_time": "2022-06-27T10:30:14.471Z"
   },
   {
    "duration": 589,
    "start_time": "2022-06-27T10:30:14.575Z"
   },
   {
    "duration": 7,
    "start_time": "2022-06-27T10:30:15.170Z"
   },
   {
    "duration": 9,
    "start_time": "2022-06-27T10:30:15.179Z"
   },
   {
    "duration": 8,
    "start_time": "2022-06-27T10:30:15.190Z"
   },
   {
    "duration": 56,
    "start_time": "2022-06-27T10:30:15.200Z"
   },
   {
    "duration": 5,
    "start_time": "2022-06-27T10:30:15.264Z"
   },
   {
    "duration": 12,
    "start_time": "2022-06-27T10:30:15.272Z"
   },
   {
    "duration": 12,
    "start_time": "2022-06-27T10:30:15.286Z"
   },
   {
    "duration": 24,
    "start_time": "2022-06-27T10:30:15.301Z"
   },
   {
    "duration": 4,
    "start_time": "2022-06-27T10:30:15.328Z"
   },
   {
    "duration": 3176,
    "start_time": "2022-06-27T10:30:15.334Z"
   },
   {
    "duration": 210,
    "start_time": "2022-06-27T10:30:18.511Z"
   },
   {
    "duration": 3094,
    "start_time": "2022-06-27T10:30:18.723Z"
   },
   {
    "duration": 5,
    "start_time": "2022-06-27T10:30:21.819Z"
   },
   {
    "duration": 7,
    "start_time": "2022-06-27T10:30:21.826Z"
   },
   {
    "duration": 20,
    "start_time": "2022-06-27T10:30:21.835Z"
   },
   {
    "duration": 54301,
    "start_time": "2022-06-27T10:30:21.857Z"
   },
   {
    "duration": 4,
    "start_time": "2022-06-27T10:31:16.166Z"
   },
   {
    "duration": 22,
    "start_time": "2022-06-27T10:31:16.175Z"
   },
   {
    "duration": 17,
    "start_time": "2022-06-27T10:31:16.199Z"
   },
   {
    "duration": 14437,
    "start_time": "2022-06-27T10:31:16.218Z"
   },
   {
    "duration": 0,
    "start_time": "2022-06-27T10:31:30.665Z"
   },
   {
    "duration": 0,
    "start_time": "2022-06-27T10:31:30.666Z"
   },
   {
    "duration": 0,
    "start_time": "2022-06-27T10:31:30.667Z"
   },
   {
    "duration": 0,
    "start_time": "2022-06-27T10:31:30.668Z"
   },
   {
    "duration": 0,
    "start_time": "2022-06-27T10:31:30.669Z"
   },
   {
    "duration": 0,
    "start_time": "2022-06-27T10:31:30.672Z"
   },
   {
    "duration": 0,
    "start_time": "2022-06-27T10:31:30.674Z"
   },
   {
    "duration": 0,
    "start_time": "2022-06-27T10:31:30.676Z"
   },
   {
    "duration": 0,
    "start_time": "2022-06-27T10:31:30.678Z"
   },
   {
    "duration": 0,
    "start_time": "2022-06-27T10:31:30.679Z"
   },
   {
    "duration": 0,
    "start_time": "2022-06-27T10:31:30.682Z"
   },
   {
    "duration": 0,
    "start_time": "2022-06-27T10:31:30.684Z"
   },
   {
    "duration": 0,
    "start_time": "2022-06-27T10:31:30.685Z"
   },
   {
    "duration": 0,
    "start_time": "2022-06-27T10:31:30.686Z"
   },
   {
    "duration": 0,
    "start_time": "2022-06-27T10:31:30.687Z"
   },
   {
    "duration": 14601,
    "start_time": "2022-06-27T10:31:33.370Z"
   },
   {
    "duration": 9,
    "start_time": "2022-06-27T10:31:48.057Z"
   },
   {
    "duration": 15,
    "start_time": "2022-06-27T10:31:48.069Z"
   },
   {
    "duration": 4389,
    "start_time": "2022-06-27T10:31:56.241Z"
   },
   {
    "duration": 23,
    "start_time": "2022-06-27T10:32:00.633Z"
   },
   {
    "duration": 16388,
    "start_time": "2022-06-27T10:32:05.718Z"
   },
   {
    "duration": 9,
    "start_time": "2022-06-27T10:32:22.109Z"
   },
   {
    "duration": 3,
    "start_time": "2022-06-27T10:32:56.289Z"
   },
   {
    "duration": 3299,
    "start_time": "2022-06-27T10:33:24.573Z"
   },
   {
    "duration": 5,
    "start_time": "2022-06-27T10:33:27.875Z"
   },
   {
    "duration": 10,
    "start_time": "2022-06-27T10:33:27.883Z"
   },
   {
    "duration": 5,
    "start_time": "2022-06-27T10:33:27.895Z"
   },
   {
    "duration": 8,
    "start_time": "2022-06-27T10:33:27.902Z"
   },
   {
    "duration": 2175,
    "start_time": "2022-06-27T10:33:27.913Z"
   },
   {
    "duration": 67,
    "start_time": "2022-06-27T10:33:30.090Z"
   },
   {
    "duration": 95,
    "start_time": "2022-06-27T10:33:30.163Z"
   },
   {
    "duration": 38,
    "start_time": "2022-06-27T10:33:30.260Z"
   },
   {
    "duration": 342,
    "start_time": "2022-06-27T10:33:30.355Z"
   },
   {
    "duration": 8,
    "start_time": "2022-06-27T10:33:30.700Z"
   },
   {
    "duration": 7,
    "start_time": "2022-06-27T10:33:30.711Z"
   },
   {
    "duration": 13,
    "start_time": "2022-06-27T10:33:30.721Z"
   },
   {
    "duration": 35,
    "start_time": "2022-06-27T10:33:30.739Z"
   },
   {
    "duration": 3,
    "start_time": "2022-06-27T10:33:30.776Z"
   },
   {
    "duration": 19,
    "start_time": "2022-06-27T10:33:30.782Z"
   },
   {
    "duration": 16,
    "start_time": "2022-06-27T10:33:30.804Z"
   },
   {
    "duration": 24,
    "start_time": "2022-06-27T10:33:30.823Z"
   },
   {
    "duration": 30,
    "start_time": "2022-06-27T10:33:30.850Z"
   },
   {
    "duration": 3088,
    "start_time": "2022-06-27T10:33:30.882Z"
   },
   {
    "duration": 132,
    "start_time": "2022-06-27T10:33:33.972Z"
   },
   {
    "duration": 2904,
    "start_time": "2022-06-27T10:33:34.106Z"
   },
   {
    "duration": 5,
    "start_time": "2022-06-27T10:33:37.012Z"
   },
   {
    "duration": 5,
    "start_time": "2022-06-27T10:33:37.019Z"
   },
   {
    "duration": 31,
    "start_time": "2022-06-27T10:33:37.026Z"
   },
   {
    "duration": 31292,
    "start_time": "2022-06-27T10:33:37.060Z"
   },
   {
    "duration": 7,
    "start_time": "2022-06-27T10:34:08.354Z"
   },
   {
    "duration": 10,
    "start_time": "2022-06-27T10:34:08.366Z"
   },
   {
    "duration": 5,
    "start_time": "2022-06-27T10:34:08.378Z"
   },
   {
    "duration": 7380,
    "start_time": "2022-06-27T10:34:08.384Z"
   },
   {
    "duration": 0,
    "start_time": "2022-06-27T10:34:15.767Z"
   },
   {
    "duration": 1,
    "start_time": "2022-06-27T10:34:15.769Z"
   },
   {
    "duration": 0,
    "start_time": "2022-06-27T10:34:15.772Z"
   },
   {
    "duration": 0,
    "start_time": "2022-06-27T10:34:15.774Z"
   },
   {
    "duration": 0,
    "start_time": "2022-06-27T10:34:15.775Z"
   },
   {
    "duration": 0,
    "start_time": "2022-06-27T10:34:15.778Z"
   },
   {
    "duration": 0,
    "start_time": "2022-06-27T10:34:15.779Z"
   },
   {
    "duration": 1,
    "start_time": "2022-06-27T10:34:15.781Z"
   },
   {
    "duration": 0,
    "start_time": "2022-06-27T10:34:15.783Z"
   },
   {
    "duration": 0,
    "start_time": "2022-06-27T10:34:15.786Z"
   },
   {
    "duration": 0,
    "start_time": "2022-06-27T10:34:15.788Z"
   },
   {
    "duration": 0,
    "start_time": "2022-06-27T10:34:15.789Z"
   },
   {
    "duration": 0,
    "start_time": "2022-06-27T10:34:15.791Z"
   },
   {
    "duration": 0,
    "start_time": "2022-06-27T10:34:15.792Z"
   },
   {
    "duration": 0,
    "start_time": "2022-06-27T10:34:15.793Z"
   },
   {
    "duration": 11912,
    "start_time": "2022-06-27T10:34:18.648Z"
   },
   {
    "duration": 6,
    "start_time": "2022-06-27T10:34:30.568Z"
   },
   {
    "duration": 27,
    "start_time": "2022-06-27T10:34:30.576Z"
   },
   {
    "duration": 2958,
    "start_time": "2022-06-27T10:34:32.650Z"
   },
   {
    "duration": 13,
    "start_time": "2022-06-27T10:34:35.610Z"
   },
   {
    "duration": 10247,
    "start_time": "2022-06-27T10:34:41.565Z"
   },
   {
    "duration": 18,
    "start_time": "2022-06-27T10:34:51.814Z"
   },
   {
    "duration": 35438,
    "start_time": "2022-06-27T10:35:01.470Z"
   },
   {
    "duration": 15,
    "start_time": "2022-06-27T10:35:36.910Z"
   },
   {
    "duration": 17802,
    "start_time": "2022-06-27T10:35:44.197Z"
   },
   {
    "duration": 13,
    "start_time": "2022-06-27T10:36:02.002Z"
   },
   {
    "duration": 4,
    "start_time": "2022-06-27T10:36:35.571Z"
   },
   {
    "duration": 33836,
    "start_time": "2022-06-27T10:36:51.608Z"
   },
   {
    "duration": 20,
    "start_time": "2022-06-27T10:37:25.446Z"
   },
   {
    "duration": 9451,
    "start_time": "2022-06-27T10:37:32.862Z"
   },
   {
    "duration": 13,
    "start_time": "2022-06-27T10:37:42.316Z"
   },
   {
    "duration": 1955,
    "start_time": "2022-06-27T10:38:02.616Z"
   },
   {
    "duration": 4,
    "start_time": "2022-06-27T10:38:04.574Z"
   },
   {
    "duration": 18,
    "start_time": "2022-06-27T10:38:04.580Z"
   },
   {
    "duration": 55,
    "start_time": "2022-06-27T10:38:04.602Z"
   },
   {
    "duration": 6,
    "start_time": "2022-06-27T10:38:04.659Z"
   },
   {
    "duration": 1701,
    "start_time": "2022-06-27T10:38:04.667Z"
   },
   {
    "duration": 17,
    "start_time": "2022-06-27T10:38:06.370Z"
   },
   {
    "duration": 42,
    "start_time": "2022-06-27T10:38:06.390Z"
   },
   {
    "duration": 31,
    "start_time": "2022-06-27T10:38:06.451Z"
   },
   {
    "duration": 280,
    "start_time": "2022-06-27T10:38:06.486Z"
   },
   {
    "duration": 7,
    "start_time": "2022-06-27T10:38:06.767Z"
   },
   {
    "duration": 9,
    "start_time": "2022-06-27T10:38:06.776Z"
   },
   {
    "duration": 10,
    "start_time": "2022-06-27T10:38:06.788Z"
   },
   {
    "duration": 25,
    "start_time": "2022-06-27T10:38:06.801Z"
   },
   {
    "duration": 23,
    "start_time": "2022-06-27T10:38:06.828Z"
   },
   {
    "duration": 8,
    "start_time": "2022-06-27T10:38:06.854Z"
   },
   {
    "duration": 10,
    "start_time": "2022-06-27T10:38:06.864Z"
   },
   {
    "duration": 25,
    "start_time": "2022-06-27T10:38:06.876Z"
   },
   {
    "duration": 4,
    "start_time": "2022-06-27T10:38:06.904Z"
   },
   {
    "duration": 2930,
    "start_time": "2022-06-27T10:38:06.910Z"
   },
   {
    "duration": 168,
    "start_time": "2022-06-27T10:38:09.842Z"
   },
   {
    "duration": 2451,
    "start_time": "2022-06-27T10:38:10.012Z"
   },
   {
    "duration": 4,
    "start_time": "2022-06-27T10:38:12.466Z"
   },
   {
    "duration": 11,
    "start_time": "2022-06-27T10:38:12.472Z"
   },
   {
    "duration": 8,
    "start_time": "2022-06-27T10:38:12.485Z"
   },
   {
    "duration": 18758,
    "start_time": "2022-06-27T10:38:12.495Z"
   },
   {
    "duration": 5,
    "start_time": "2022-06-27T10:38:31.255Z"
   },
   {
    "duration": 95,
    "start_time": "2022-06-27T10:38:31.267Z"
   },
   {
    "duration": 11,
    "start_time": "2022-06-27T10:38:31.364Z"
   },
   {
    "duration": 3094,
    "start_time": "2022-06-27T10:38:31.377Z"
   },
   {
    "duration": 0,
    "start_time": "2022-06-27T10:38:34.474Z"
   },
   {
    "duration": 0,
    "start_time": "2022-06-27T10:38:34.476Z"
   },
   {
    "duration": 0,
    "start_time": "2022-06-27T10:38:34.478Z"
   },
   {
    "duration": 0,
    "start_time": "2022-06-27T10:38:34.479Z"
   },
   {
    "duration": 0,
    "start_time": "2022-06-27T10:38:34.481Z"
   },
   {
    "duration": 0,
    "start_time": "2022-06-27T10:38:34.483Z"
   },
   {
    "duration": 0,
    "start_time": "2022-06-27T10:38:34.485Z"
   },
   {
    "duration": 0,
    "start_time": "2022-06-27T10:38:34.487Z"
   },
   {
    "duration": 0,
    "start_time": "2022-06-27T10:38:34.488Z"
   },
   {
    "duration": 0,
    "start_time": "2022-06-27T10:38:34.490Z"
   },
   {
    "duration": 0,
    "start_time": "2022-06-27T10:38:34.492Z"
   },
   {
    "duration": 0,
    "start_time": "2022-06-27T10:38:34.493Z"
   },
   {
    "duration": 0,
    "start_time": "2022-06-27T10:38:34.495Z"
   },
   {
    "duration": 0,
    "start_time": "2022-06-27T10:38:34.498Z"
   },
   {
    "duration": 1,
    "start_time": "2022-06-27T10:38:34.499Z"
   },
   {
    "duration": 2679,
    "start_time": "2022-06-27T10:38:37.581Z"
   },
   {
    "duration": 6,
    "start_time": "2022-06-27T10:38:40.353Z"
   },
   {
    "duration": 94,
    "start_time": "2022-06-27T10:38:40.362Z"
   },
   {
    "duration": 1458,
    "start_time": "2022-06-27T10:38:42.592Z"
   },
   {
    "duration": 17,
    "start_time": "2022-06-27T10:38:44.053Z"
   },
   {
    "duration": 4088,
    "start_time": "2022-06-27T10:38:47.231Z"
   },
   {
    "duration": 16,
    "start_time": "2022-06-27T10:38:51.321Z"
   },
   {
    "duration": 896,
    "start_time": "2022-06-27T10:39:04.995Z"
   },
   {
    "duration": 15,
    "start_time": "2022-06-27T10:39:06.372Z"
   },
   {
    "duration": 326,
    "start_time": "2022-06-27T10:39:15.364Z"
   },
   {
    "duration": 15,
    "start_time": "2022-06-27T10:39:17.832Z"
   },
   {
    "duration": 740,
    "start_time": "2022-06-27T10:39:22.542Z"
   },
   {
    "duration": 16,
    "start_time": "2022-06-27T10:39:23.284Z"
   },
   {
    "duration": 459,
    "start_time": "2022-06-27T10:39:28.112Z"
   },
   {
    "duration": 19,
    "start_time": "2022-06-27T10:39:28.592Z"
   },
   {
    "duration": 895,
    "start_time": "2022-06-27T10:39:33.782Z"
   },
   {
    "duration": 14,
    "start_time": "2022-06-27T10:39:34.680Z"
   },
   {
    "duration": 742,
    "start_time": "2022-06-27T10:39:39.572Z"
   },
   {
    "duration": 16,
    "start_time": "2022-06-27T10:39:40.316Z"
   },
   {
    "duration": 654,
    "start_time": "2022-06-27T10:39:44.812Z"
   },
   {
    "duration": 21,
    "start_time": "2022-06-27T10:39:45.469Z"
   },
   {
    "duration": 499,
    "start_time": "2022-06-27T10:40:00.335Z"
   },
   {
    "duration": 25,
    "start_time": "2022-06-27T10:40:00.837Z"
   },
   {
    "duration": 1573,
    "start_time": "2022-06-27T10:40:29.453Z"
   },
   {
    "duration": 3,
    "start_time": "2022-06-27T10:40:31.029Z"
   },
   {
    "duration": 13,
    "start_time": "2022-06-27T10:40:31.034Z"
   },
   {
    "duration": 9,
    "start_time": "2022-06-27T10:40:31.053Z"
   },
   {
    "duration": 14,
    "start_time": "2022-06-27T10:40:31.065Z"
   },
   {
    "duration": 1474,
    "start_time": "2022-06-27T10:40:31.081Z"
   },
   {
    "duration": 18,
    "start_time": "2022-06-27T10:40:32.557Z"
   },
   {
    "duration": 87,
    "start_time": "2022-06-27T10:40:32.577Z"
   },
   {
    "duration": 85,
    "start_time": "2022-06-27T10:40:32.666Z"
   },
   {
    "duration": 516,
    "start_time": "2022-06-27T10:40:32.754Z"
   },
   {
    "duration": 7,
    "start_time": "2022-06-27T10:40:33.273Z"
   },
   {
    "duration": 5,
    "start_time": "2022-06-27T10:40:33.282Z"
   },
   {
    "duration": 4,
    "start_time": "2022-06-27T10:40:33.289Z"
   },
   {
    "duration": 70,
    "start_time": "2022-06-27T10:40:33.295Z"
   },
   {
    "duration": 2,
    "start_time": "2022-06-27T10:40:33.367Z"
   },
   {
    "duration": 6,
    "start_time": "2022-06-27T10:40:33.371Z"
   },
   {
    "duration": 4,
    "start_time": "2022-06-27T10:40:33.379Z"
   },
   {
    "duration": 67,
    "start_time": "2022-06-27T10:40:33.385Z"
   },
   {
    "duration": 16,
    "start_time": "2022-06-27T10:40:33.454Z"
   },
   {
    "duration": 2839,
    "start_time": "2022-06-27T10:40:33.472Z"
   },
   {
    "duration": 131,
    "start_time": "2022-06-27T10:40:36.313Z"
   },
   {
    "duration": 1786,
    "start_time": "2022-06-27T10:40:36.445Z"
   },
   {
    "duration": 5,
    "start_time": "2022-06-27T10:40:38.232Z"
   },
   {
    "duration": 12,
    "start_time": "2022-06-27T10:40:38.239Z"
   },
   {
    "duration": 6,
    "start_time": "2022-06-27T10:40:38.253Z"
   },
   {
    "duration": 6396,
    "start_time": "2022-06-27T10:40:38.261Z"
   },
   {
    "duration": 91,
    "start_time": "2022-06-27T10:40:44.662Z"
   },
   {
    "duration": 6,
    "start_time": "2022-06-27T10:40:44.757Z"
   },
   {
    "duration": 5,
    "start_time": "2022-06-27T10:40:44.765Z"
   },
   {
    "duration": 3502,
    "start_time": "2022-06-27T10:40:44.772Z"
   },
   {
    "duration": 0,
    "start_time": "2022-06-27T10:40:48.276Z"
   },
   {
    "duration": 0,
    "start_time": "2022-06-27T10:40:48.278Z"
   },
   {
    "duration": 0,
    "start_time": "2022-06-27T10:40:48.279Z"
   },
   {
    "duration": 0,
    "start_time": "2022-06-27T10:40:48.280Z"
   },
   {
    "duration": 0,
    "start_time": "2022-06-27T10:40:48.282Z"
   },
   {
    "duration": 0,
    "start_time": "2022-06-27T10:40:48.283Z"
   },
   {
    "duration": 0,
    "start_time": "2022-06-27T10:40:48.285Z"
   },
   {
    "duration": 0,
    "start_time": "2022-06-27T10:40:48.286Z"
   },
   {
    "duration": 0,
    "start_time": "2022-06-27T10:40:48.287Z"
   },
   {
    "duration": 0,
    "start_time": "2022-06-27T10:40:48.289Z"
   },
   {
    "duration": 0,
    "start_time": "2022-06-27T10:40:48.290Z"
   },
   {
    "duration": 1,
    "start_time": "2022-06-27T10:40:48.291Z"
   },
   {
    "duration": 0,
    "start_time": "2022-06-27T10:40:48.293Z"
   },
   {
    "duration": 0,
    "start_time": "2022-06-27T10:40:48.294Z"
   },
   {
    "duration": 0,
    "start_time": "2022-06-27T10:40:48.295Z"
   },
   {
    "duration": 1147,
    "start_time": "2022-06-27T10:40:52.410Z"
   },
   {
    "duration": 94,
    "start_time": "2022-06-27T10:40:53.559Z"
   },
   {
    "duration": 116,
    "start_time": "2022-06-27T10:40:53.655Z"
   },
   {
    "duration": 176,
    "start_time": "2022-06-27T10:40:56.168Z"
   },
   {
    "duration": 18,
    "start_time": "2022-06-27T10:40:56.448Z"
   },
   {
    "duration": 317,
    "start_time": "2022-06-27T10:40:59.050Z"
   },
   {
    "duration": 16,
    "start_time": "2022-06-27T10:40:59.369Z"
   },
   {
    "duration": 2253,
    "start_time": "2022-06-27T10:41:21.398Z"
   },
   {
    "duration": 4,
    "start_time": "2022-06-27T10:41:23.653Z"
   },
   {
    "duration": 8,
    "start_time": "2022-06-27T10:41:23.658Z"
   },
   {
    "duration": 6,
    "start_time": "2022-06-27T10:41:23.668Z"
   },
   {
    "duration": 11,
    "start_time": "2022-06-27T10:41:23.676Z"
   },
   {
    "duration": 1225,
    "start_time": "2022-06-27T10:41:23.688Z"
   },
   {
    "duration": 16,
    "start_time": "2022-06-27T10:41:24.914Z"
   },
   {
    "duration": 46,
    "start_time": "2022-06-27T10:41:24.932Z"
   },
   {
    "duration": 33,
    "start_time": "2022-06-27T10:41:24.980Z"
   },
   {
    "duration": 281,
    "start_time": "2022-06-27T10:41:25.014Z"
   },
   {
    "duration": 7,
    "start_time": "2022-06-27T10:41:25.297Z"
   },
   {
    "duration": 12,
    "start_time": "2022-06-27T10:41:25.306Z"
   },
   {
    "duration": 4,
    "start_time": "2022-06-27T10:41:25.320Z"
   },
   {
    "duration": 33,
    "start_time": "2022-06-27T10:41:25.327Z"
   },
   {
    "duration": 3,
    "start_time": "2022-06-27T10:41:25.362Z"
   },
   {
    "duration": 6,
    "start_time": "2022-06-27T10:41:25.366Z"
   },
   {
    "duration": 5,
    "start_time": "2022-06-27T10:41:25.374Z"
   },
   {
    "duration": 17,
    "start_time": "2022-06-27T10:41:25.381Z"
   },
   {
    "duration": 18,
    "start_time": "2022-06-27T10:41:25.400Z"
   },
   {
    "duration": 2559,
    "start_time": "2022-06-27T10:41:25.420Z"
   },
   {
    "duration": 124,
    "start_time": "2022-06-27T10:41:27.981Z"
   },
   {
    "duration": 1780,
    "start_time": "2022-06-27T10:41:28.107Z"
   },
   {
    "duration": 5,
    "start_time": "2022-06-27T10:41:29.889Z"
   },
   {
    "duration": 22,
    "start_time": "2022-06-27T10:41:29.896Z"
   },
   {
    "duration": 19,
    "start_time": "2022-06-27T10:41:29.920Z"
   },
   {
    "duration": 153,
    "start_time": "2022-06-27T10:41:29.941Z"
   },
   {
    "duration": 0,
    "start_time": "2022-06-27T10:41:30.096Z"
   },
   {
    "duration": 0,
    "start_time": "2022-06-27T10:41:30.098Z"
   },
   {
    "duration": 0,
    "start_time": "2022-06-27T10:41:30.099Z"
   },
   {
    "duration": 0,
    "start_time": "2022-06-27T10:41:30.101Z"
   },
   {
    "duration": 0,
    "start_time": "2022-06-27T10:41:30.103Z"
   },
   {
    "duration": 0,
    "start_time": "2022-06-27T10:41:30.104Z"
   },
   {
    "duration": 0,
    "start_time": "2022-06-27T10:41:30.106Z"
   },
   {
    "duration": 0,
    "start_time": "2022-06-27T10:41:30.108Z"
   },
   {
    "duration": 0,
    "start_time": "2022-06-27T10:41:30.110Z"
   },
   {
    "duration": 0,
    "start_time": "2022-06-27T10:41:30.112Z"
   },
   {
    "duration": 0,
    "start_time": "2022-06-27T10:41:30.114Z"
   },
   {
    "duration": 0,
    "start_time": "2022-06-27T10:41:30.150Z"
   },
   {
    "duration": 0,
    "start_time": "2022-06-27T10:41:30.152Z"
   },
   {
    "duration": 0,
    "start_time": "2022-06-27T10:41:30.155Z"
   },
   {
    "duration": 0,
    "start_time": "2022-06-27T10:41:30.156Z"
   },
   {
    "duration": 0,
    "start_time": "2022-06-27T10:41:30.158Z"
   },
   {
    "duration": 0,
    "start_time": "2022-06-27T10:41:30.159Z"
   },
   {
    "duration": 0,
    "start_time": "2022-06-27T10:41:30.160Z"
   },
   {
    "duration": 0,
    "start_time": "2022-06-27T10:41:30.161Z"
   },
   {
    "duration": 2689,
    "start_time": "2022-06-27T10:41:52.063Z"
   },
   {
    "duration": 3,
    "start_time": "2022-06-27T10:41:54.754Z"
   },
   {
    "duration": 8,
    "start_time": "2022-06-27T10:41:54.759Z"
   },
   {
    "duration": 6,
    "start_time": "2022-06-27T10:41:54.769Z"
   },
   {
    "duration": 4,
    "start_time": "2022-06-27T10:41:54.779Z"
   },
   {
    "duration": 1886,
    "start_time": "2022-06-27T10:41:54.785Z"
   },
   {
    "duration": 16,
    "start_time": "2022-06-27T10:41:56.672Z"
   },
   {
    "duration": 90,
    "start_time": "2022-06-27T10:41:56.690Z"
   },
   {
    "duration": 85,
    "start_time": "2022-06-27T10:41:56.781Z"
   },
   {
    "duration": 452,
    "start_time": "2022-06-27T10:41:56.867Z"
   },
   {
    "duration": 6,
    "start_time": "2022-06-27T10:41:57.321Z"
   },
   {
    "duration": 8,
    "start_time": "2022-06-27T10:41:57.329Z"
   },
   {
    "duration": 3,
    "start_time": "2022-06-27T10:41:57.351Z"
   },
   {
    "duration": 18,
    "start_time": "2022-06-27T10:41:57.358Z"
   },
   {
    "duration": 3,
    "start_time": "2022-06-27T10:41:57.378Z"
   },
   {
    "duration": 5,
    "start_time": "2022-06-27T10:41:57.382Z"
   },
   {
    "duration": 6,
    "start_time": "2022-06-27T10:41:57.389Z"
   },
   {
    "duration": 19,
    "start_time": "2022-06-27T10:41:57.396Z"
   },
   {
    "duration": 48,
    "start_time": "2022-06-27T10:41:57.417Z"
   },
   {
    "duration": 2542,
    "start_time": "2022-06-27T10:41:57.467Z"
   },
   {
    "duration": 212,
    "start_time": "2022-06-27T10:42:00.010Z"
   },
   {
    "duration": 2042,
    "start_time": "2022-06-27T10:42:00.224Z"
   },
   {
    "duration": 6,
    "start_time": "2022-06-27T10:42:02.268Z"
   },
   {
    "duration": 23,
    "start_time": "2022-06-27T10:42:02.276Z"
   },
   {
    "duration": 17,
    "start_time": "2022-06-27T10:42:02.301Z"
   },
   {
    "duration": 3238,
    "start_time": "2022-06-27T10:42:02.320Z"
   },
   {
    "duration": 6,
    "start_time": "2022-06-27T10:42:05.651Z"
   },
   {
    "duration": 95,
    "start_time": "2022-06-27T10:42:05.659Z"
   },
   {
    "duration": 11,
    "start_time": "2022-06-27T10:42:05.757Z"
   },
   {
    "duration": 22334,
    "start_time": "2022-06-27T10:42:05.771Z"
   },
   {
    "duration": 5,
    "start_time": "2022-06-27T10:42:28.107Z"
   },
   {
    "duration": 10,
    "start_time": "2022-06-27T10:42:28.114Z"
   },
   {
    "duration": 20246,
    "start_time": "2022-06-27T10:42:28.126Z"
   },
   {
    "duration": 0,
    "start_time": "2022-06-27T10:42:48.374Z"
   },
   {
    "duration": 0,
    "start_time": "2022-06-27T10:42:48.376Z"
   },
   {
    "duration": 0,
    "start_time": "2022-06-27T10:42:48.377Z"
   },
   {
    "duration": 0,
    "start_time": "2022-06-27T10:42:48.379Z"
   },
   {
    "duration": 0,
    "start_time": "2022-06-27T10:42:48.381Z"
   },
   {
    "duration": 0,
    "start_time": "2022-06-27T10:42:48.382Z"
   },
   {
    "duration": 0,
    "start_time": "2022-06-27T10:42:48.383Z"
   },
   {
    "duration": 0,
    "start_time": "2022-06-27T10:42:48.384Z"
   },
   {
    "duration": 0,
    "start_time": "2022-06-27T10:42:48.385Z"
   },
   {
    "duration": 0,
    "start_time": "2022-06-27T10:42:48.386Z"
   },
   {
    "duration": 0,
    "start_time": "2022-06-27T10:42:48.387Z"
   },
   {
    "duration": 0,
    "start_time": "2022-06-27T10:42:48.389Z"
   },
   {
    "duration": 4,
    "start_time": "2022-06-27T10:42:50.851Z"
   },
   {
    "duration": 1269,
    "start_time": "2022-06-27T10:43:05.282Z"
   },
   {
    "duration": 95,
    "start_time": "2022-06-27T10:43:06.557Z"
   },
   {
    "duration": 19,
    "start_time": "2022-06-27T10:43:06.654Z"
   },
   {
    "duration": 176,
    "start_time": "2022-06-27T10:43:10.319Z"
   },
   {
    "duration": 18,
    "start_time": "2022-06-27T10:43:10.659Z"
   },
   {
    "duration": 311,
    "start_time": "2022-06-27T10:43:14.931Z"
   },
   {
    "duration": 22,
    "start_time": "2022-06-27T10:43:15.245Z"
   },
   {
    "duration": 308,
    "start_time": "2022-06-27T10:43:47.142Z"
   },
   {
    "duration": 16,
    "start_time": "2022-06-27T10:43:47.512Z"
   },
   {
    "duration": 1846,
    "start_time": "2022-06-27T10:44:11.042Z"
   },
   {
    "duration": 3,
    "start_time": "2022-06-27T10:44:12.890Z"
   },
   {
    "duration": 56,
    "start_time": "2022-06-27T10:44:12.895Z"
   },
   {
    "duration": 5,
    "start_time": "2022-06-27T10:44:12.953Z"
   },
   {
    "duration": 6,
    "start_time": "2022-06-27T10:44:12.960Z"
   },
   {
    "duration": 1652,
    "start_time": "2022-06-27T10:44:12.967Z"
   },
   {
    "duration": 17,
    "start_time": "2022-06-27T10:44:14.622Z"
   },
   {
    "duration": 44,
    "start_time": "2022-06-27T10:44:14.641Z"
   },
   {
    "duration": 30,
    "start_time": "2022-06-27T10:44:14.687Z"
   },
   {
    "duration": 285,
    "start_time": "2022-06-27T10:44:14.718Z"
   },
   {
    "duration": 7,
    "start_time": "2022-06-27T10:44:15.005Z"
   },
   {
    "duration": 7,
    "start_time": "2022-06-27T10:44:15.014Z"
   },
   {
    "duration": 9,
    "start_time": "2022-06-27T10:44:15.022Z"
   },
   {
    "duration": 17,
    "start_time": "2022-06-27T10:44:15.050Z"
   },
   {
    "duration": 2,
    "start_time": "2022-06-27T10:44:15.069Z"
   },
   {
    "duration": 9,
    "start_time": "2022-06-27T10:44:15.073Z"
   },
   {
    "duration": 6,
    "start_time": "2022-06-27T10:44:15.083Z"
   },
   {
    "duration": 20,
    "start_time": "2022-06-27T10:44:15.091Z"
   },
   {
    "duration": 2,
    "start_time": "2022-06-27T10:44:15.114Z"
   },
   {
    "duration": 2825,
    "start_time": "2022-06-27T10:44:15.118Z"
   },
   {
    "duration": 196,
    "start_time": "2022-06-27T10:44:17.951Z"
   },
   {
    "duration": 2537,
    "start_time": "2022-06-27T10:44:18.149Z"
   },
   {
    "duration": 5,
    "start_time": "2022-06-27T10:44:20.688Z"
   },
   {
    "duration": 8,
    "start_time": "2022-06-27T10:44:20.695Z"
   },
   {
    "duration": 8,
    "start_time": "2022-06-27T10:44:20.705Z"
   },
   {
    "duration": 6941,
    "start_time": "2022-06-27T10:44:20.714Z"
   },
   {
    "duration": 6,
    "start_time": "2022-06-27T10:44:27.657Z"
   },
   {
    "duration": 12,
    "start_time": "2022-06-27T10:44:27.665Z"
   },
   {
    "duration": 5,
    "start_time": "2022-06-27T10:44:27.679Z"
   },
   {
    "duration": 7174,
    "start_time": "2022-06-27T10:44:27.686Z"
   },
   {
    "duration": 0,
    "start_time": "2022-06-27T10:44:34.863Z"
   },
   {
    "duration": 0,
    "start_time": "2022-06-27T10:44:34.864Z"
   },
   {
    "duration": 0,
    "start_time": "2022-06-27T10:44:34.865Z"
   },
   {
    "duration": 0,
    "start_time": "2022-06-27T10:44:34.867Z"
   },
   {
    "duration": 0,
    "start_time": "2022-06-27T10:44:34.868Z"
   },
   {
    "duration": 0,
    "start_time": "2022-06-27T10:44:34.869Z"
   },
   {
    "duration": 0,
    "start_time": "2022-06-27T10:44:34.870Z"
   },
   {
    "duration": 0,
    "start_time": "2022-06-27T10:44:34.871Z"
   },
   {
    "duration": 0,
    "start_time": "2022-06-27T10:44:34.873Z"
   },
   {
    "duration": 0,
    "start_time": "2022-06-27T10:44:34.874Z"
   },
   {
    "duration": 0,
    "start_time": "2022-06-27T10:44:34.875Z"
   },
   {
    "duration": 0,
    "start_time": "2022-06-27T10:44:34.876Z"
   },
   {
    "duration": 0,
    "start_time": "2022-06-27T10:44:34.877Z"
   },
   {
    "duration": 0,
    "start_time": "2022-06-27T10:44:34.879Z"
   },
   {
    "duration": 0,
    "start_time": "2022-06-27T10:44:34.880Z"
   },
   {
    "duration": 2934,
    "start_time": "2022-06-27T10:44:40.918Z"
   },
   {
    "duration": 96,
    "start_time": "2022-06-27T10:44:43.858Z"
   },
   {
    "duration": 15,
    "start_time": "2022-06-27T10:44:43.957Z"
   },
   {
    "duration": 525,
    "start_time": "2022-06-27T10:44:45.820Z"
   },
   {
    "duration": 16,
    "start_time": "2022-06-27T10:44:46.348Z"
   },
   {
    "duration": 3862,
    "start_time": "2022-06-27T10:44:49.061Z"
   },
   {
    "duration": 26,
    "start_time": "2022-06-27T10:44:52.926Z"
   },
   {
    "duration": 1527,
    "start_time": "2022-06-27T10:45:13.075Z"
   },
   {
    "duration": 5,
    "start_time": "2022-06-27T10:45:14.605Z"
   },
   {
    "duration": 40,
    "start_time": "2022-06-27T10:45:14.612Z"
   },
   {
    "duration": 12,
    "start_time": "2022-06-27T10:45:14.655Z"
   },
   {
    "duration": 4,
    "start_time": "2022-06-27T10:45:14.671Z"
   },
   {
    "duration": 1894,
    "start_time": "2022-06-27T10:45:14.676Z"
   },
   {
    "duration": 17,
    "start_time": "2022-06-27T10:45:16.572Z"
   },
   {
    "duration": 95,
    "start_time": "2022-06-27T10:45:16.591Z"
   },
   {
    "duration": 81,
    "start_time": "2022-06-27T10:45:16.688Z"
   },
   {
    "duration": 271,
    "start_time": "2022-06-27T10:45:16.771Z"
   },
   {
    "duration": 14,
    "start_time": "2022-06-27T10:45:17.043Z"
   },
   {
    "duration": 5,
    "start_time": "2022-06-27T10:45:17.059Z"
   },
   {
    "duration": 6,
    "start_time": "2022-06-27T10:45:17.066Z"
   },
   {
    "duration": 16,
    "start_time": "2022-06-27T10:45:17.075Z"
   },
   {
    "duration": 3,
    "start_time": "2022-06-27T10:45:17.093Z"
   },
   {
    "duration": 5,
    "start_time": "2022-06-27T10:45:17.098Z"
   },
   {
    "duration": 5,
    "start_time": "2022-06-27T10:45:17.105Z"
   },
   {
    "duration": 49,
    "start_time": "2022-06-27T10:45:17.112Z"
   },
   {
    "duration": 3,
    "start_time": "2022-06-27T10:45:17.163Z"
   },
   {
    "duration": 2813,
    "start_time": "2022-06-27T10:45:17.169Z"
   },
   {
    "duration": 224,
    "start_time": "2022-06-27T10:45:19.984Z"
   },
   {
    "duration": 2500,
    "start_time": "2022-06-27T10:45:20.210Z"
   },
   {
    "duration": 4,
    "start_time": "2022-06-27T10:45:22.712Z"
   },
   {
    "duration": 5,
    "start_time": "2022-06-27T10:45:22.718Z"
   },
   {
    "duration": 5,
    "start_time": "2022-06-27T10:45:22.725Z"
   },
   {
    "duration": 12724,
    "start_time": "2022-06-27T10:45:22.732Z"
   },
   {
    "duration": 93,
    "start_time": "2022-06-27T10:45:35.458Z"
   },
   {
    "duration": 19,
    "start_time": "2022-06-27T10:45:35.553Z"
   },
   {
    "duration": 6,
    "start_time": "2022-06-27T10:45:35.574Z"
   },
   {
    "duration": 7059,
    "start_time": "2022-06-27T10:45:35.583Z"
   },
   {
    "duration": 0,
    "start_time": "2022-06-27T10:45:42.644Z"
   },
   {
    "duration": 0,
    "start_time": "2022-06-27T10:45:42.651Z"
   },
   {
    "duration": 0,
    "start_time": "2022-06-27T10:45:42.653Z"
   },
   {
    "duration": 0,
    "start_time": "2022-06-27T10:45:42.654Z"
   },
   {
    "duration": 0,
    "start_time": "2022-06-27T10:45:42.655Z"
   },
   {
    "duration": 0,
    "start_time": "2022-06-27T10:45:42.656Z"
   },
   {
    "duration": 0,
    "start_time": "2022-06-27T10:45:42.657Z"
   },
   {
    "duration": 0,
    "start_time": "2022-06-27T10:45:42.658Z"
   },
   {
    "duration": 0,
    "start_time": "2022-06-27T10:45:42.659Z"
   },
   {
    "duration": 0,
    "start_time": "2022-06-27T10:45:42.660Z"
   },
   {
    "duration": 0,
    "start_time": "2022-06-27T10:45:42.661Z"
   },
   {
    "duration": 0,
    "start_time": "2022-06-27T10:45:42.663Z"
   },
   {
    "duration": 0,
    "start_time": "2022-06-27T10:45:42.664Z"
   },
   {
    "duration": 0,
    "start_time": "2022-06-27T10:45:42.665Z"
   },
   {
    "duration": 0,
    "start_time": "2022-06-27T10:45:42.666Z"
   },
   {
    "duration": 2,
    "start_time": "2022-06-27T10:46:08.438Z"
   },
   {
    "duration": 19214,
    "start_time": "2022-06-27T10:46:11.137Z"
   },
   {
    "duration": 4,
    "start_time": "2022-06-27T10:46:30.354Z"
   },
   {
    "duration": 29,
    "start_time": "2022-06-27T10:46:30.360Z"
   },
   {
    "duration": 4,
    "start_time": "2022-06-27T10:46:52.629Z"
   },
   {
    "duration": 14858,
    "start_time": "2022-06-27T10:46:52.997Z"
   },
   {
    "duration": 93,
    "start_time": "2022-06-27T10:47:07.860Z"
   },
   {
    "duration": 3,
    "start_time": "2022-06-27T10:47:08.976Z"
   },
   {
    "duration": 7364,
    "start_time": "2022-06-27T10:47:55.888Z"
   },
   {
    "duration": 6,
    "start_time": "2022-06-27T10:48:03.255Z"
   },
   {
    "duration": 19,
    "start_time": "2022-06-27T10:48:03.263Z"
   },
   {
    "duration": 1762,
    "start_time": "2022-06-27T10:48:36.538Z"
   },
   {
    "duration": 13,
    "start_time": "2022-06-27T10:48:38.302Z"
   },
   {
    "duration": 7739,
    "start_time": "2022-06-27T10:48:56.458Z"
   },
   {
    "duration": 12,
    "start_time": "2022-06-27T10:49:04.199Z"
   },
   {
    "duration": 7786,
    "start_time": "2022-06-27T10:49:41.586Z"
   },
   {
    "duration": 12,
    "start_time": "2022-06-27T10:49:49.375Z"
   },
   {
    "duration": 9377,
    "start_time": "2022-06-27T10:49:49.389Z"
   },
   {
    "duration": 12,
    "start_time": "2022-06-27T10:49:58.769Z"
   },
   {
    "duration": 1073,
    "start_time": "2022-06-27T10:50:22.669Z"
   },
   {
    "duration": 14,
    "start_time": "2022-06-27T10:50:23.744Z"
   },
   {
    "duration": 15,
    "start_time": "2022-06-27T10:51:52.137Z"
   },
   {
    "duration": 12,
    "start_time": "2022-06-27T10:51:52.436Z"
   },
   {
    "duration": 7822,
    "start_time": "2022-06-27T10:52:24.937Z"
   },
   {
    "duration": 96,
    "start_time": "2022-06-27T10:52:32.761Z"
   },
   {
    "duration": 15583,
    "start_time": "2022-06-27T10:52:59.968Z"
   },
   {
    "duration": 12,
    "start_time": "2022-06-27T10:53:15.553Z"
   },
   {
    "duration": 2295,
    "start_time": "2022-06-27T10:55:37.672Z"
   },
   {
    "duration": 4,
    "start_time": "2022-06-27T10:55:39.969Z"
   },
   {
    "duration": 6,
    "start_time": "2022-06-27T10:55:39.974Z"
   },
   {
    "duration": 8,
    "start_time": "2022-06-27T10:55:39.982Z"
   },
   {
    "duration": 4,
    "start_time": "2022-06-27T10:55:39.993Z"
   },
   {
    "duration": 1186,
    "start_time": "2022-06-27T10:55:39.999Z"
   },
   {
    "duration": 16,
    "start_time": "2022-06-27T10:55:41.187Z"
   },
   {
    "duration": 48,
    "start_time": "2022-06-27T10:55:41.205Z"
   },
   {
    "duration": 31,
    "start_time": "2022-06-27T10:55:41.255Z"
   },
   {
    "duration": 278,
    "start_time": "2022-06-27T10:55:41.288Z"
   },
   {
    "duration": 7,
    "start_time": "2022-06-27T10:55:41.567Z"
   },
   {
    "duration": 4,
    "start_time": "2022-06-27T10:55:41.576Z"
   },
   {
    "duration": 6,
    "start_time": "2022-06-27T10:55:41.582Z"
   },
   {
    "duration": 12,
    "start_time": "2022-06-27T10:55:41.591Z"
   },
   {
    "duration": 2,
    "start_time": "2022-06-27T10:55:41.605Z"
   },
   {
    "duration": 7,
    "start_time": "2022-06-27T10:55:41.609Z"
   },
   {
    "duration": 5,
    "start_time": "2022-06-27T10:55:41.617Z"
   },
   {
    "duration": 11,
    "start_time": "2022-06-27T10:55:41.652Z"
   },
   {
    "duration": 5,
    "start_time": "2022-06-27T10:55:41.665Z"
   },
   {
    "duration": 1698,
    "start_time": "2022-06-27T10:55:41.672Z"
   },
   {
    "duration": 129,
    "start_time": "2022-06-27T10:55:43.372Z"
   },
   {
    "duration": 500,
    "start_time": "2022-06-27T10:55:43.503Z"
   },
   {
    "duration": 4,
    "start_time": "2022-06-27T10:55:44.005Z"
   },
   {
    "duration": 8,
    "start_time": "2022-06-27T10:55:44.011Z"
   },
   {
    "duration": 6,
    "start_time": "2022-06-27T10:55:44.021Z"
   },
   {
    "duration": 5529,
    "start_time": "2022-06-27T10:55:44.028Z"
   },
   {
    "duration": 93,
    "start_time": "2022-06-27T10:55:49.560Z"
   },
   {
    "duration": 7,
    "start_time": "2022-06-27T10:55:49.655Z"
   },
   {
    "duration": 5,
    "start_time": "2022-06-27T10:55:49.665Z"
   },
   {
    "duration": 2366,
    "start_time": "2022-06-27T10:55:49.671Z"
   },
   {
    "duration": 0,
    "start_time": "2022-06-27T10:55:52.039Z"
   },
   {
    "duration": 0,
    "start_time": "2022-06-27T10:55:52.040Z"
   },
   {
    "duration": 0,
    "start_time": "2022-06-27T10:55:52.041Z"
   },
   {
    "duration": 0,
    "start_time": "2022-06-27T10:55:52.043Z"
   },
   {
    "duration": 0,
    "start_time": "2022-06-27T10:55:52.051Z"
   },
   {
    "duration": 0,
    "start_time": "2022-06-27T10:55:52.052Z"
   },
   {
    "duration": 0,
    "start_time": "2022-06-27T10:55:52.053Z"
   },
   {
    "duration": 0,
    "start_time": "2022-06-27T10:55:52.054Z"
   },
   {
    "duration": 0,
    "start_time": "2022-06-27T10:55:52.055Z"
   },
   {
    "duration": 0,
    "start_time": "2022-06-27T10:55:52.056Z"
   },
   {
    "duration": 0,
    "start_time": "2022-06-27T10:55:52.057Z"
   },
   {
    "duration": 0,
    "start_time": "2022-06-27T10:55:52.058Z"
   },
   {
    "duration": 0,
    "start_time": "2022-06-27T10:55:52.059Z"
   },
   {
    "duration": 0,
    "start_time": "2022-06-27T10:55:52.061Z"
   },
   {
    "duration": 0,
    "start_time": "2022-06-27T10:55:52.063Z"
   },
   {
    "duration": 0,
    "start_time": "2022-06-27T10:55:52.064Z"
   },
   {
    "duration": 0,
    "start_time": "2022-06-27T10:55:52.065Z"
   },
   {
    "duration": 0,
    "start_time": "2022-06-27T10:55:52.066Z"
   },
   {
    "duration": 0,
    "start_time": "2022-06-27T10:55:52.068Z"
   },
   {
    "duration": 0,
    "start_time": "2022-06-27T10:55:52.069Z"
   },
   {
    "duration": 2331,
    "start_time": "2022-06-27T10:55:55.420Z"
   },
   {
    "duration": 97,
    "start_time": "2022-06-27T10:55:57.754Z"
   },
   {
    "duration": 4398,
    "start_time": "2022-06-27T10:55:57.853Z"
   },
   {
    "duration": 97,
    "start_time": "2022-06-27T10:56:02.254Z"
   },
   {
    "duration": 269,
    "start_time": "2022-06-27T10:56:07.131Z"
   },
   {
    "duration": 8,
    "start_time": "2022-06-27T10:56:07.444Z"
   },
   {
    "duration": 200,
    "start_time": "2022-06-27T10:56:07.735Z"
   },
   {
    "duration": 7,
    "start_time": "2022-06-27T10:56:08.047Z"
   },
   {
    "duration": 1426,
    "start_time": "2022-06-27T10:56:12.091Z"
   },
   {
    "duration": 7,
    "start_time": "2022-06-27T10:56:13.519Z"
   },
   {
    "duration": 2344,
    "start_time": "2022-06-27T10:56:13.528Z"
   },
   {
    "duration": 7,
    "start_time": "2022-06-27T10:56:15.875Z"
   },
   {
    "duration": 1516,
    "start_time": "2022-06-27T10:56:53.887Z"
   },
   {
    "duration": 2,
    "start_time": "2022-06-27T10:56:55.405Z"
   },
   {
    "duration": 6,
    "start_time": "2022-06-27T10:56:55.409Z"
   },
   {
    "duration": 5,
    "start_time": "2022-06-27T10:56:55.418Z"
   },
   {
    "duration": 7,
    "start_time": "2022-06-27T10:56:55.424Z"
   },
   {
    "duration": 956,
    "start_time": "2022-06-27T10:56:55.433Z"
   },
   {
    "duration": 17,
    "start_time": "2022-06-27T10:56:56.390Z"
   },
   {
    "duration": 49,
    "start_time": "2022-06-27T10:56:56.409Z"
   },
   {
    "duration": 30,
    "start_time": "2022-06-27T10:56:56.460Z"
   },
   {
    "duration": 275,
    "start_time": "2022-06-27T10:56:56.493Z"
   },
   {
    "duration": 8,
    "start_time": "2022-06-27T10:56:56.769Z"
   },
   {
    "duration": 5,
    "start_time": "2022-06-27T10:56:56.779Z"
   },
   {
    "duration": 4,
    "start_time": "2022-06-27T10:56:56.785Z"
   },
   {
    "duration": 14,
    "start_time": "2022-06-27T10:56:56.791Z"
   },
   {
    "duration": 2,
    "start_time": "2022-06-27T10:56:56.807Z"
   },
   {
    "duration": 5,
    "start_time": "2022-06-27T10:56:56.811Z"
   },
   {
    "duration": 33,
    "start_time": "2022-06-27T10:56:56.818Z"
   },
   {
    "duration": 11,
    "start_time": "2022-06-27T10:56:56.853Z"
   },
   {
    "duration": 3,
    "start_time": "2022-06-27T10:56:56.866Z"
   },
   {
    "duration": 1687,
    "start_time": "2022-06-27T10:56:56.870Z"
   },
   {
    "duration": 145,
    "start_time": "2022-06-27T10:56:58.559Z"
   },
   {
    "duration": 497,
    "start_time": "2022-06-27T10:56:58.706Z"
   },
   {
    "duration": 5,
    "start_time": "2022-06-27T10:56:59.204Z"
   },
   {
    "duration": 7,
    "start_time": "2022-06-27T10:56:59.210Z"
   },
   {
    "duration": 6,
    "start_time": "2022-06-27T10:56:59.218Z"
   },
   {
    "duration": 4431,
    "start_time": "2022-06-27T10:56:59.226Z"
   },
   {
    "duration": 93,
    "start_time": "2022-06-27T10:57:03.659Z"
   },
   {
    "duration": 10,
    "start_time": "2022-06-27T10:57:03.757Z"
   },
   {
    "duration": 83,
    "start_time": "2022-06-27T10:57:03.769Z"
   },
   {
    "duration": 7476,
    "start_time": "2022-06-27T10:57:03.854Z"
   },
   {
    "duration": 0,
    "start_time": "2022-06-27T10:57:11.332Z"
   },
   {
    "duration": 0,
    "start_time": "2022-06-27T10:57:11.333Z"
   },
   {
    "duration": 0,
    "start_time": "2022-06-27T10:57:11.335Z"
   },
   {
    "duration": 0,
    "start_time": "2022-06-27T10:57:11.336Z"
   },
   {
    "duration": 0,
    "start_time": "2022-06-27T10:57:11.337Z"
   },
   {
    "duration": 0,
    "start_time": "2022-06-27T10:57:11.350Z"
   },
   {
    "duration": 0,
    "start_time": "2022-06-27T10:57:11.352Z"
   },
   {
    "duration": 0,
    "start_time": "2022-06-27T10:57:11.353Z"
   },
   {
    "duration": 0,
    "start_time": "2022-06-27T10:57:11.354Z"
   },
   {
    "duration": 0,
    "start_time": "2022-06-27T10:57:11.355Z"
   },
   {
    "duration": 0,
    "start_time": "2022-06-27T10:57:11.356Z"
   },
   {
    "duration": 0,
    "start_time": "2022-06-27T10:57:11.358Z"
   },
   {
    "duration": 0,
    "start_time": "2022-06-27T10:57:11.359Z"
   },
   {
    "duration": 0,
    "start_time": "2022-06-27T10:57:11.360Z"
   },
   {
    "duration": 0,
    "start_time": "2022-06-27T10:57:11.361Z"
   },
   {
    "duration": 0,
    "start_time": "2022-06-27T10:57:11.363Z"
   },
   {
    "duration": 0,
    "start_time": "2022-06-27T10:57:11.365Z"
   },
   {
    "duration": 0,
    "start_time": "2022-06-27T10:57:11.370Z"
   },
   {
    "duration": 0,
    "start_time": "2022-06-27T10:57:11.371Z"
   },
   {
    "duration": 0,
    "start_time": "2022-06-27T10:57:11.376Z"
   },
   {
    "duration": 3291,
    "start_time": "2022-06-27T10:57:15.660Z"
   },
   {
    "duration": 7,
    "start_time": "2022-06-27T10:57:18.953Z"
   },
   {
    "duration": 4699,
    "start_time": "2022-06-27T10:57:19.052Z"
   },
   {
    "duration": 8,
    "start_time": "2022-06-27T10:57:23.754Z"
   },
   {
    "duration": 236,
    "start_time": "2022-06-27T10:57:26.541Z"
   },
   {
    "duration": 10,
    "start_time": "2022-06-27T10:57:26.935Z"
   },
   {
    "duration": 225,
    "start_time": "2022-06-27T10:57:27.350Z"
   },
   {
    "duration": 7,
    "start_time": "2022-06-27T10:57:27.858Z"
   },
   {
    "duration": 1796,
    "start_time": "2022-06-27T10:57:32.340Z"
   },
   {
    "duration": 14,
    "start_time": "2022-06-27T10:57:34.138Z"
   },
   {
    "duration": 2234,
    "start_time": "2022-06-27T10:57:34.156Z"
   },
   {
    "duration": 7,
    "start_time": "2022-06-27T10:57:36.392Z"
   },
   {
    "duration": 1550,
    "start_time": "2022-06-27T10:58:06.650Z"
   },
   {
    "duration": 3,
    "start_time": "2022-06-27T10:58:08.203Z"
   },
   {
    "duration": 9,
    "start_time": "2022-06-27T10:58:08.208Z"
   },
   {
    "duration": 6,
    "start_time": "2022-06-27T10:58:08.219Z"
   },
   {
    "duration": 9,
    "start_time": "2022-06-27T10:58:08.226Z"
   },
   {
    "duration": 921,
    "start_time": "2022-06-27T10:58:08.237Z"
   },
   {
    "duration": 15,
    "start_time": "2022-06-27T10:58:09.160Z"
   },
   {
    "duration": 35,
    "start_time": "2022-06-27T10:58:09.177Z"
   },
   {
    "duration": 53,
    "start_time": "2022-06-27T10:58:09.213Z"
   },
   {
    "duration": 270,
    "start_time": "2022-06-27T10:58:09.269Z"
   },
   {
    "duration": 13,
    "start_time": "2022-06-27T10:58:09.541Z"
   },
   {
    "duration": 5,
    "start_time": "2022-06-27T10:58:09.556Z"
   },
   {
    "duration": 5,
    "start_time": "2022-06-27T10:58:09.563Z"
   },
   {
    "duration": 17,
    "start_time": "2022-06-27T10:58:09.570Z"
   },
   {
    "duration": 2,
    "start_time": "2022-06-27T10:58:09.590Z"
   },
   {
    "duration": 6,
    "start_time": "2022-06-27T10:58:09.594Z"
   },
   {
    "duration": 5,
    "start_time": "2022-06-27T10:58:09.602Z"
   },
   {
    "duration": 44,
    "start_time": "2022-06-27T10:58:09.609Z"
   },
   {
    "duration": 4,
    "start_time": "2022-06-27T10:58:09.655Z"
   },
   {
    "duration": 1724,
    "start_time": "2022-06-27T10:58:09.661Z"
   },
   {
    "duration": 197,
    "start_time": "2022-06-27T10:58:11.387Z"
   },
   {
    "duration": 438,
    "start_time": "2022-06-27T10:58:11.586Z"
   },
   {
    "duration": 4,
    "start_time": "2022-06-27T10:58:12.026Z"
   },
   {
    "duration": 4,
    "start_time": "2022-06-27T10:58:12.032Z"
   },
   {
    "duration": 14,
    "start_time": "2022-06-27T10:58:12.038Z"
   },
   {
    "duration": 97,
    "start_time": "2022-06-27T10:58:12.054Z"
   },
   {
    "duration": 6,
    "start_time": "2022-06-27T10:58:12.153Z"
   },
   {
    "duration": 8,
    "start_time": "2022-06-27T10:58:12.164Z"
   },
   {
    "duration": 18,
    "start_time": "2022-06-27T10:58:12.174Z"
   },
   {
    "duration": 9450,
    "start_time": "2022-06-27T10:58:12.194Z"
   },
   {
    "duration": 0,
    "start_time": "2022-06-27T10:58:21.646Z"
   },
   {
    "duration": 0,
    "start_time": "2022-06-27T10:58:21.651Z"
   },
   {
    "duration": 0,
    "start_time": "2022-06-27T10:58:21.653Z"
   },
   {
    "duration": 0,
    "start_time": "2022-06-27T10:58:21.654Z"
   },
   {
    "duration": 0,
    "start_time": "2022-06-27T10:58:21.655Z"
   },
   {
    "duration": 0,
    "start_time": "2022-06-27T10:58:21.657Z"
   },
   {
    "duration": 0,
    "start_time": "2022-06-27T10:58:21.658Z"
   },
   {
    "duration": 0,
    "start_time": "2022-06-27T10:58:21.659Z"
   },
   {
    "duration": 0,
    "start_time": "2022-06-27T10:58:21.660Z"
   },
   {
    "duration": 0,
    "start_time": "2022-06-27T10:58:21.662Z"
   },
   {
    "duration": 0,
    "start_time": "2022-06-27T10:58:21.663Z"
   },
   {
    "duration": 0,
    "start_time": "2022-06-27T10:58:21.665Z"
   },
   {
    "duration": 0,
    "start_time": "2022-06-27T10:58:21.666Z"
   },
   {
    "duration": 0,
    "start_time": "2022-06-27T10:58:21.667Z"
   },
   {
    "duration": 0,
    "start_time": "2022-06-27T10:58:21.668Z"
   },
   {
    "duration": 0,
    "start_time": "2022-06-27T10:58:21.670Z"
   },
   {
    "duration": 0,
    "start_time": "2022-06-27T10:58:21.671Z"
   },
   {
    "duration": 0,
    "start_time": "2022-06-27T10:58:21.673Z"
   },
   {
    "duration": 0,
    "start_time": "2022-06-27T10:58:21.675Z"
   },
   {
    "duration": 0,
    "start_time": "2022-06-27T10:58:21.676Z"
   },
   {
    "duration": 57,
    "start_time": "2022-06-27T10:58:28.237Z"
   },
   {
    "duration": 9,
    "start_time": "2022-06-27T10:58:28.588Z"
   },
   {
    "duration": 39,
    "start_time": "2022-06-27T10:58:28.907Z"
   },
   {
    "duration": 10,
    "start_time": "2022-06-27T10:58:29.238Z"
   },
   {
    "duration": 45,
    "start_time": "2022-06-27T10:58:38.489Z"
   },
   {
    "duration": 8,
    "start_time": "2022-06-27T10:58:38.771Z"
   },
   {
    "duration": 43,
    "start_time": "2022-06-27T10:58:39.088Z"
   },
   {
    "duration": 8,
    "start_time": "2022-06-27T10:58:39.381Z"
   },
   {
    "duration": 90,
    "start_time": "2022-06-27T10:58:42.895Z"
   },
   {
    "duration": 8,
    "start_time": "2022-06-27T10:58:43.201Z"
   },
   {
    "duration": 133,
    "start_time": "2022-06-27T10:58:43.537Z"
   },
   {
    "duration": 8,
    "start_time": "2022-06-27T10:58:43.841Z"
   },
   {
    "duration": 1627,
    "start_time": "2022-06-27T10:59:46.026Z"
   },
   {
    "duration": 3,
    "start_time": "2022-06-27T10:59:47.655Z"
   },
   {
    "duration": 9,
    "start_time": "2022-06-27T10:59:47.660Z"
   },
   {
    "duration": 5,
    "start_time": "2022-06-27T10:59:47.671Z"
   },
   {
    "duration": 6,
    "start_time": "2022-06-27T10:59:47.678Z"
   },
   {
    "duration": 974,
    "start_time": "2022-06-27T10:59:47.687Z"
   },
   {
    "duration": 16,
    "start_time": "2022-06-27T10:59:48.663Z"
   },
   {
    "duration": 37,
    "start_time": "2022-06-27T10:59:48.681Z"
   },
   {
    "duration": 52,
    "start_time": "2022-06-27T10:59:48.720Z"
   },
   {
    "duration": 275,
    "start_time": "2022-06-27T10:59:48.776Z"
   },
   {
    "duration": 7,
    "start_time": "2022-06-27T10:59:49.053Z"
   },
   {
    "duration": 6,
    "start_time": "2022-06-27T10:59:49.062Z"
   },
   {
    "duration": 5,
    "start_time": "2022-06-27T10:59:49.070Z"
   },
   {
    "duration": 14,
    "start_time": "2022-06-27T10:59:49.076Z"
   },
   {
    "duration": 2,
    "start_time": "2022-06-27T10:59:49.092Z"
   },
   {
    "duration": 18,
    "start_time": "2022-06-27T10:59:49.096Z"
   },
   {
    "duration": 5,
    "start_time": "2022-06-27T10:59:49.116Z"
   },
   {
    "duration": 39,
    "start_time": "2022-06-27T10:59:49.123Z"
   },
   {
    "duration": 4,
    "start_time": "2022-06-27T10:59:49.164Z"
   },
   {
    "duration": 3065,
    "start_time": "2022-06-27T10:59:49.170Z"
   },
   {
    "duration": 132,
    "start_time": "2022-06-27T10:59:52.236Z"
   },
   {
    "duration": 503,
    "start_time": "2022-06-27T10:59:52.370Z"
   },
   {
    "duration": 7,
    "start_time": "2022-06-27T10:59:52.876Z"
   },
   {
    "duration": 10,
    "start_time": "2022-06-27T10:59:52.885Z"
   },
   {
    "duration": 10,
    "start_time": "2022-06-27T10:59:52.898Z"
   },
   {
    "duration": 2840,
    "start_time": "2022-06-27T10:59:52.911Z"
   },
   {
    "duration": 5,
    "start_time": "2022-06-27T10:59:55.753Z"
   },
   {
    "duration": 105,
    "start_time": "2022-06-27T10:59:55.762Z"
   },
   {
    "duration": 6,
    "start_time": "2022-06-27T10:59:55.870Z"
   },
   {
    "duration": 3577,
    "start_time": "2022-06-27T10:59:55.878Z"
   },
   {
    "duration": 0,
    "start_time": "2022-06-27T10:59:59.458Z"
   },
   {
    "duration": 0,
    "start_time": "2022-06-27T10:59:59.459Z"
   },
   {
    "duration": 0,
    "start_time": "2022-06-27T10:59:59.461Z"
   },
   {
    "duration": 0,
    "start_time": "2022-06-27T10:59:59.462Z"
   },
   {
    "duration": 0,
    "start_time": "2022-06-27T10:59:59.464Z"
   },
   {
    "duration": 0,
    "start_time": "2022-06-27T10:59:59.465Z"
   },
   {
    "duration": 0,
    "start_time": "2022-06-27T10:59:59.466Z"
   },
   {
    "duration": 0,
    "start_time": "2022-06-27T10:59:59.467Z"
   },
   {
    "duration": 0,
    "start_time": "2022-06-27T10:59:59.469Z"
   },
   {
    "duration": 0,
    "start_time": "2022-06-27T10:59:59.470Z"
   },
   {
    "duration": 0,
    "start_time": "2022-06-27T10:59:59.472Z"
   },
   {
    "duration": 0,
    "start_time": "2022-06-27T10:59:59.473Z"
   },
   {
    "duration": 0,
    "start_time": "2022-06-27T10:59:59.474Z"
   },
   {
    "duration": 0,
    "start_time": "2022-06-27T10:59:59.475Z"
   },
   {
    "duration": 0,
    "start_time": "2022-06-27T10:59:59.476Z"
   },
   {
    "duration": 0,
    "start_time": "2022-06-27T10:59:59.478Z"
   },
   {
    "duration": 0,
    "start_time": "2022-06-27T10:59:59.480Z"
   },
   {
    "duration": 0,
    "start_time": "2022-06-27T10:59:59.481Z"
   },
   {
    "duration": 0,
    "start_time": "2022-06-27T10:59:59.483Z"
   },
   {
    "duration": 0,
    "start_time": "2022-06-27T10:59:59.486Z"
   },
   {
    "duration": 4776,
    "start_time": "2022-06-27T11:00:04.498Z"
   },
   {
    "duration": 11,
    "start_time": "2022-06-27T11:00:09.353Z"
   },
   {
    "duration": 5000,
    "start_time": "2022-06-27T11:00:09.451Z"
   },
   {
    "duration": 98,
    "start_time": "2022-06-27T11:00:14.455Z"
   },
   {
    "duration": 157,
    "start_time": "2022-06-27T11:00:19.188Z"
   },
   {
    "duration": 7,
    "start_time": "2022-06-27T11:00:19.599Z"
   },
   {
    "duration": 127,
    "start_time": "2022-06-27T11:00:19.776Z"
   },
   {
    "duration": 7,
    "start_time": "2022-06-27T11:00:20.036Z"
   },
   {
    "duration": 856,
    "start_time": "2022-06-27T11:00:28.631Z"
   },
   {
    "duration": 8,
    "start_time": "2022-06-27T11:00:29.489Z"
   },
   {
    "duration": 1469,
    "start_time": "2022-06-27T11:00:29.500Z"
   },
   {
    "duration": 7,
    "start_time": "2022-06-27T11:00:30.972Z"
   },
   {
    "duration": 1461,
    "start_time": "2022-06-27T11:01:14.611Z"
   },
   {
    "duration": 4,
    "start_time": "2022-06-27T11:01:16.075Z"
   },
   {
    "duration": 7,
    "start_time": "2022-06-27T11:01:16.081Z"
   },
   {
    "duration": 6,
    "start_time": "2022-06-27T11:01:16.090Z"
   },
   {
    "duration": 6,
    "start_time": "2022-06-27T11:01:16.099Z"
   },
   {
    "duration": 1863,
    "start_time": "2022-06-27T11:01:16.106Z"
   },
   {
    "duration": 16,
    "start_time": "2022-06-27T11:01:17.971Z"
   },
   {
    "duration": 92,
    "start_time": "2022-06-27T11:01:17.989Z"
   },
   {
    "duration": 85,
    "start_time": "2022-06-27T11:01:18.083Z"
   },
   {
    "duration": 382,
    "start_time": "2022-06-27T11:01:18.170Z"
   },
   {
    "duration": 7,
    "start_time": "2022-06-27T11:01:18.554Z"
   },
   {
    "duration": 4,
    "start_time": "2022-06-27T11:01:18.563Z"
   },
   {
    "duration": 4,
    "start_time": "2022-06-27T11:01:18.569Z"
   },
   {
    "duration": 12,
    "start_time": "2022-06-27T11:01:18.577Z"
   },
   {
    "duration": 2,
    "start_time": "2022-06-27T11:01:18.591Z"
   },
   {
    "duration": 6,
    "start_time": "2022-06-27T11:01:18.595Z"
   },
   {
    "duration": 6,
    "start_time": "2022-06-27T11:01:18.602Z"
   },
   {
    "duration": 47,
    "start_time": "2022-06-27T11:01:18.609Z"
   },
   {
    "duration": 3,
    "start_time": "2022-06-27T11:01:18.658Z"
   },
   {
    "duration": 1733,
    "start_time": "2022-06-27T11:01:18.663Z"
   },
   {
    "duration": 150,
    "start_time": "2022-06-27T11:01:20.398Z"
   },
   {
    "duration": 523,
    "start_time": "2022-06-27T11:01:20.550Z"
   },
   {
    "duration": 5,
    "start_time": "2022-06-27T11:01:21.075Z"
   },
   {
    "duration": 7,
    "start_time": "2022-06-27T11:01:21.082Z"
   },
   {
    "duration": 7,
    "start_time": "2022-06-27T11:01:21.091Z"
   },
   {
    "duration": 5856,
    "start_time": "2022-06-27T11:01:21.100Z"
   },
   {
    "duration": 94,
    "start_time": "2022-06-27T11:01:26.959Z"
   },
   {
    "duration": 7,
    "start_time": "2022-06-27T11:01:27.056Z"
   },
   {
    "duration": 12,
    "start_time": "2022-06-27T11:01:27.065Z"
   },
   {
    "duration": 4097,
    "start_time": "2022-06-27T11:01:27.079Z"
   },
   {
    "duration": 0,
    "start_time": "2022-06-27T11:01:31.179Z"
   },
   {
    "duration": 0,
    "start_time": "2022-06-27T11:01:31.180Z"
   },
   {
    "duration": 0,
    "start_time": "2022-06-27T11:01:31.181Z"
   },
   {
    "duration": 0,
    "start_time": "2022-06-27T11:01:31.182Z"
   },
   {
    "duration": 0,
    "start_time": "2022-06-27T11:01:31.183Z"
   },
   {
    "duration": 0,
    "start_time": "2022-06-27T11:01:31.184Z"
   },
   {
    "duration": 1,
    "start_time": "2022-06-27T11:01:31.185Z"
   },
   {
    "duration": 0,
    "start_time": "2022-06-27T11:01:31.187Z"
   },
   {
    "duration": 0,
    "start_time": "2022-06-27T11:01:31.188Z"
   },
   {
    "duration": 0,
    "start_time": "2022-06-27T11:01:31.189Z"
   },
   {
    "duration": 0,
    "start_time": "2022-06-27T11:01:31.190Z"
   },
   {
    "duration": 0,
    "start_time": "2022-06-27T11:01:31.192Z"
   },
   {
    "duration": 0,
    "start_time": "2022-06-27T11:01:31.193Z"
   },
   {
    "duration": 0,
    "start_time": "2022-06-27T11:01:31.194Z"
   },
   {
    "duration": 0,
    "start_time": "2022-06-27T11:01:31.195Z"
   },
   {
    "duration": 0,
    "start_time": "2022-06-27T11:01:31.197Z"
   },
   {
    "duration": 0,
    "start_time": "2022-06-27T11:01:31.198Z"
   },
   {
    "duration": 0,
    "start_time": "2022-06-27T11:01:31.199Z"
   },
   {
    "duration": 0,
    "start_time": "2022-06-27T11:01:31.201Z"
   },
   {
    "duration": 0,
    "start_time": "2022-06-27T11:01:31.202Z"
   },
   {
    "duration": 2747,
    "start_time": "2022-06-27T11:01:37.311Z"
   },
   {
    "duration": 93,
    "start_time": "2022-06-27T11:01:40.060Z"
   },
   {
    "duration": 4324,
    "start_time": "2022-06-27T11:01:41.427Z"
   },
   {
    "duration": 97,
    "start_time": "2022-06-27T11:01:45.754Z"
   },
   {
    "duration": 346,
    "start_time": "2022-06-27T11:01:50.718Z"
   },
   {
    "duration": 6,
    "start_time": "2022-06-27T11:01:51.078Z"
   },
   {
    "duration": 265,
    "start_time": "2022-06-27T11:01:51.408Z"
   },
   {
    "duration": 6,
    "start_time": "2022-06-27T11:01:51.726Z"
   },
   {
    "duration": 1771,
    "start_time": "2022-06-27T11:01:55.538Z"
   },
   {
    "duration": 6,
    "start_time": "2022-06-27T11:01:57.311Z"
   },
   {
    "duration": 2687,
    "start_time": "2022-06-27T11:01:57.319Z"
   },
   {
    "duration": 6,
    "start_time": "2022-06-27T11:02:00.008Z"
   },
   {
    "duration": 2467,
    "start_time": "2022-06-27T11:02:28.906Z"
   },
   {
    "duration": 4,
    "start_time": "2022-06-27T11:02:31.375Z"
   },
   {
    "duration": 9,
    "start_time": "2022-06-27T11:02:31.381Z"
   },
   {
    "duration": 6,
    "start_time": "2022-06-27T11:02:31.392Z"
   },
   {
    "duration": 7,
    "start_time": "2022-06-27T11:02:31.400Z"
   },
   {
    "duration": 1881,
    "start_time": "2022-06-27T11:02:31.409Z"
   },
   {
    "duration": 71,
    "start_time": "2022-06-27T11:02:33.292Z"
   },
   {
    "duration": 88,
    "start_time": "2022-06-27T11:02:33.365Z"
   },
   {
    "duration": 37,
    "start_time": "2022-06-27T11:02:33.456Z"
   },
   {
    "duration": 324,
    "start_time": "2022-06-27T11:02:33.551Z"
   },
   {
    "duration": 7,
    "start_time": "2022-06-27T11:02:33.877Z"
   },
   {
    "duration": 8,
    "start_time": "2022-06-27T11:02:33.886Z"
   },
   {
    "duration": 7,
    "start_time": "2022-06-27T11:02:33.896Z"
   },
   {
    "duration": 23,
    "start_time": "2022-06-27T11:02:33.905Z"
   },
   {
    "duration": 3,
    "start_time": "2022-06-27T11:02:33.929Z"
   },
   {
    "duration": 3,
    "start_time": "2022-06-27T11:02:33.951Z"
   },
   {
    "duration": 7,
    "start_time": "2022-06-27T11:02:33.955Z"
   },
   {
    "duration": 19,
    "start_time": "2022-06-27T11:02:33.963Z"
   },
   {
    "duration": 3,
    "start_time": "2022-06-27T11:02:33.984Z"
   },
   {
    "duration": 2901,
    "start_time": "2022-06-27T11:02:33.989Z"
   },
   {
    "duration": 205,
    "start_time": "2022-06-27T11:02:36.892Z"
   },
   {
    "duration": 2590,
    "start_time": "2022-06-27T11:02:37.099Z"
   },
   {
    "duration": 5,
    "start_time": "2022-06-27T11:02:39.691Z"
   },
   {
    "duration": 10,
    "start_time": "2022-06-27T11:02:39.698Z"
   },
   {
    "duration": 11,
    "start_time": "2022-06-27T11:02:39.710Z"
   },
   {
    "duration": 9762,
    "start_time": "2022-06-27T11:02:39.723Z"
   },
   {
    "duration": 0,
    "start_time": "2022-06-27T11:02:49.489Z"
   },
   {
    "duration": 0,
    "start_time": "2022-06-27T11:02:49.491Z"
   },
   {
    "duration": 0,
    "start_time": "2022-06-27T11:02:49.493Z"
   },
   {
    "duration": 0,
    "start_time": "2022-06-27T11:02:49.494Z"
   },
   {
    "duration": 0,
    "start_time": "2022-06-27T11:02:49.496Z"
   },
   {
    "duration": 0,
    "start_time": "2022-06-27T11:02:49.498Z"
   },
   {
    "duration": 0,
    "start_time": "2022-06-27T11:02:49.499Z"
   },
   {
    "duration": 0,
    "start_time": "2022-06-27T11:02:49.500Z"
   },
   {
    "duration": 0,
    "start_time": "2022-06-27T11:02:49.502Z"
   },
   {
    "duration": 0,
    "start_time": "2022-06-27T11:02:49.504Z"
   },
   {
    "duration": 0,
    "start_time": "2022-06-27T11:02:49.505Z"
   },
   {
    "duration": 0,
    "start_time": "2022-06-27T11:02:49.506Z"
   },
   {
    "duration": 0,
    "start_time": "2022-06-27T11:02:49.509Z"
   },
   {
    "duration": 0,
    "start_time": "2022-06-27T11:02:49.510Z"
   },
   {
    "duration": 0,
    "start_time": "2022-06-27T11:02:49.512Z"
   },
   {
    "duration": 0,
    "start_time": "2022-06-27T11:02:49.513Z"
   },
   {
    "duration": 0,
    "start_time": "2022-06-27T11:02:49.551Z"
   },
   {
    "duration": 0,
    "start_time": "2022-06-27T11:02:49.552Z"
   },
   {
    "duration": 0,
    "start_time": "2022-06-27T11:02:49.554Z"
   },
   {
    "duration": 0,
    "start_time": "2022-06-27T11:02:49.555Z"
   },
   {
    "duration": 0,
    "start_time": "2022-06-27T11:02:49.556Z"
   },
   {
    "duration": 0,
    "start_time": "2022-06-27T11:02:49.557Z"
   },
   {
    "duration": 0,
    "start_time": "2022-06-27T11:02:49.558Z"
   },
   {
    "duration": 0,
    "start_time": "2022-06-27T11:02:49.560Z"
   },
   {
    "duration": 14267,
    "start_time": "2022-06-27T11:02:55.091Z"
   },
   {
    "duration": 90,
    "start_time": "2022-06-27T11:03:09.363Z"
   },
   {
    "duration": 28300,
    "start_time": "2022-06-27T11:03:09.455Z"
   },
   {
    "duration": 10,
    "start_time": "2022-06-27T11:03:37.757Z"
   },
   {
    "duration": 4383,
    "start_time": "2022-06-27T11:03:43.568Z"
   },
   {
    "duration": 8,
    "start_time": "2022-06-27T11:03:47.953Z"
   },
   {
    "duration": 2834,
    "start_time": "2022-06-27T11:03:47.963Z"
   },
   {
    "duration": 7,
    "start_time": "2022-06-27T11:03:50.799Z"
   },
   {
    "duration": 20328,
    "start_time": "2022-06-27T11:03:55.148Z"
   },
   {
    "duration": 7,
    "start_time": "2022-06-27T11:04:15.479Z"
   },
   {
    "duration": 18511,
    "start_time": "2022-06-27T11:04:15.488Z"
   },
   {
    "duration": 7,
    "start_time": "2022-06-27T11:04:34.002Z"
   },
   {
    "duration": 1481,
    "start_time": "2022-06-27T11:04:55.988Z"
   },
   {
    "duration": 3,
    "start_time": "2022-06-27T11:04:57.472Z"
   },
   {
    "duration": 6,
    "start_time": "2022-06-27T11:04:57.477Z"
   },
   {
    "duration": 9,
    "start_time": "2022-06-27T11:04:57.485Z"
   },
   {
    "duration": 6,
    "start_time": "2022-06-27T11:04:57.496Z"
   },
   {
    "duration": 949,
    "start_time": "2022-06-27T11:04:57.504Z"
   },
   {
    "duration": 17,
    "start_time": "2022-06-27T11:04:58.455Z"
   },
   {
    "duration": 38,
    "start_time": "2022-06-27T11:04:58.474Z"
   },
   {
    "duration": 49,
    "start_time": "2022-06-27T11:04:58.513Z"
   },
   {
    "duration": 272,
    "start_time": "2022-06-27T11:04:58.564Z"
   },
   {
    "duration": 7,
    "start_time": "2022-06-27T11:04:58.838Z"
   },
   {
    "duration": 5,
    "start_time": "2022-06-27T11:04:58.851Z"
   },
   {
    "duration": 5,
    "start_time": "2022-06-27T11:04:58.857Z"
   },
   {
    "duration": 27,
    "start_time": "2022-06-27T11:04:58.865Z"
   },
   {
    "duration": 2,
    "start_time": "2022-06-27T11:04:58.894Z"
   },
   {
    "duration": 7,
    "start_time": "2022-06-27T11:04:58.897Z"
   },
   {
    "duration": 4,
    "start_time": "2022-06-27T11:04:58.906Z"
   },
   {
    "duration": 70,
    "start_time": "2022-06-27T11:04:58.912Z"
   },
   {
    "duration": 3,
    "start_time": "2022-06-27T11:04:58.984Z"
   },
   {
    "duration": 8099,
    "start_time": "2022-06-27T11:04:58.989Z"
   },
   {
    "duration": 206,
    "start_time": "2022-06-27T11:05:07.090Z"
   },
   {
    "duration": 7623,
    "start_time": "2022-06-27T11:05:07.298Z"
   },
   {
    "duration": 4,
    "start_time": "2022-06-27T11:05:14.923Z"
   },
   {
    "duration": 6,
    "start_time": "2022-06-27T11:05:14.929Z"
   },
   {
    "duration": 15,
    "start_time": "2022-06-27T11:05:14.937Z"
   },
   {
    "duration": 36760,
    "start_time": "2022-06-27T11:05:14.954Z"
   },
   {
    "duration": 0,
    "start_time": "2022-06-27T11:05:51.717Z"
   },
   {
    "duration": 0,
    "start_time": "2022-06-27T11:05:51.718Z"
   },
   {
    "duration": 0,
    "start_time": "2022-06-27T11:05:51.720Z"
   },
   {
    "duration": 0,
    "start_time": "2022-06-27T11:05:51.721Z"
   },
   {
    "duration": 0,
    "start_time": "2022-06-27T11:05:51.722Z"
   },
   {
    "duration": 1,
    "start_time": "2022-06-27T11:05:51.723Z"
   },
   {
    "duration": 0,
    "start_time": "2022-06-27T11:05:51.725Z"
   },
   {
    "duration": 0,
    "start_time": "2022-06-27T11:05:51.726Z"
   },
   {
    "duration": 0,
    "start_time": "2022-06-27T11:05:51.728Z"
   },
   {
    "duration": 0,
    "start_time": "2022-06-27T11:05:51.730Z"
   },
   {
    "duration": 0,
    "start_time": "2022-06-27T11:05:51.751Z"
   },
   {
    "duration": 0,
    "start_time": "2022-06-27T11:05:51.752Z"
   },
   {
    "duration": 0,
    "start_time": "2022-06-27T11:05:51.754Z"
   },
   {
    "duration": 0,
    "start_time": "2022-06-27T11:05:51.755Z"
   },
   {
    "duration": 0,
    "start_time": "2022-06-27T11:05:51.756Z"
   },
   {
    "duration": 0,
    "start_time": "2022-06-27T11:05:51.758Z"
   },
   {
    "duration": 0,
    "start_time": "2022-06-27T11:05:51.759Z"
   },
   {
    "duration": 0,
    "start_time": "2022-06-27T11:05:51.760Z"
   },
   {
    "duration": 0,
    "start_time": "2022-06-27T11:05:51.761Z"
   },
   {
    "duration": 0,
    "start_time": "2022-06-27T11:05:51.763Z"
   },
   {
    "duration": 0,
    "start_time": "2022-06-27T11:05:51.765Z"
   },
   {
    "duration": 0,
    "start_time": "2022-06-27T11:05:51.766Z"
   },
   {
    "duration": 0,
    "start_time": "2022-06-27T11:05:51.768Z"
   },
   {
    "duration": 0,
    "start_time": "2022-06-27T11:05:51.770Z"
   },
   {
    "duration": 50178,
    "start_time": "2022-06-27T11:05:55.573Z"
   },
   {
    "duration": 12,
    "start_time": "2022-06-27T11:06:45.754Z"
   },
   {
    "duration": 51383,
    "start_time": "2022-06-27T11:06:45.768Z"
   },
   {
    "duration": 12,
    "start_time": "2022-06-27T11:07:37.154Z"
   },
   {
    "duration": 24305,
    "start_time": "2022-06-27T11:07:37.252Z"
   },
   {
    "duration": 13,
    "start_time": "2022-06-27T11:08:01.564Z"
   },
   {
    "duration": 16388,
    "start_time": "2022-06-27T11:08:01.579Z"
   },
   {
    "duration": 12,
    "start_time": "2022-06-27T11:08:17.970Z"
   },
   {
    "duration": 115144,
    "start_time": "2022-06-27T11:08:17.984Z"
   },
   {
    "duration": 9,
    "start_time": "2022-06-27T11:10:13.131Z"
   },
   {
    "duration": 78050,
    "start_time": "2022-06-27T11:10:13.150Z"
   },
   {
    "duration": 0,
    "start_time": "2022-06-27T11:11:31.202Z"
   },
   {
    "duration": 2357,
    "start_time": "2022-06-27T11:11:35.424Z"
   },
   {
    "duration": 3,
    "start_time": "2022-06-27T11:11:37.783Z"
   },
   {
    "duration": 10,
    "start_time": "2022-06-27T11:11:37.788Z"
   },
   {
    "duration": 53,
    "start_time": "2022-06-27T11:11:37.800Z"
   },
   {
    "duration": 7,
    "start_time": "2022-06-27T11:11:37.855Z"
   },
   {
    "duration": 1025,
    "start_time": "2022-06-27T11:11:37.864Z"
   },
   {
    "duration": 17,
    "start_time": "2022-06-27T11:11:38.891Z"
   },
   {
    "duration": 46,
    "start_time": "2022-06-27T11:11:38.910Z"
   },
   {
    "duration": 30,
    "start_time": "2022-06-27T11:11:38.958Z"
   },
   {
    "duration": 284,
    "start_time": "2022-06-27T11:11:38.989Z"
   },
   {
    "duration": 6,
    "start_time": "2022-06-27T11:11:39.275Z"
   },
   {
    "duration": 12,
    "start_time": "2022-06-27T11:11:39.283Z"
   },
   {
    "duration": 9,
    "start_time": "2022-06-27T11:11:39.296Z"
   },
   {
    "duration": 29,
    "start_time": "2022-06-27T11:11:39.309Z"
   },
   {
    "duration": 3,
    "start_time": "2022-06-27T11:11:39.351Z"
   },
   {
    "duration": 14,
    "start_time": "2022-06-27T11:11:39.356Z"
   },
   {
    "duration": 12,
    "start_time": "2022-06-27T11:11:39.372Z"
   },
   {
    "duration": 53,
    "start_time": "2022-06-27T11:11:39.385Z"
   },
   {
    "duration": 43,
    "start_time": "2022-06-27T11:11:39.440Z"
   },
   {
    "duration": 2589,
    "start_time": "2022-06-27T11:11:39.486Z"
   },
   {
    "duration": 172,
    "start_time": "2022-06-27T11:11:42.077Z"
   },
   {
    "duration": 1931,
    "start_time": "2022-06-27T11:11:42.251Z"
   },
   {
    "duration": 4,
    "start_time": "2022-06-27T11:11:44.184Z"
   },
   {
    "duration": 8,
    "start_time": "2022-06-27T11:11:44.190Z"
   },
   {
    "duration": 11,
    "start_time": "2022-06-27T11:11:44.200Z"
   },
   {
    "duration": 7963,
    "start_time": "2022-06-27T11:11:44.213Z"
   },
   {
    "duration": 0,
    "start_time": "2022-06-27T11:11:52.179Z"
   },
   {
    "duration": 0,
    "start_time": "2022-06-27T11:11:52.180Z"
   },
   {
    "duration": 0,
    "start_time": "2022-06-27T11:11:52.181Z"
   },
   {
    "duration": 0,
    "start_time": "2022-06-27T11:11:52.183Z"
   },
   {
    "duration": 0,
    "start_time": "2022-06-27T11:11:52.184Z"
   },
   {
    "duration": 0,
    "start_time": "2022-06-27T11:11:52.185Z"
   },
   {
    "duration": 0,
    "start_time": "2022-06-27T11:11:52.186Z"
   },
   {
    "duration": 0,
    "start_time": "2022-06-27T11:11:52.189Z"
   },
   {
    "duration": 0,
    "start_time": "2022-06-27T11:11:52.190Z"
   },
   {
    "duration": 0,
    "start_time": "2022-06-27T11:11:52.191Z"
   },
   {
    "duration": 0,
    "start_time": "2022-06-27T11:11:52.193Z"
   },
   {
    "duration": 0,
    "start_time": "2022-06-27T11:11:52.194Z"
   },
   {
    "duration": 0,
    "start_time": "2022-06-27T11:11:52.195Z"
   },
   {
    "duration": 0,
    "start_time": "2022-06-27T11:11:52.197Z"
   },
   {
    "duration": 0,
    "start_time": "2022-06-27T11:11:52.197Z"
   },
   {
    "duration": 0,
    "start_time": "2022-06-27T11:11:52.198Z"
   },
   {
    "duration": 0,
    "start_time": "2022-06-27T11:11:52.200Z"
   },
   {
    "duration": 0,
    "start_time": "2022-06-27T11:11:52.201Z"
   },
   {
    "duration": 0,
    "start_time": "2022-06-27T11:11:52.202Z"
   },
   {
    "duration": 0,
    "start_time": "2022-06-27T11:11:52.203Z"
   },
   {
    "duration": 0,
    "start_time": "2022-06-27T11:11:52.204Z"
   },
   {
    "duration": 0,
    "start_time": "2022-06-27T11:11:52.251Z"
   },
   {
    "duration": 0,
    "start_time": "2022-06-27T11:11:52.253Z"
   },
   {
    "duration": 0,
    "start_time": "2022-06-27T11:11:52.253Z"
   },
   {
    "duration": 6570,
    "start_time": "2022-06-27T11:11:56.686Z"
   },
   {
    "duration": 11,
    "start_time": "2022-06-27T11:12:03.259Z"
   },
   {
    "duration": 5186,
    "start_time": "2022-06-27T11:12:03.271Z"
   },
   {
    "duration": 98,
    "start_time": "2022-06-27T11:12:08.460Z"
   },
   {
    "duration": 3,
    "start_time": "2022-06-27T11:13:19.263Z"
   },
   {
    "duration": 1497,
    "start_time": "2022-06-27T11:20:07.812Z"
   },
   {
    "duration": 3,
    "start_time": "2022-06-27T11:20:09.311Z"
   },
   {
    "duration": 6,
    "start_time": "2022-06-27T11:20:09.316Z"
   },
   {
    "duration": 7,
    "start_time": "2022-06-27T11:20:09.324Z"
   },
   {
    "duration": 5,
    "start_time": "2022-06-27T11:20:09.334Z"
   },
   {
    "duration": 982,
    "start_time": "2022-06-27T11:20:09.340Z"
   },
   {
    "duration": 28,
    "start_time": "2022-06-27T11:20:10.325Z"
   },
   {
    "duration": 37,
    "start_time": "2022-06-27T11:20:10.355Z"
   },
   {
    "duration": 31,
    "start_time": "2022-06-27T11:20:10.395Z"
   },
   {
    "duration": 273,
    "start_time": "2022-06-27T11:20:10.452Z"
   },
   {
    "duration": 7,
    "start_time": "2022-06-27T11:20:10.727Z"
   },
   {
    "duration": 16,
    "start_time": "2022-06-27T11:20:10.736Z"
   },
   {
    "duration": 5,
    "start_time": "2022-06-27T11:20:10.755Z"
   },
   {
    "duration": 28,
    "start_time": "2022-06-27T11:20:10.764Z"
   },
   {
    "duration": 3,
    "start_time": "2022-06-27T11:20:10.793Z"
   },
   {
    "duration": 7,
    "start_time": "2022-06-27T11:20:10.798Z"
   },
   {
    "duration": 5,
    "start_time": "2022-06-27T11:20:10.806Z"
   },
   {
    "duration": 59,
    "start_time": "2022-06-27T11:20:10.813Z"
   },
   {
    "duration": 3,
    "start_time": "2022-06-27T11:20:10.874Z"
   },
   {
    "duration": 6863,
    "start_time": "2022-06-27T11:20:10.879Z"
   },
   {
    "duration": 136,
    "start_time": "2022-06-27T11:20:17.750Z"
   },
   {
    "duration": 7672,
    "start_time": "2022-06-27T11:20:17.889Z"
   },
   {
    "duration": 5,
    "start_time": "2022-06-27T11:20:25.564Z"
   },
   {
    "duration": 113200,
    "start_time": "2022-06-27T11:20:25.571Z"
   },
   {
    "duration": 4,
    "start_time": "2022-06-27T11:22:18.852Z"
   },
   {
    "duration": 54,
    "start_time": "2022-06-27T11:22:18.859Z"
   },
   {
    "duration": 0,
    "start_time": "2022-06-27T11:22:18.915Z"
   },
   {
    "duration": 0,
    "start_time": "2022-06-27T11:22:18.917Z"
   },
   {
    "duration": 0,
    "start_time": "2022-06-27T11:22:18.918Z"
   },
   {
    "duration": 0,
    "start_time": "2022-06-27T11:22:18.920Z"
   },
   {
    "duration": 0,
    "start_time": "2022-06-27T11:22:18.951Z"
   },
   {
    "duration": 0,
    "start_time": "2022-06-27T11:22:18.953Z"
   },
   {
    "duration": 0,
    "start_time": "2022-06-27T11:22:18.953Z"
   },
   {
    "duration": 0,
    "start_time": "2022-06-27T11:22:18.954Z"
   },
   {
    "duration": 0,
    "start_time": "2022-06-27T11:22:18.956Z"
   },
   {
    "duration": 0,
    "start_time": "2022-06-27T11:22:18.957Z"
   },
   {
    "duration": 0,
    "start_time": "2022-06-27T11:22:18.958Z"
   },
   {
    "duration": 0,
    "start_time": "2022-06-27T11:22:18.960Z"
   },
   {
    "duration": 0,
    "start_time": "2022-06-27T11:22:18.961Z"
   },
   {
    "duration": 0,
    "start_time": "2022-06-27T11:22:18.962Z"
   },
   {
    "duration": 0,
    "start_time": "2022-06-27T11:22:18.963Z"
   },
   {
    "duration": 0,
    "start_time": "2022-06-27T11:22:18.971Z"
   },
   {
    "duration": 0,
    "start_time": "2022-06-27T11:22:18.972Z"
   },
   {
    "duration": 0,
    "start_time": "2022-06-27T11:22:18.973Z"
   },
   {
    "duration": 0,
    "start_time": "2022-06-27T11:22:18.974Z"
   },
   {
    "duration": 0,
    "start_time": "2022-06-27T11:22:18.975Z"
   },
   {
    "duration": 0,
    "start_time": "2022-06-27T11:22:18.977Z"
   },
   {
    "duration": 0,
    "start_time": "2022-06-27T11:22:18.978Z"
   },
   {
    "duration": 0,
    "start_time": "2022-06-27T11:22:18.979Z"
   },
   {
    "duration": 111963,
    "start_time": "2022-06-27T11:22:47.005Z"
   },
   {
    "duration": 4,
    "start_time": "2022-06-27T11:24:38.971Z"
   },
   {
    "duration": 7,
    "start_time": "2022-06-27T11:24:38.977Z"
   },
   {
    "duration": 236231,
    "start_time": "2022-06-27T11:24:38.987Z"
   },
   {
    "duration": 4,
    "start_time": "2022-06-27T11:28:35.219Z"
   },
   {
    "duration": 5,
    "start_time": "2022-06-27T11:28:35.226Z"
   },
   {
    "duration": 38780,
    "start_time": "2022-06-27T11:28:35.233Z"
   },
   {
    "duration": 5,
    "start_time": "2022-06-27T11:29:14.015Z"
   },
   {
    "duration": 8,
    "start_time": "2022-06-27T11:29:14.022Z"
   },
   {
    "duration": 3868236,
    "start_time": "2022-06-27T11:29:14.050Z"
   },
   {
    "duration": 5,
    "start_time": "2022-06-27T12:33:42.288Z"
   },
   {
    "duration": 49056,
    "start_time": "2022-06-27T12:33:42.295Z"
   },
   {
    "duration": 10,
    "start_time": "2022-06-27T12:34:31.353Z"
   },
   {
    "duration": 53486,
    "start_time": "2022-06-27T12:34:31.365Z"
   },
   {
    "duration": 10,
    "start_time": "2022-06-27T12:35:24.853Z"
   },
   {
    "duration": 304,
    "start_time": "2022-06-27T12:36:51.235Z"
   },
   {
    "duration": 11,
    "start_time": "2022-06-27T12:36:54.791Z"
   },
   {
    "duration": 253,
    "start_time": "2022-06-27T12:36:56.093Z"
   },
   {
    "duration": 11,
    "start_time": "2022-06-27T12:36:56.731Z"
   },
   {
    "duration": 7527,
    "start_time": "2022-06-27T12:37:29.667Z"
   },
   {
    "duration": 10,
    "start_time": "2022-06-27T12:37:37.197Z"
   },
   {
    "duration": 1180,
    "start_time": "2022-06-28T05:00:32.073Z"
   },
   {
    "duration": 2,
    "start_time": "2022-06-28T05:00:33.255Z"
   },
   {
    "duration": 2,
    "start_time": "2022-06-28T05:00:34.500Z"
   },
   {
    "duration": 2,
    "start_time": "2022-06-28T05:00:35.322Z"
   },
   {
    "duration": 3,
    "start_time": "2022-06-28T05:00:35.802Z"
   },
   {
    "duration": 3,
    "start_time": "2022-06-28T05:00:36.770Z"
   },
   {
    "duration": 2836,
    "start_time": "2022-06-28T05:00:40.102Z"
   },
   {
    "duration": 13,
    "start_time": "2022-06-28T05:00:42.940Z"
   },
   {
    "duration": 31,
    "start_time": "2022-06-28T05:00:44.312Z"
   },
   {
    "duration": 25,
    "start_time": "2022-06-28T05:00:45.502Z"
   },
   {
    "duration": 217,
    "start_time": "2022-06-28T05:00:46.105Z"
   },
   {
    "duration": 6,
    "start_time": "2022-06-28T05:00:49.810Z"
   },
   {
    "duration": 5,
    "start_time": "2022-06-28T05:01:03.772Z"
   },
   {
    "duration": 2,
    "start_time": "2022-06-28T05:01:08.382Z"
   },
   {
    "duration": 35,
    "start_time": "2022-06-28T05:01:09.160Z"
   },
   {
    "duration": 2,
    "start_time": "2022-06-28T05:01:18.360Z"
   },
   {
    "duration": 2,
    "start_time": "2022-06-28T05:01:19.093Z"
   },
   {
    "duration": 3,
    "start_time": "2022-06-28T05:01:21.822Z"
   },
   {
    "duration": 26,
    "start_time": "2022-06-28T05:01:25.032Z"
   },
   {
    "duration": 3,
    "start_time": "2022-06-28T05:01:26.705Z"
   },
   {
    "duration": 1266,
    "start_time": "2022-06-28T05:01:30.283Z"
   },
   {
    "duration": 3,
    "start_time": "2022-06-28T05:02:15.932Z"
   },
   {
    "duration": 33195,
    "start_time": "2022-06-28T05:02:24.293Z"
   },
   {
    "duration": 204,
    "start_time": "2022-06-28T05:03:01.720Z"
   },
   {
    "duration": 1075,
    "start_time": "2022-06-28T05:03:02.632Z"
   },
   {
    "duration": 3,
    "start_time": "2022-06-28T05:03:04.082Z"
   },
   {
    "duration": 33160,
    "start_time": "2022-06-28T05:03:09.672Z"
   },
   {
    "duration": 3,
    "start_time": "2022-06-28T05:03:42.835Z"
   },
   {
    "duration": 27397,
    "start_time": "2022-06-28T05:03:42.840Z"
   },
   {
    "duration": 2,
    "start_time": "2022-06-28T05:04:10.240Z"
   },
   {
    "duration": 2,
    "start_time": "2022-06-28T05:04:19.022Z"
   },
   {
    "duration": 159712,
    "start_time": "2022-06-28T05:04:19.622Z"
   },
   {
    "duration": 4,
    "start_time": "2022-06-28T05:06:59.336Z"
   },
   {
    "duration": 5,
    "start_time": "2022-06-28T05:09:22.795Z"
   },
   {
    "duration": 6,
    "start_time": "2022-06-28T05:09:46.842Z"
   },
   {
    "duration": 4,
    "start_time": "2022-06-28T05:09:59.812Z"
   },
   {
    "duration": 6,
    "start_time": "2022-06-28T05:10:00.472Z"
   },
   {
    "duration": 3,
    "start_time": "2022-06-28T05:10:13.243Z"
   },
   {
    "duration": 39812,
    "start_time": "2022-06-28T05:10:23.583Z"
   },
   {
    "duration": 34,
    "start_time": "2022-06-28T05:11:04.982Z"
   },
   {
    "duration": 6469,
    "start_time": "2022-06-28T05:11:06.162Z"
   },
   {
    "duration": 4,
    "start_time": "2022-06-28T05:11:12.633Z"
   },
   {
    "duration": 126943,
    "start_time": "2022-06-28T05:11:18.201Z"
   },
   {
    "duration": 4,
    "start_time": "2022-06-28T05:13:25.151Z"
   },
   {
    "duration": 115374,
    "start_time": "2022-06-28T05:13:25.158Z"
   },
   {
    "duration": 11,
    "start_time": "2022-06-28T05:15:20.536Z"
   },
   {
    "duration": 48504,
    "start_time": "2022-06-28T05:15:48.545Z"
   },
   {
    "duration": 80,
    "start_time": "2022-06-28T05:16:37.055Z"
   },
   {
    "duration": 214,
    "start_time": "2022-06-28T05:16:50.012Z"
   },
   {
    "duration": 8,
    "start_time": "2022-06-28T05:16:50.314Z"
   },
   {
    "duration": 239,
    "start_time": "2022-06-28T05:16:55.881Z"
   },
   {
    "duration": 9,
    "start_time": "2022-06-28T05:16:56.889Z"
   },
   {
    "duration": 5828,
    "start_time": "2022-06-28T05:16:59.912Z"
   },
   {
    "duration": 8,
    "start_time": "2022-06-28T05:17:05.742Z"
   },
   {
    "duration": 4,
    "start_time": "2022-06-28T05:19:06.003Z"
   },
   {
    "duration": 3,
    "start_time": "2022-06-28T05:19:07.842Z"
   },
   {
    "duration": 15,
    "start_time": "2022-06-28T05:19:08.482Z"
   },
   {
    "duration": 4,
    "start_time": "2022-06-28T05:19:40.880Z"
   },
   {
    "duration": 3,
    "start_time": "2022-06-28T05:19:41.732Z"
   },
   {
    "duration": 4,
    "start_time": "2022-06-28T05:19:42.152Z"
   },
   {
    "duration": 4,
    "start_time": "2022-06-28T05:19:56.560Z"
   },
   {
    "duration": 2,
    "start_time": "2022-06-28T05:19:57.640Z"
   },
   {
    "duration": 3,
    "start_time": "2022-06-28T05:19:58.863Z"
   },
   {
    "duration": 3,
    "start_time": "2022-06-28T05:19:59.261Z"
   },
   {
    "duration": 4,
    "start_time": "2022-06-28T05:19:59.649Z"
   },
   {
    "duration": 3,
    "start_time": "2022-06-28T05:20:00.652Z"
   },
   {
    "duration": 3,
    "start_time": "2022-06-28T05:20:01.321Z"
   },
   {
    "duration": 659,
    "start_time": "2022-06-28T05:20:03.887Z"
   },
   {
    "duration": 7,
    "start_time": "2022-06-28T05:20:04.548Z"
   },
   {
    "duration": 37,
    "start_time": "2022-06-28T05:20:05.041Z"
   },
   {
    "duration": 32,
    "start_time": "2022-06-28T05:20:06.072Z"
   },
   {
    "duration": 212,
    "start_time": "2022-06-28T05:20:06.841Z"
   },
   {
    "duration": 7,
    "start_time": "2022-06-28T05:20:07.319Z"
   },
   {
    "duration": 5,
    "start_time": "2022-06-28T05:20:07.981Z"
   },
   {
    "duration": 2,
    "start_time": "2022-06-28T05:20:10.572Z"
   },
   {
    "duration": 25,
    "start_time": "2022-06-28T05:20:11.100Z"
   },
   {
    "duration": 3,
    "start_time": "2022-06-28T05:20:15.679Z"
   },
   {
    "duration": 2,
    "start_time": "2022-06-28T05:20:16.492Z"
   },
   {
    "duration": 2,
    "start_time": "2022-06-28T05:20:17.651Z"
   },
   {
    "duration": 32,
    "start_time": "2022-06-28T05:20:18.643Z"
   },
   {
    "duration": 3,
    "start_time": "2022-06-28T05:20:19.901Z"
   },
   {
    "duration": 34532,
    "start_time": "2022-06-28T05:20:22.124Z"
   },
   {
    "duration": 16,
    "start_time": "2022-06-28T05:20:58.304Z"
   },
   {
    "duration": 6141,
    "start_time": "2022-06-28T05:20:59.609Z"
   },
   {
    "duration": 5,
    "start_time": "2022-06-28T05:21:05.753Z"
   },
   {
    "duration": 135708,
    "start_time": "2022-06-28T05:21:09.842Z"
   },
   {
    "duration": 3,
    "start_time": "2022-06-28T05:23:25.553Z"
   },
   {
    "duration": 133373,
    "start_time": "2022-06-28T05:23:25.558Z"
   },
   {
    "duration": 4,
    "start_time": "2022-06-28T05:25:38.934Z"
   },
   {
    "duration": 49890,
    "start_time": "2022-06-28T05:25:56.648Z"
   },
   {
    "duration": 10,
    "start_time": "2022-06-28T05:26:46.540Z"
   },
   {
    "duration": 2,
    "start_time": "2022-06-28T05:28:42.820Z"
   },
   {
    "duration": 5,
    "start_time": "2022-06-28T05:32:54.382Z"
   },
   {
    "duration": 3,
    "start_time": "2022-06-28T05:32:55.571Z"
   },
   {
    "duration": 2,
    "start_time": "2022-06-28T05:32:56.911Z"
   },
   {
    "duration": 2,
    "start_time": "2022-06-28T05:32:57.342Z"
   },
   {
    "duration": 4,
    "start_time": "2022-06-28T05:32:58.559Z"
   },
   {
    "duration": 3,
    "start_time": "2022-06-28T05:32:59.921Z"
   },
   {
    "duration": 4,
    "start_time": "2022-06-28T05:33:00.751Z"
   },
   {
    "duration": 675,
    "start_time": "2022-06-28T05:33:03.271Z"
   },
   {
    "duration": 8,
    "start_time": "2022-06-28T05:33:03.949Z"
   },
   {
    "duration": 29,
    "start_time": "2022-06-28T05:33:04.364Z"
   },
   {
    "duration": 25,
    "start_time": "2022-06-28T05:33:05.151Z"
   },
   {
    "duration": 206,
    "start_time": "2022-06-28T05:33:05.990Z"
   },
   {
    "duration": 5,
    "start_time": "2022-06-28T05:33:06.791Z"
   },
   {
    "duration": 4,
    "start_time": "2022-06-28T05:33:07.279Z"
   },
   {
    "duration": 2,
    "start_time": "2022-06-28T05:33:10.051Z"
   },
   {
    "duration": 26,
    "start_time": "2022-06-28T05:33:10.633Z"
   },
   {
    "duration": 2,
    "start_time": "2022-06-28T05:33:16.351Z"
   },
   {
    "duration": 3,
    "start_time": "2022-06-28T05:33:17.162Z"
   },
   {
    "duration": 2,
    "start_time": "2022-06-28T05:33:19.721Z"
   },
   {
    "duration": 37,
    "start_time": "2022-06-28T05:33:20.531Z"
   },
   {
    "duration": 2,
    "start_time": "2022-06-28T05:33:21.592Z"
   },
   {
    "duration": 36383,
    "start_time": "2022-06-28T05:33:28.522Z"
   },
   {
    "duration": 2,
    "start_time": "2022-06-28T05:34:04.907Z"
   },
   {
    "duration": 37,
    "start_time": "2022-06-28T05:34:04.910Z"
   },
   {
    "duration": 5896,
    "start_time": "2022-06-28T05:34:04.949Z"
   },
   {
    "duration": 5,
    "start_time": "2022-06-28T05:34:13.221Z"
   },
   {
    "duration": 1892,
    "start_time": "2022-06-28T05:34:19.461Z"
   },
   {
    "duration": 3,
    "start_time": "2022-06-28T05:34:21.355Z"
   },
   {
    "duration": 1900,
    "start_time": "2022-06-28T05:34:21.360Z"
   },
   {
    "duration": 4,
    "start_time": "2022-06-28T05:34:23.262Z"
   },
   {
    "duration": 16,
    "start_time": "2022-06-28T05:34:32.122Z"
   },
   {
    "duration": 6069,
    "start_time": "2022-06-28T05:34:33.480Z"
   },
   {
    "duration": 4,
    "start_time": "2022-06-28T05:34:39.552Z"
   },
   {
    "duration": 3500,
    "start_time": "2022-06-28T05:34:42.642Z"
   },
   {
    "duration": 3,
    "start_time": "2022-06-28T05:34:46.146Z"
   },
   {
    "duration": 3074,
    "start_time": "2022-06-28T05:34:46.151Z"
   },
   {
    "duration": 3,
    "start_time": "2022-06-28T05:34:49.228Z"
   },
   {
    "duration": 14,
    "start_time": "2022-06-28T05:35:00.143Z"
   },
   {
    "duration": 5962,
    "start_time": "2022-06-28T05:35:01.141Z"
   },
   {
    "duration": 4,
    "start_time": "2022-06-28T05:35:07.105Z"
   },
   {
    "duration": 72630,
    "start_time": "2022-06-28T05:35:07.111Z"
   },
   {
    "duration": 5,
    "start_time": "2022-06-28T05:36:19.744Z"
   },
   {
    "duration": 62881,
    "start_time": "2022-06-28T05:36:19.751Z"
   },
   {
    "duration": 5,
    "start_time": "2022-06-28T05:37:22.634Z"
   },
   {
    "duration": 29027,
    "start_time": "2022-06-28T05:37:28.404Z"
   },
   {
    "duration": 9,
    "start_time": "2022-06-28T05:37:57.433Z"
   },
   {
    "duration": 14,
    "start_time": "2022-06-28T05:38:26.652Z"
   },
   {
    "duration": 6047,
    "start_time": "2022-06-28T05:38:27.720Z"
   },
   {
    "duration": 4,
    "start_time": "2022-06-28T05:38:33.769Z"
   },
   {
    "duration": 33313,
    "start_time": "2022-06-28T05:38:42.945Z"
   },
   {
    "duration": 32,
    "start_time": "2022-06-28T05:39:16.329Z"
   },
   {
    "duration": 15,
    "start_time": "2022-06-28T05:39:29.361Z"
   },
   {
    "duration": 6765,
    "start_time": "2022-06-28T05:39:30.221Z"
   },
   {
    "duration": 8,
    "start_time": "2022-06-28T05:39:36.988Z"
   },
   {
    "duration": 46705,
    "start_time": "2022-06-28T05:39:43.851Z"
   },
   {
    "duration": 91,
    "start_time": "2022-06-28T05:40:30.568Z"
   },
   {
    "duration": 16,
    "start_time": "2022-06-28T05:40:45.400Z"
   },
   {
    "duration": 6550,
    "start_time": "2022-06-28T05:40:46.129Z"
   },
   {
    "duration": 4,
    "start_time": "2022-06-28T05:40:52.681Z"
   },
   {
    "duration": 48297,
    "start_time": "2022-06-28T05:40:59.332Z"
   },
   {
    "duration": 12,
    "start_time": "2022-06-28T05:42:39.821Z"
   },
   {
    "duration": 4,
    "start_time": "2022-06-28T05:43:07.609Z"
   },
   {
    "duration": 3,
    "start_time": "2022-06-28T05:43:08.895Z"
   },
   {
    "duration": 4,
    "start_time": "2022-06-28T05:43:09.671Z"
   },
   {
    "duration": 38005,
    "start_time": "2022-06-28T05:43:53.146Z"
   },
   {
    "duration": 20,
    "start_time": "2022-06-28T05:44:31.153Z"
   },
   {
    "duration": 6488,
    "start_time": "2022-06-28T05:44:31.174Z"
   },
   {
    "duration": 5,
    "start_time": "2022-06-28T05:44:41.551Z"
   },
   {
    "duration": 47888,
    "start_time": "2022-06-28T05:44:45.760Z"
   },
   {
    "duration": 78,
    "start_time": "2022-06-28T05:45:33.653Z"
   },
   {
    "duration": 4,
    "start_time": "2022-06-28T05:45:49.489Z"
   },
   {
    "duration": 30,
    "start_time": "2022-06-28T05:46:01.362Z"
   },
   {
    "duration": 35,
    "start_time": "2022-06-28T05:46:11.151Z"
   },
   {
    "duration": 38708,
    "start_time": "2022-06-28T05:46:15.489Z"
   },
   {
    "duration": 18,
    "start_time": "2022-06-28T05:46:54.200Z"
   },
   {
    "duration": 6854,
    "start_time": "2022-06-28T05:46:54.230Z"
   },
   {
    "duration": 4,
    "start_time": "2022-06-28T05:47:04.428Z"
   },
   {
    "duration": 51594,
    "start_time": "2022-06-28T05:47:08.347Z"
   },
   {
    "duration": 10,
    "start_time": "2022-06-28T05:48:18.160Z"
   },
   {
    "duration": 50677,
    "start_time": "2022-06-28T05:48:39.052Z"
   },
   {
    "duration": 9,
    "start_time": "2022-06-28T05:49:37.070Z"
   },
   {
    "duration": 72937,
    "start_time": "2022-06-28T05:51:07.392Z"
   },
   {
    "duration": 9,
    "start_time": "2022-06-28T05:53:59.981Z"
   },
   {
    "duration": 1275,
    "start_time": "2022-06-28T05:56:33.882Z"
   },
   {
    "duration": 3,
    "start_time": "2022-06-28T05:56:35.159Z"
   },
   {
    "duration": 9,
    "start_time": "2022-06-28T05:56:35.163Z"
   },
   {
    "duration": 9,
    "start_time": "2022-06-28T05:56:35.173Z"
   },
   {
    "duration": 6,
    "start_time": "2022-06-28T05:56:35.183Z"
   },
   {
    "duration": 5,
    "start_time": "2022-06-28T05:56:35.190Z"
   },
   {
    "duration": 1240,
    "start_time": "2022-06-28T05:56:35.196Z"
   },
   {
    "duration": 655,
    "start_time": "2022-06-28T05:56:36.438Z"
   },
   {
    "duration": 8,
    "start_time": "2022-06-28T05:56:37.095Z"
   },
   {
    "duration": 35,
    "start_time": "2022-06-28T05:56:37.105Z"
   },
   {
    "duration": 24,
    "start_time": "2022-06-28T05:56:37.142Z"
   },
   {
    "duration": 501,
    "start_time": "2022-06-28T05:56:37.168Z"
   },
   {
    "duration": 63,
    "start_time": "2022-06-28T05:56:37.671Z"
   },
   {
    "duration": 5,
    "start_time": "2022-06-28T05:56:37.737Z"
   },
   {
    "duration": 7,
    "start_time": "2022-06-28T05:56:37.743Z"
   },
   {
    "duration": 77,
    "start_time": "2022-06-28T05:56:37.752Z"
   },
   {
    "duration": 3,
    "start_time": "2022-06-28T05:56:37.831Z"
   },
   {
    "duration": 7,
    "start_time": "2022-06-28T05:56:37.836Z"
   },
   {
    "duration": 25,
    "start_time": "2022-06-28T05:56:37.845Z"
   },
   {
    "duration": 88,
    "start_time": "2022-06-28T05:56:37.872Z"
   },
   {
    "duration": 3,
    "start_time": "2022-06-28T05:56:37.962Z"
   },
   {
    "duration": 39353,
    "start_time": "2022-06-28T05:56:37.967Z"
   },
   {
    "duration": 11,
    "start_time": "2022-06-28T05:57:17.321Z"
   },
   {
    "duration": 177,
    "start_time": "2022-06-28T05:57:17.333Z"
   },
   {
    "duration": 6584,
    "start_time": "2022-06-28T05:57:17.511Z"
   },
   {
    "duration": 4,
    "start_time": "2022-06-28T05:57:24.097Z"
   },
   {
    "duration": 117036,
    "start_time": "2022-06-28T05:57:24.102Z"
   },
   {
    "duration": 4,
    "start_time": "2022-06-28T05:59:21.140Z"
   },
   {
    "duration": 128597,
    "start_time": "2022-06-28T05:59:21.147Z"
   },
   {
    "duration": 3,
    "start_time": "2022-06-28T06:01:29.746Z"
   },
   {
    "duration": 5,
    "start_time": "2022-06-28T06:01:29.750Z"
   },
   {
    "duration": 7705,
    "start_time": "2022-06-28T06:01:29.757Z"
   },
   {
    "duration": 0,
    "start_time": "2022-06-28T06:01:37.464Z"
   },
   {
    "duration": 0,
    "start_time": "2022-06-28T06:01:37.466Z"
   },
   {
    "duration": 0,
    "start_time": "2022-06-28T06:01:37.467Z"
   },
   {
    "duration": 0,
    "start_time": "2022-06-28T06:01:37.468Z"
   },
   {
    "duration": 0,
    "start_time": "2022-06-28T06:01:37.470Z"
   },
   {
    "duration": 0,
    "start_time": "2022-06-28T06:01:37.470Z"
   },
   {
    "duration": 0,
    "start_time": "2022-06-28T06:01:37.472Z"
   },
   {
    "duration": 0,
    "start_time": "2022-06-28T06:01:37.473Z"
   },
   {
    "duration": 0,
    "start_time": "2022-06-28T06:01:37.474Z"
   },
   {
    "duration": 0,
    "start_time": "2022-06-28T06:01:37.530Z"
   },
   {
    "duration": 0,
    "start_time": "2022-06-28T06:01:37.532Z"
   },
   {
    "duration": 0,
    "start_time": "2022-06-28T06:01:37.533Z"
   },
   {
    "duration": 0,
    "start_time": "2022-06-28T06:01:37.534Z"
   },
   {
    "duration": 0,
    "start_time": "2022-06-28T06:01:37.535Z"
   },
   {
    "duration": 73640,
    "start_time": "2022-06-28T06:01:41.902Z"
   },
   {
    "duration": 90,
    "start_time": "2022-06-28T06:02:55.545Z"
   },
   {
    "duration": 37,
    "start_time": "2022-06-28T06:03:17.523Z"
   },
   {
    "duration": 39498,
    "start_time": "2022-06-28T06:03:25.734Z"
   },
   {
    "duration": 18,
    "start_time": "2022-06-28T06:04:05.238Z"
   },
   {
    "duration": 6791,
    "start_time": "2022-06-28T06:04:05.258Z"
   },
   {
    "duration": 4,
    "start_time": "2022-06-28T06:04:14.992Z"
   },
   {
    "duration": 44736,
    "start_time": "2022-06-28T06:04:26.193Z"
   },
   {
    "duration": 12,
    "start_time": "2022-06-28T06:05:16.134Z"
   },
   {
    "duration": 4,
    "start_time": "2022-06-28T06:07:06.222Z"
   },
   {
    "duration": 3,
    "start_time": "2022-06-28T06:07:07.222Z"
   },
   {
    "duration": 4,
    "start_time": "2022-06-28T06:07:07.882Z"
   },
   {
    "duration": 5,
    "start_time": "2022-06-28T06:07:26.163Z"
   },
   {
    "duration": 4,
    "start_time": "2022-06-28T06:07:40.053Z"
   },
   {
    "duration": 4,
    "start_time": "2022-06-28T06:07:48.023Z"
   },
   {
    "duration": 1290,
    "start_time": "2022-06-28T06:17:54.841Z"
   },
   {
    "duration": 3,
    "start_time": "2022-06-28T06:17:56.133Z"
   },
   {
    "duration": 27,
    "start_time": "2022-06-28T06:17:56.138Z"
   },
   {
    "duration": 7,
    "start_time": "2022-06-28T06:17:56.167Z"
   },
   {
    "duration": 9,
    "start_time": "2022-06-28T06:17:56.177Z"
   },
   {
    "duration": 6,
    "start_time": "2022-06-28T06:17:56.188Z"
   },
   {
    "duration": 780,
    "start_time": "2022-06-28T06:17:56.196Z"
   },
   {
    "duration": 13,
    "start_time": "2022-06-28T06:17:56.978Z"
   },
   {
    "duration": 38,
    "start_time": "2022-06-28T06:17:56.992Z"
   },
   {
    "duration": 33,
    "start_time": "2022-06-28T06:17:57.032Z"
   },
   {
    "duration": 227,
    "start_time": "2022-06-28T06:17:57.067Z"
   },
   {
    "duration": 5,
    "start_time": "2022-06-28T06:17:57.295Z"
   },
   {
    "duration": 5,
    "start_time": "2022-06-28T06:17:57.302Z"
   },
   {
    "duration": 2,
    "start_time": "2022-06-28T06:17:57.309Z"
   },
   {
    "duration": 37,
    "start_time": "2022-06-28T06:17:57.313Z"
   },
   {
    "duration": 2,
    "start_time": "2022-06-28T06:17:57.351Z"
   },
   {
    "duration": 3,
    "start_time": "2022-06-28T06:17:57.356Z"
   },
   {
    "duration": 4,
    "start_time": "2022-06-28T06:17:57.360Z"
   },
   {
    "duration": 29,
    "start_time": "2022-06-28T06:17:57.365Z"
   },
   {
    "duration": 3,
    "start_time": "2022-06-28T06:17:57.398Z"
   },
   {
    "duration": 39342,
    "start_time": "2022-06-28T06:17:57.403Z"
   },
   {
    "duration": 159,
    "start_time": "2022-06-28T06:18:36.747Z"
   },
   {
    "duration": 6824,
    "start_time": "2022-06-28T06:18:36.907Z"
   },
   {
    "duration": 4,
    "start_time": "2022-06-28T06:18:43.733Z"
   },
   {
    "duration": 105197,
    "start_time": "2022-06-28T06:18:43.739Z"
   },
   {
    "duration": 3,
    "start_time": "2022-06-28T06:20:28.938Z"
   },
   {
    "duration": 112510,
    "start_time": "2022-06-28T06:20:28.943Z"
   },
   {
    "duration": 4,
    "start_time": "2022-06-28T06:22:21.529Z"
   },
   {
    "duration": 17,
    "start_time": "2022-06-28T06:22:21.535Z"
   },
   {
    "duration": 186009,
    "start_time": "2022-06-28T06:22:21.553Z"
   },
   {
    "duration": 3,
    "start_time": "2022-06-28T06:25:27.564Z"
   },
   {
    "duration": 7,
    "start_time": "2022-06-28T06:25:27.568Z"
   },
   {
    "duration": 35324,
    "start_time": "2022-06-28T06:25:27.576Z"
   },
   {
    "duration": 4,
    "start_time": "2022-06-28T06:26:02.902Z"
   },
   {
    "duration": 9,
    "start_time": "2022-06-28T06:26:02.907Z"
   },
   {
    "duration": 2942536,
    "start_time": "2022-06-28T06:26:02.918Z"
   },
   {
    "duration": 3,
    "start_time": "2022-06-28T07:15:05.456Z"
   },
   {
    "duration": 45678,
    "start_time": "2022-06-28T07:15:05.461Z"
   },
   {
    "duration": 92,
    "start_time": "2022-06-28T07:15:51.144Z"
   },
   {
    "duration": 3,
    "start_time": "2022-06-28T07:15:51.237Z"
   },
   {
    "duration": 262,
    "start_time": "2022-06-28T07:15:51.243Z"
   },
   {
    "duration": 10,
    "start_time": "2022-06-28T07:15:51.506Z"
   },
   {
    "duration": 5574,
    "start_time": "2022-06-28T07:15:51.517Z"
   },
   {
    "duration": 10,
    "start_time": "2022-06-28T07:15:57.092Z"
   },
   {
    "duration": 8,
    "start_time": "2023-01-30T09:52:55.806Z"
   },
   {
    "duration": 1323,
    "start_time": "2023-01-30T09:52:59.616Z"
   },
   {
    "duration": 4,
    "start_time": "2023-01-30T09:53:23.055Z"
   },
   {
    "duration": 106,
    "start_time": "2023-01-30T09:54:28.506Z"
   },
   {
    "duration": 1350,
    "start_time": "2023-01-30T09:58:49.969Z"
   },
   {
    "duration": 3,
    "start_time": "2023-01-30T09:58:51.321Z"
   },
   {
    "duration": 13,
    "start_time": "2023-01-30T09:58:51.326Z"
   },
   {
    "duration": 8,
    "start_time": "2023-01-30T09:58:51.341Z"
   },
   {
    "duration": 2703,
    "start_time": "2023-01-30T09:58:51.351Z"
   },
   {
    "duration": 13,
    "start_time": "2023-01-30T09:58:54.055Z"
   },
   {
    "duration": 29,
    "start_time": "2023-01-30T09:58:54.070Z"
   },
   {
    "duration": 31,
    "start_time": "2023-01-30T09:58:54.102Z"
   },
   {
    "duration": 250,
    "start_time": "2023-01-30T09:58:54.134Z"
   },
   {
    "duration": 6,
    "start_time": "2023-01-30T09:58:54.385Z"
   },
   {
    "duration": 5,
    "start_time": "2023-01-30T09:58:54.392Z"
   },
   {
    "duration": 401,
    "start_time": "2023-01-30T09:58:54.398Z"
   },
   {
    "duration": 0,
    "start_time": "2023-01-30T09:58:54.802Z"
   },
   {
    "duration": 0,
    "start_time": "2023-01-30T09:58:54.803Z"
   },
   {
    "duration": 0,
    "start_time": "2023-01-30T09:58:54.805Z"
   },
   {
    "duration": 0,
    "start_time": "2023-01-30T09:58:54.807Z"
   },
   {
    "duration": 0,
    "start_time": "2023-01-30T09:58:54.809Z"
   },
   {
    "duration": 0,
    "start_time": "2023-01-30T09:58:54.810Z"
   },
   {
    "duration": 0,
    "start_time": "2023-01-30T09:58:54.812Z"
   },
   {
    "duration": 0,
    "start_time": "2023-01-30T09:58:54.813Z"
   },
   {
    "duration": 0,
    "start_time": "2023-01-30T09:58:54.814Z"
   },
   {
    "duration": 0,
    "start_time": "2023-01-30T09:58:54.815Z"
   },
   {
    "duration": 0,
    "start_time": "2023-01-30T09:58:54.817Z"
   },
   {
    "duration": 0,
    "start_time": "2023-01-30T09:58:54.818Z"
   },
   {
    "duration": 0,
    "start_time": "2023-01-30T09:58:54.819Z"
   },
   {
    "duration": 0,
    "start_time": "2023-01-30T09:58:54.820Z"
   },
   {
    "duration": 0,
    "start_time": "2023-01-30T09:58:54.822Z"
   },
   {
    "duration": 0,
    "start_time": "2023-01-30T09:58:54.823Z"
   },
   {
    "duration": 0,
    "start_time": "2023-01-30T09:58:54.824Z"
   },
   {
    "duration": 0,
    "start_time": "2023-01-30T09:58:54.825Z"
   },
   {
    "duration": 0,
    "start_time": "2023-01-30T09:58:54.825Z"
   },
   {
    "duration": 0,
    "start_time": "2023-01-30T09:58:54.826Z"
   },
   {
    "duration": 0,
    "start_time": "2023-01-30T09:58:54.827Z"
   },
   {
    "duration": 0,
    "start_time": "2023-01-30T09:58:54.828Z"
   },
   {
    "duration": 0,
    "start_time": "2023-01-30T09:58:54.830Z"
   },
   {
    "duration": 0,
    "start_time": "2023-01-30T09:58:54.831Z"
   },
   {
    "duration": 1231,
    "start_time": "2023-01-30T12:31:46.124Z"
   },
   {
    "duration": 2,
    "start_time": "2023-01-30T12:31:47.357Z"
   },
   {
    "duration": 7,
    "start_time": "2023-01-30T12:31:47.361Z"
   },
   {
    "duration": 5,
    "start_time": "2023-01-30T12:31:47.369Z"
   },
   {
    "duration": 856,
    "start_time": "2023-01-30T12:31:47.376Z"
   },
   {
    "duration": 14,
    "start_time": "2023-01-30T12:31:48.233Z"
   },
   {
    "duration": 43,
    "start_time": "2023-01-30T12:31:48.249Z"
   },
   {
    "duration": 25,
    "start_time": "2023-01-30T12:31:48.294Z"
   },
   {
    "duration": 227,
    "start_time": "2023-01-30T12:31:48.321Z"
   },
   {
    "duration": 17,
    "start_time": "2023-01-30T12:31:48.550Z"
   },
   {
    "duration": 5,
    "start_time": "2023-01-30T12:31:48.568Z"
   },
   {
    "duration": 324,
    "start_time": "2023-01-30T12:31:48.575Z"
   },
   {
    "duration": 0,
    "start_time": "2023-01-30T12:31:48.902Z"
   },
   {
    "duration": 0,
    "start_time": "2023-01-30T12:31:48.903Z"
   },
   {
    "duration": 0,
    "start_time": "2023-01-30T12:31:48.905Z"
   },
   {
    "duration": 0,
    "start_time": "2023-01-30T12:31:48.906Z"
   },
   {
    "duration": 0,
    "start_time": "2023-01-30T12:31:48.907Z"
   },
   {
    "duration": 0,
    "start_time": "2023-01-30T12:31:48.909Z"
   },
   {
    "duration": 0,
    "start_time": "2023-01-30T12:31:48.910Z"
   },
   {
    "duration": 0,
    "start_time": "2023-01-30T12:31:48.911Z"
   },
   {
    "duration": 0,
    "start_time": "2023-01-30T12:31:48.912Z"
   },
   {
    "duration": 0,
    "start_time": "2023-01-30T12:31:48.913Z"
   },
   {
    "duration": 0,
    "start_time": "2023-01-30T12:31:48.914Z"
   },
   {
    "duration": 0,
    "start_time": "2023-01-30T12:31:48.916Z"
   },
   {
    "duration": 0,
    "start_time": "2023-01-30T12:31:48.917Z"
   },
   {
    "duration": 0,
    "start_time": "2023-01-30T12:31:48.918Z"
   },
   {
    "duration": 0,
    "start_time": "2023-01-30T12:31:48.920Z"
   },
   {
    "duration": 0,
    "start_time": "2023-01-30T12:31:48.920Z"
   },
   {
    "duration": 0,
    "start_time": "2023-01-30T12:31:48.921Z"
   },
   {
    "duration": 0,
    "start_time": "2023-01-30T12:31:48.923Z"
   },
   {
    "duration": 0,
    "start_time": "2023-01-30T12:31:48.924Z"
   },
   {
    "duration": 0,
    "start_time": "2023-01-30T12:31:48.925Z"
   },
   {
    "duration": 0,
    "start_time": "2023-01-30T12:31:48.926Z"
   },
   {
    "duration": 0,
    "start_time": "2023-01-30T12:31:48.928Z"
   },
   {
    "duration": 0,
    "start_time": "2023-01-30T12:31:48.929Z"
   },
   {
    "duration": 0,
    "start_time": "2023-01-30T12:31:48.929Z"
   },
   {
    "duration": 18,
    "start_time": "2023-01-30T12:33:21.208Z"
   },
   {
    "duration": 25,
    "start_time": "2023-01-30T12:33:24.716Z"
   },
   {
    "duration": 38231,
    "start_time": "2023-01-30T12:33:26.059Z"
   },
   {
    "duration": 193,
    "start_time": "2023-01-30T12:36:41.403Z"
   },
   {
    "duration": 221,
    "start_time": "2023-01-30T12:36:54.212Z"
   },
   {
    "duration": 208,
    "start_time": "2023-01-30T12:37:03.258Z"
   },
   {
    "duration": 1300,
    "start_time": "2023-01-30T12:37:25.056Z"
   },
   {
    "duration": 9,
    "start_time": "2023-01-30T12:37:26.358Z"
   },
   {
    "duration": 3,
    "start_time": "2023-01-30T12:37:26.368Z"
   },
   {
    "duration": 6,
    "start_time": "2023-01-30T12:37:26.373Z"
   },
   {
    "duration": 863,
    "start_time": "2023-01-30T12:37:26.381Z"
   },
   {
    "duration": 21,
    "start_time": "2023-01-30T12:37:27.246Z"
   },
   {
    "duration": 29,
    "start_time": "2023-01-30T12:37:27.269Z"
   },
   {
    "duration": 33,
    "start_time": "2023-01-30T12:37:27.300Z"
   },
   {
    "duration": 224,
    "start_time": "2023-01-30T12:37:27.335Z"
   },
   {
    "duration": 6,
    "start_time": "2023-01-30T12:37:27.566Z"
   },
   {
    "duration": 5,
    "start_time": "2023-01-30T12:37:27.574Z"
   },
   {
    "duration": 22,
    "start_time": "2023-01-30T12:37:27.580Z"
   },
   {
    "duration": 25,
    "start_time": "2023-01-30T12:37:27.603Z"
   },
   {
    "duration": 6444,
    "start_time": "2023-01-30T12:37:27.629Z"
   },
   {
    "duration": 0,
    "start_time": "2023-01-30T12:37:34.075Z"
   },
   {
    "duration": 0,
    "start_time": "2023-01-30T12:37:34.076Z"
   },
   {
    "duration": 0,
    "start_time": "2023-01-30T12:37:34.077Z"
   },
   {
    "duration": 0,
    "start_time": "2023-01-30T12:37:34.078Z"
   },
   {
    "duration": 0,
    "start_time": "2023-01-30T12:37:34.079Z"
   },
   {
    "duration": 0,
    "start_time": "2023-01-30T12:37:34.080Z"
   },
   {
    "duration": 0,
    "start_time": "2023-01-30T12:37:34.081Z"
   },
   {
    "duration": 0,
    "start_time": "2023-01-30T12:37:34.081Z"
   },
   {
    "duration": 0,
    "start_time": "2023-01-30T12:37:34.082Z"
   },
   {
    "duration": 0,
    "start_time": "2023-01-30T12:37:34.083Z"
   },
   {
    "duration": 0,
    "start_time": "2023-01-30T12:37:34.084Z"
   },
   {
    "duration": 0,
    "start_time": "2023-01-30T12:37:34.085Z"
   },
   {
    "duration": 0,
    "start_time": "2023-01-30T12:37:34.086Z"
   },
   {
    "duration": 0,
    "start_time": "2023-01-30T12:37:34.086Z"
   },
   {
    "duration": 0,
    "start_time": "2023-01-30T12:37:34.087Z"
   },
   {
    "duration": 0,
    "start_time": "2023-01-30T12:37:34.088Z"
   },
   {
    "duration": 0,
    "start_time": "2023-01-30T12:37:34.089Z"
   },
   {
    "duration": 0,
    "start_time": "2023-01-30T12:37:34.090Z"
   },
   {
    "duration": 0,
    "start_time": "2023-01-30T12:37:34.091Z"
   },
   {
    "duration": 0,
    "start_time": "2023-01-30T12:37:34.093Z"
   },
   {
    "duration": 0,
    "start_time": "2023-01-30T12:37:34.094Z"
   },
   {
    "duration": 0,
    "start_time": "2023-01-30T12:37:34.095Z"
   },
   {
    "duration": 1326,
    "start_time": "2023-01-30T12:39:03.437Z"
   },
   {
    "duration": 3,
    "start_time": "2023-01-30T12:39:04.766Z"
   },
   {
    "duration": 15,
    "start_time": "2023-01-30T12:39:04.770Z"
   },
   {
    "duration": 4,
    "start_time": "2023-01-30T12:39:04.787Z"
   },
   {
    "duration": 961,
    "start_time": "2023-01-30T12:39:04.793Z"
   },
   {
    "duration": 18,
    "start_time": "2023-01-30T12:39:05.756Z"
   },
   {
    "duration": 40,
    "start_time": "2023-01-30T12:39:05.776Z"
   },
   {
    "duration": 36,
    "start_time": "2023-01-30T12:39:05.818Z"
   },
   {
    "duration": 235,
    "start_time": "2023-01-30T12:39:05.855Z"
   },
   {
    "duration": 6,
    "start_time": "2023-01-30T12:39:06.093Z"
   },
   {
    "duration": 5,
    "start_time": "2023-01-30T12:39:06.101Z"
   },
   {
    "duration": 27,
    "start_time": "2023-01-30T12:39:06.108Z"
   },
   {
    "duration": 1367,
    "start_time": "2023-01-30T12:39:27.747Z"
   },
   {
    "duration": 2,
    "start_time": "2023-01-30T12:39:29.116Z"
   },
   {
    "duration": 15,
    "start_time": "2023-01-30T12:39:29.120Z"
   },
   {
    "duration": 6,
    "start_time": "2023-01-30T12:39:29.137Z"
   },
   {
    "duration": 975,
    "start_time": "2023-01-30T12:39:29.145Z"
   },
   {
    "duration": 14,
    "start_time": "2023-01-30T12:39:30.122Z"
   },
   {
    "duration": 58,
    "start_time": "2023-01-30T12:39:30.138Z"
   },
   {
    "duration": 45,
    "start_time": "2023-01-30T12:39:30.198Z"
   },
   {
    "duration": 281,
    "start_time": "2023-01-30T12:39:30.244Z"
   },
   {
    "duration": 6,
    "start_time": "2023-01-30T12:39:30.527Z"
   },
   {
    "duration": 38,
    "start_time": "2023-01-30T12:39:30.535Z"
   },
   {
    "duration": 137,
    "start_time": "2023-01-30T12:39:30.575Z"
   },
   {
    "duration": 42732,
    "start_time": "2023-01-30T12:39:30.713Z"
   },
   {
    "duration": 233,
    "start_time": "2023-01-30T12:40:13.447Z"
   },
   {
    "duration": 6342,
    "start_time": "2023-01-30T12:40:13.681Z"
   },
   {
    "duration": 4,
    "start_time": "2023-01-30T12:40:20.025Z"
   },
   {
    "duration": 78544,
    "start_time": "2023-01-30T12:40:20.030Z"
   },
   {
    "duration": 3,
    "start_time": "2023-01-30T12:41:38.576Z"
   },
   {
    "duration": 133293,
    "start_time": "2023-01-30T12:41:38.580Z"
   },
   {
    "duration": 3,
    "start_time": "2023-01-30T12:43:51.875Z"
   },
   {
    "duration": 10,
    "start_time": "2023-01-30T12:43:51.880Z"
   },
   {
    "duration": 203116,
    "start_time": "2023-01-30T12:43:51.892Z"
   },
   {
    "duration": 5,
    "start_time": "2023-01-30T12:47:15.010Z"
   },
   {
    "duration": 34,
    "start_time": "2023-01-30T12:47:15.017Z"
   },
   {
    "duration": 32349,
    "start_time": "2023-01-30T12:47:15.053Z"
   },
   {
    "duration": 3,
    "start_time": "2023-01-30T12:47:47.404Z"
   },
   {
    "duration": 8,
    "start_time": "2023-01-30T12:47:47.409Z"
   },
   {
    "duration": 46,
    "start_time": "2023-02-01T07:23:30.126Z"
   },
   {
    "duration": 1179,
    "start_time": "2023-02-01T07:23:43.293Z"
   },
   {
    "duration": 2,
    "start_time": "2023-02-01T07:23:44.473Z"
   },
   {
    "duration": 7,
    "start_time": "2023-02-01T07:23:44.477Z"
   },
   {
    "duration": 6,
    "start_time": "2023-02-01T07:23:44.485Z"
   },
   {
    "duration": 2345,
    "start_time": "2023-02-01T07:23:44.493Z"
   },
   {
    "duration": 13,
    "start_time": "2023-02-01T07:23:46.839Z"
   },
   {
    "duration": 37,
    "start_time": "2023-02-01T07:23:46.854Z"
   },
   {
    "duration": 27,
    "start_time": "2023-02-01T07:23:46.893Z"
   },
   {
    "duration": 241,
    "start_time": "2023-02-01T07:23:46.922Z"
   },
   {
    "duration": 6,
    "start_time": "2023-02-01T07:23:47.165Z"
   },
   {
    "duration": 6,
    "start_time": "2023-02-01T07:23:47.172Z"
   },
   {
    "duration": 28,
    "start_time": "2023-02-01T07:23:47.180Z"
   },
   {
    "duration": 35234,
    "start_time": "2023-02-01T07:23:47.210Z"
   },
   {
    "duration": 191,
    "start_time": "2023-02-01T07:24:22.447Z"
   },
   {
    "duration": 6090,
    "start_time": "2023-02-01T07:24:22.639Z"
   },
   {
    "duration": 4,
    "start_time": "2023-02-01T07:24:28.731Z"
   },
   {
    "duration": 77506,
    "start_time": "2023-02-01T07:24:28.744Z"
   },
   {
    "duration": 4,
    "start_time": "2023-02-01T07:25:46.251Z"
   },
   {
    "duration": 136202,
    "start_time": "2023-02-01T07:25:46.256Z"
   },
   {
    "duration": 4,
    "start_time": "2023-02-01T07:28:02.460Z"
   },
   {
    "duration": 3,
    "start_time": "2023-02-01T07:28:02.466Z"
   },
   {
    "duration": 199767,
    "start_time": "2023-02-01T07:28:02.471Z"
   },
   {
    "duration": 7,
    "start_time": "2023-02-01T07:31:22.239Z"
   },
   {
    "duration": 9,
    "start_time": "2023-02-01T07:31:22.247Z"
   },
   {
    "duration": 31310,
    "start_time": "2023-02-01T07:31:22.258Z"
   },
   {
    "duration": 4,
    "start_time": "2023-02-01T07:31:53.569Z"
   },
   {
    "duration": 11,
    "start_time": "2023-02-01T07:31:53.575Z"
   },
   {
    "duration": 1265,
    "start_time": "2023-02-01T12:13:43.937Z"
   },
   {
    "duration": 2,
    "start_time": "2023-02-01T12:13:45.203Z"
   },
   {
    "duration": 7,
    "start_time": "2023-02-01T12:13:45.206Z"
   },
   {
    "duration": 6,
    "start_time": "2023-02-01T12:13:45.215Z"
   },
   {
    "duration": 3632,
    "start_time": "2023-02-01T12:13:45.223Z"
   },
   {
    "duration": 14,
    "start_time": "2023-02-01T12:13:48.856Z"
   },
   {
    "duration": 31,
    "start_time": "2023-02-01T12:13:48.872Z"
   },
   {
    "duration": 37,
    "start_time": "2023-02-01T12:13:48.905Z"
   },
   {
    "duration": 269,
    "start_time": "2023-02-01T12:13:48.944Z"
   },
   {
    "duration": 5,
    "start_time": "2023-02-01T12:13:49.215Z"
   },
   {
    "duration": 33,
    "start_time": "2023-02-01T12:13:49.221Z"
   },
   {
    "duration": 50,
    "start_time": "2023-02-01T12:13:49.255Z"
   },
   {
    "duration": 34570,
    "start_time": "2023-02-01T12:13:49.307Z"
   },
   {
    "duration": 141,
    "start_time": "2023-02-01T12:14:23.879Z"
   },
   {
    "duration": 6273,
    "start_time": "2023-02-01T12:14:24.022Z"
   },
   {
    "duration": 4,
    "start_time": "2023-02-01T12:14:30.297Z"
   },
   {
    "duration": 70246,
    "start_time": "2023-02-01T12:14:30.302Z"
   },
   {
    "duration": 4,
    "start_time": "2023-02-01T12:15:40.549Z"
   },
   {
    "duration": 119082,
    "start_time": "2023-02-01T12:15:40.555Z"
   },
   {
    "duration": 3,
    "start_time": "2023-02-01T12:17:39.639Z"
   },
   {
    "duration": 33,
    "start_time": "2023-02-01T12:17:39.643Z"
   },
   {
    "duration": 162492,
    "start_time": "2023-02-01T12:17:39.677Z"
   },
   {
    "duration": 3,
    "start_time": "2023-02-01T12:20:22.171Z"
   },
   {
    "duration": 24,
    "start_time": "2023-02-01T12:20:22.176Z"
   },
   {
    "duration": 28316,
    "start_time": "2023-02-01T12:20:22.201Z"
   },
   {
    "duration": 3,
    "start_time": "2023-02-01T12:20:50.519Z"
   },
   {
    "duration": 2,
    "start_time": "2023-02-01T12:20:50.537Z"
   },
   {
    "duration": 2707058,
    "start_time": "2023-02-01T12:20:50.542Z"
   },
   {
    "duration": 4,
    "start_time": "2023-02-01T13:05:57.601Z"
   },
   {
    "duration": 318,
    "start_time": "2023-02-01T13:06:37.442Z"
   },
   {
    "duration": 9,
    "start_time": "2023-02-01T13:06:37.761Z"
   },
   {
    "duration": 5115,
    "start_time": "2023-02-01T13:06:37.771Z"
   },
   {
    "duration": 8,
    "start_time": "2023-02-01T13:06:42.888Z"
   },
   {
    "duration": 1311,
    "start_time": "2023-02-07T08:50:13.201Z"
   },
   {
    "duration": 2,
    "start_time": "2023-02-07T08:50:14.514Z"
   },
   {
    "duration": 7,
    "start_time": "2023-02-07T08:50:14.517Z"
   },
   {
    "duration": 12,
    "start_time": "2023-02-07T08:50:14.525Z"
   },
   {
    "duration": 4037,
    "start_time": "2023-02-07T08:50:14.538Z"
   },
   {
    "duration": 12,
    "start_time": "2023-02-07T08:50:18.577Z"
   },
   {
    "duration": 31,
    "start_time": "2023-02-07T08:50:18.590Z"
   },
   {
    "duration": 27,
    "start_time": "2023-02-07T08:50:18.623Z"
   },
   {
    "duration": 225,
    "start_time": "2023-02-07T08:50:18.652Z"
   },
   {
    "duration": 5,
    "start_time": "2023-02-07T08:50:18.880Z"
   },
   {
    "duration": 13,
    "start_time": "2023-02-07T08:50:18.886Z"
   },
   {
    "duration": 44,
    "start_time": "2023-02-07T08:50:18.901Z"
   },
   {
    "duration": 36875,
    "start_time": "2023-02-07T08:50:18.947Z"
   },
   {
    "duration": 225,
    "start_time": "2023-02-07T08:50:55.824Z"
   },
   {
    "duration": 6146,
    "start_time": "2023-02-07T08:50:56.050Z"
   },
   {
    "duration": 4,
    "start_time": "2023-02-07T08:51:02.197Z"
   },
   {
    "duration": 101835,
    "start_time": "2023-02-07T08:51:02.202Z"
   },
   {
    "duration": 3,
    "start_time": "2023-02-07T08:52:44.039Z"
   },
   {
    "duration": 115801,
    "start_time": "2023-02-07T08:52:44.043Z"
   },
   {
    "duration": 3,
    "start_time": "2023-02-07T08:54:39.845Z"
   },
   {
    "duration": 9,
    "start_time": "2023-02-07T08:54:39.849Z"
   },
   {
    "duration": 6,
    "start_time": "2023-02-07T08:54:39.859Z"
   },
   {
    "duration": 119,
    "start_time": "2023-02-07T08:54:39.867Z"
   },
   {
    "duration": 0,
    "start_time": "2023-02-07T08:54:39.988Z"
   },
   {
    "duration": 0,
    "start_time": "2023-02-07T08:54:39.989Z"
   },
   {
    "duration": 0,
    "start_time": "2023-02-07T08:54:39.990Z"
   },
   {
    "duration": 0,
    "start_time": "2023-02-07T08:54:39.991Z"
   },
   {
    "duration": 0,
    "start_time": "2023-02-07T08:54:39.992Z"
   },
   {
    "duration": 0,
    "start_time": "2023-02-07T08:54:39.993Z"
   },
   {
    "duration": 0,
    "start_time": "2023-02-07T08:54:39.994Z"
   },
   {
    "duration": 0,
    "start_time": "2023-02-07T08:54:39.995Z"
   },
   {
    "duration": 0,
    "start_time": "2023-02-07T08:54:39.996Z"
   },
   {
    "duration": 0,
    "start_time": "2023-02-07T08:54:39.997Z"
   },
   {
    "duration": 0,
    "start_time": "2023-02-07T08:54:39.999Z"
   },
   {
    "duration": 0,
    "start_time": "2023-02-07T08:54:39.999Z"
   },
   {
    "duration": 2,
    "start_time": "2023-02-07T08:55:29.849Z"
   },
   {
    "duration": 43668,
    "start_time": "2023-02-07T08:55:38.069Z"
   },
   {
    "duration": 99,
    "start_time": "2023-02-07T08:56:21.740Z"
   },
   {
    "duration": 1233,
    "start_time": "2023-02-07T08:57:16.471Z"
   },
   {
    "duration": 3,
    "start_time": "2023-02-07T08:57:17.706Z"
   },
   {
    "duration": 6,
    "start_time": "2023-02-07T08:57:17.710Z"
   },
   {
    "duration": 6,
    "start_time": "2023-02-07T08:57:17.717Z"
   },
   {
    "duration": 782,
    "start_time": "2023-02-07T08:57:17.724Z"
   },
   {
    "duration": 12,
    "start_time": "2023-02-07T08:57:18.508Z"
   },
   {
    "duration": 41,
    "start_time": "2023-02-07T08:57:18.522Z"
   },
   {
    "duration": 26,
    "start_time": "2023-02-07T08:57:18.564Z"
   },
   {
    "duration": 229,
    "start_time": "2023-02-07T08:57:18.591Z"
   },
   {
    "duration": 5,
    "start_time": "2023-02-07T08:57:18.822Z"
   },
   {
    "duration": 4,
    "start_time": "2023-02-07T08:57:18.836Z"
   },
   {
    "duration": 28,
    "start_time": "2023-02-07T08:57:18.841Z"
   },
   {
    "duration": 40091,
    "start_time": "2023-02-07T08:57:18.870Z"
   },
   {
    "duration": 213,
    "start_time": "2023-02-07T08:57:58.963Z"
   },
   {
    "duration": 6167,
    "start_time": "2023-02-07T08:57:59.178Z"
   },
   {
    "duration": 3,
    "start_time": "2023-02-07T08:58:05.347Z"
   },
   {
    "duration": 35637,
    "start_time": "2023-02-07T08:58:05.352Z"
   },
   {
    "duration": 0,
    "start_time": "2023-02-07T08:58:40.991Z"
   },
   {
    "duration": 0,
    "start_time": "2023-02-07T08:58:40.992Z"
   },
   {
    "duration": 1,
    "start_time": "2023-02-07T08:58:40.994Z"
   },
   {
    "duration": 0,
    "start_time": "2023-02-07T08:58:40.996Z"
   },
   {
    "duration": 0,
    "start_time": "2023-02-07T08:58:40.997Z"
   },
   {
    "duration": 0,
    "start_time": "2023-02-07T08:58:40.998Z"
   },
   {
    "duration": 0,
    "start_time": "2023-02-07T08:58:40.999Z"
   },
   {
    "duration": 0,
    "start_time": "2023-02-07T08:58:41.001Z"
   },
   {
    "duration": 0,
    "start_time": "2023-02-07T08:58:41.002Z"
   },
   {
    "duration": 0,
    "start_time": "2023-02-07T08:58:41.003Z"
   },
   {
    "duration": 0,
    "start_time": "2023-02-07T08:58:41.004Z"
   },
   {
    "duration": 0,
    "start_time": "2023-02-07T08:58:41.005Z"
   },
   {
    "duration": 0,
    "start_time": "2023-02-07T08:58:41.007Z"
   },
   {
    "duration": 0,
    "start_time": "2023-02-07T08:58:41.008Z"
   },
   {
    "duration": 0,
    "start_time": "2023-02-07T08:58:41.009Z"
   },
   {
    "duration": 0,
    "start_time": "2023-02-07T08:58:41.010Z"
   },
   {
    "duration": 0,
    "start_time": "2023-02-07T08:58:41.011Z"
   },
   {
    "duration": 0,
    "start_time": "2023-02-07T08:58:41.012Z"
   },
   {
    "duration": 41427,
    "start_time": "2023-02-07T08:58:53.310Z"
   },
   {
    "duration": 11,
    "start_time": "2023-02-07T08:59:34.740Z"
   },
   {
    "duration": 1327,
    "start_time": "2023-02-07T09:00:03.248Z"
   },
   {
    "duration": 2,
    "start_time": "2023-02-07T09:00:04.577Z"
   },
   {
    "duration": 8,
    "start_time": "2023-02-07T09:00:04.581Z"
   },
   {
    "duration": 6,
    "start_time": "2023-02-07T09:00:04.590Z"
   },
   {
    "duration": 783,
    "start_time": "2023-02-07T09:00:04.598Z"
   },
   {
    "duration": 14,
    "start_time": "2023-02-07T09:00:05.382Z"
   },
   {
    "duration": 40,
    "start_time": "2023-02-07T09:00:05.397Z"
   },
   {
    "duration": 33,
    "start_time": "2023-02-07T09:00:05.438Z"
   },
   {
    "duration": 236,
    "start_time": "2023-02-07T09:00:05.472Z"
   },
   {
    "duration": 5,
    "start_time": "2023-02-07T09:00:05.710Z"
   },
   {
    "duration": 12,
    "start_time": "2023-02-07T09:00:05.716Z"
   },
   {
    "duration": 36,
    "start_time": "2023-02-07T09:00:05.729Z"
   },
   {
    "duration": 37249,
    "start_time": "2023-02-07T09:00:05.767Z"
   },
   {
    "duration": 229,
    "start_time": "2023-02-07T09:00:43.018Z"
   },
   {
    "duration": 6144,
    "start_time": "2023-02-07T09:00:43.248Z"
   },
   {
    "duration": 4,
    "start_time": "2023-02-07T09:00:49.393Z"
   },
   {
    "duration": 6,
    "start_time": "2023-02-07T09:00:49.398Z"
   },
   {
    "duration": 6,
    "start_time": "2023-02-07T09:00:49.405Z"
   },
   {
    "duration": 9,
    "start_time": "2023-02-07T09:00:49.412Z"
   },
   {
    "duration": 6,
    "start_time": "2023-02-07T09:00:49.423Z"
   },
   {
    "duration": 10,
    "start_time": "2023-02-07T09:00:49.431Z"
   },
   {
    "duration": 7,
    "start_time": "2023-02-07T09:00:49.442Z"
   },
   {
    "duration": 6,
    "start_time": "2023-02-07T09:00:49.450Z"
   },
   {
    "duration": 8,
    "start_time": "2023-02-07T09:00:49.457Z"
   },
   {
    "duration": 8,
    "start_time": "2023-02-07T09:00:49.466Z"
   },
   {
    "duration": 10,
    "start_time": "2023-02-07T09:00:49.475Z"
   },
   {
    "duration": 11,
    "start_time": "2023-02-07T09:00:49.486Z"
   },
   {
    "duration": 8,
    "start_time": "2023-02-07T09:00:49.498Z"
   },
   {
    "duration": 12,
    "start_time": "2023-02-07T09:00:49.508Z"
   },
   {
    "duration": 42427,
    "start_time": "2023-02-07T09:00:49.521Z"
   },
   {
    "duration": 96,
    "start_time": "2023-02-07T09:01:31.950Z"
   },
   {
    "duration": 4,
    "start_time": "2023-02-07T09:01:32.048Z"
   },
   {
    "duration": 13,
    "start_time": "2023-02-07T09:01:32.053Z"
   },
   {
    "duration": 13,
    "start_time": "2023-02-07T09:01:32.068Z"
   },
   {
    "duration": 13,
    "start_time": "2023-02-07T09:01:32.083Z"
   },
   {
    "duration": 1293,
    "start_time": "2023-02-07T09:10:58.811Z"
   },
   {
    "duration": 2,
    "start_time": "2023-02-07T09:11:00.106Z"
   },
   {
    "duration": 15,
    "start_time": "2023-02-07T09:11:00.109Z"
   },
   {
    "duration": 9,
    "start_time": "2023-02-07T09:11:00.126Z"
   },
   {
    "duration": 793,
    "start_time": "2023-02-07T09:11:00.138Z"
   },
   {
    "duration": 14,
    "start_time": "2023-02-07T09:11:00.933Z"
   },
   {
    "duration": 44,
    "start_time": "2023-02-07T09:11:00.949Z"
   },
   {
    "duration": 38,
    "start_time": "2023-02-07T09:11:00.995Z"
   },
   {
    "duration": 233,
    "start_time": "2023-02-07T09:11:01.035Z"
   },
   {
    "duration": 7,
    "start_time": "2023-02-07T09:11:01.270Z"
   },
   {
    "duration": 12,
    "start_time": "2023-02-07T09:11:01.278Z"
   },
   {
    "duration": 39,
    "start_time": "2023-02-07T09:11:01.292Z"
   },
   {
    "duration": 36046,
    "start_time": "2023-02-07T09:11:01.337Z"
   },
   {
    "duration": 216,
    "start_time": "2023-02-07T09:11:37.386Z"
   },
   {
    "duration": 6162,
    "start_time": "2023-02-07T09:11:37.604Z"
   },
   {
    "duration": 3,
    "start_time": "2023-02-07T09:11:43.768Z"
   },
   {
    "duration": 95776,
    "start_time": "2023-02-07T09:11:43.773Z"
   },
   {
    "duration": 89,
    "start_time": "2023-02-07T09:13:19.550Z"
   },
   {
    "duration": 104799,
    "start_time": "2023-02-07T09:13:19.640Z"
   },
   {
    "duration": 3,
    "start_time": "2023-02-07T09:15:04.441Z"
   },
   {
    "duration": 5,
    "start_time": "2023-02-07T09:15:04.445Z"
   },
   {
    "duration": 170823,
    "start_time": "2023-02-07T09:15:04.452Z"
   },
   {
    "duration": 4,
    "start_time": "2023-02-07T09:17:55.277Z"
   },
   {
    "duration": 20,
    "start_time": "2023-02-07T09:17:55.282Z"
   },
   {
    "duration": 29686,
    "start_time": "2023-02-07T09:17:55.304Z"
   },
   {
    "duration": 4,
    "start_time": "2023-02-07T09:18:24.991Z"
   },
   {
    "duration": 7,
    "start_time": "2023-02-07T09:18:24.996Z"
   },
   {
    "duration": 2804434,
    "start_time": "2023-02-07T09:18:25.004Z"
   },
   {
    "duration": 4,
    "start_time": "2023-02-07T10:05:09.440Z"
   },
   {
    "duration": 42093,
    "start_time": "2023-02-07T10:05:09.445Z"
   },
   {
    "duration": 99,
    "start_time": "2023-02-07T10:05:51.539Z"
   },
   {
    "duration": 226,
    "start_time": "2023-02-07T10:05:51.640Z"
   },
   {
    "duration": 14,
    "start_time": "2023-02-07T10:05:51.868Z"
   },
   {
    "duration": 5826,
    "start_time": "2023-02-07T10:05:51.883Z"
   },
   {
    "duration": 9,
    "start_time": "2023-02-07T10:05:57.711Z"
   }
  ],
  "kernelspec": {
   "display_name": "Python 3 (ipykernel)",
   "language": "python",
   "name": "python3"
  },
  "language_info": {
   "codemirror_mode": {
    "name": "ipython",
    "version": 3
   },
   "file_extension": ".py",
   "mimetype": "text/x-python",
   "name": "python",
   "nbconvert_exporter": "python",
   "pygments_lexer": "ipython3",
   "version": "3.9.5"
  },
  "toc": {
   "base_numbering": 1,
   "nav_menu": {},
   "number_sections": true,
   "sideBar": true,
   "skip_h1_title": true,
   "title_cell": "Содержание",
   "title_sidebar": "Contents",
   "toc_cell": true,
   "toc_position": {
    "height": "calc(100% - 180px)",
    "left": "10px",
    "top": "150px",
    "width": "165px"
   },
   "toc_section_display": true,
   "toc_window_display": true
  }
 },
 "nbformat": 4,
 "nbformat_minor": 2
}
